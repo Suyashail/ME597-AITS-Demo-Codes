{
  "nbformat": 4,
  "nbformat_minor": 0,
  "metadata": {
    "colab": {
      "name": "K-means.ipynb",
      "provenance": [],
      "collapsed_sections": []
    },
    "kernelspec": {
      "name": "python3",
      "display_name": "Python 3"
    }
  },
  "cells": [
    {
      "cell_type": "markdown",
      "metadata": {
        "id": "QEv6ud7MfqzO"
      },
      "source": [
        "In this demo exercise, we will be performing cluster analysis using K-Means clustering. \n",
        "\n",
        "We will be using the Numenta Anomaly Benchmark (NAB) dataset for this demo. The Numenta Anomaly Benchmark (NAB) is a novel benchmark for evaluating algorithms for anomaly detection in streaming, online applications. The NAB corpus consists of 58 real world and artifical timeseries data. We will specifically be using the \"machine_temperature_system_failure.csv\" dataset to detect any anomaly in the measurement of the temeprature of an internal component of a large, industrial mahcine.\n",
        "\n",
        "All the datasets are available here: https://github.com/numenta/NAB/tree/master/data\n",
        "\n",
        " Our task is to perform anomaly detection on the dataset using K-Means clustering and predict if a new observation recorded by the sensor is normal or not. "
      ]
    },
    {
      "cell_type": "code",
      "metadata": {
        "id": "TSswzPD2sF--"
      },
      "source": [
        "# import the necessary libraries\n",
        "import numpy as np\n",
        "import matplotlib.pyplot as plt\n",
        "import pandas as pd\n",
        "import seaborn as sns\n",
        "import sklearn"
      ],
      "execution_count": 1,
      "outputs": []
    },
    {
      "cell_type": "code",
      "metadata": {
        "id": "W7o5bAbgxNS4",
        "outputId": "edebdcfd-4e07-4a1b-f0cc-5bf3b73cd89c",
        "colab": {
          "base_uri": "https://localhost:8080/",
          "height": 204
        }
      },
      "source": [
        "#load the dataset and print the first 5 rows\n",
        "df = pd.read_csv(\"/content/drive/My Drive/machine_temperature_system_failure.csv\")\n",
        "df.head()\n",
        "\n",
        "#the measurements are taken at an interval of 5 minutes"
      ],
      "execution_count": 2,
      "outputs": [
        {
          "output_type": "execute_result",
          "data": {
            "text/html": [
              "<div>\n",
              "<style scoped>\n",
              "    .dataframe tbody tr th:only-of-type {\n",
              "        vertical-align: middle;\n",
              "    }\n",
              "\n",
              "    .dataframe tbody tr th {\n",
              "        vertical-align: top;\n",
              "    }\n",
              "\n",
              "    .dataframe thead th {\n",
              "        text-align: right;\n",
              "    }\n",
              "</style>\n",
              "<table border=\"1\" class=\"dataframe\">\n",
              "  <thead>\n",
              "    <tr style=\"text-align: right;\">\n",
              "      <th></th>\n",
              "      <th>timestamp</th>\n",
              "      <th>value</th>\n",
              "    </tr>\n",
              "  </thead>\n",
              "  <tbody>\n",
              "    <tr>\n",
              "      <th>0</th>\n",
              "      <td>2013-12-02 21:15:00</td>\n",
              "      <td>73.967322</td>\n",
              "    </tr>\n",
              "    <tr>\n",
              "      <th>1</th>\n",
              "      <td>2013-12-02 21:20:00</td>\n",
              "      <td>74.935882</td>\n",
              "    </tr>\n",
              "    <tr>\n",
              "      <th>2</th>\n",
              "      <td>2013-12-02 21:25:00</td>\n",
              "      <td>76.124162</td>\n",
              "    </tr>\n",
              "    <tr>\n",
              "      <th>3</th>\n",
              "      <td>2013-12-02 21:30:00</td>\n",
              "      <td>78.140707</td>\n",
              "    </tr>\n",
              "    <tr>\n",
              "      <th>4</th>\n",
              "      <td>2013-12-02 21:35:00</td>\n",
              "      <td>79.329836</td>\n",
              "    </tr>\n",
              "  </tbody>\n",
              "</table>\n",
              "</div>"
            ],
            "text/plain": [
              "             timestamp      value\n",
              "0  2013-12-02 21:15:00  73.967322\n",
              "1  2013-12-02 21:20:00  74.935882\n",
              "2  2013-12-02 21:25:00  76.124162\n",
              "3  2013-12-02 21:30:00  78.140707\n",
              "4  2013-12-02 21:35:00  79.329836"
            ]
          },
          "metadata": {
            "tags": []
          },
          "execution_count": 2
        }
      ]
    },
    {
      "cell_type": "code",
      "metadata": {
        "id": "WhlWQnkGBm4-",
        "outputId": "74c47484-c45a-437c-aeba-823b06b39031",
        "colab": {
          "base_uri": "https://localhost:8080/",
          "height": 170
        }
      },
      "source": [
        "#get information about the dataset\n",
        "df.info()"
      ],
      "execution_count": 3,
      "outputs": [
        {
          "output_type": "stream",
          "text": [
            "<class 'pandas.core.frame.DataFrame'>\n",
            "RangeIndex: 22695 entries, 0 to 22694\n",
            "Data columns (total 2 columns):\n",
            " #   Column     Non-Null Count  Dtype  \n",
            "---  ------     --------------  -----  \n",
            " 0   timestamp  22695 non-null  object \n",
            " 1   value      22695 non-null  float64\n",
            "dtypes: float64(1), object(1)\n",
            "memory usage: 354.7+ KB\n"
          ],
          "name": "stdout"
        }
      ]
    },
    {
      "cell_type": "code",
      "metadata": {
        "id": "KO9b9GseCAKH",
        "outputId": "846be185-0bb2-432b-c1d1-3e398d55ab2f",
        "colab": {
          "base_uri": "https://localhost:8080/",
          "height": 51
        }
      },
      "source": [
        "#print the mean and standard deviation of temperature\n",
        "print(\"mean temperature: \",df['value'].mean())\n",
        "print(\"standard deviation: \",df['value'].std())"
      ],
      "execution_count": 4,
      "outputs": [
        {
          "output_type": "stream",
          "text": [
            "mean temperature:  85.92649821067992\n",
            "standard deviation:  13.746912473090113\n"
          ],
          "name": "stdout"
        }
      ]
    },
    {
      "cell_type": "code",
      "metadata": {
        "id": "Lkvq-uVgi8I-"
      },
      "source": [
        "# true anomaly points in the dataset.\n",
        "# these can be obtained from : https://github.com/numenta/NAB/blob/master/labels/combined_windows.json\n",
        "\n",
        "#we will use these anomaly points to compare the clustering results with original results. Anomaly occured 4 times, each spanning\n",
        "# a total of 2 days.\n",
        "\n",
        "anomaly_points = [\n",
        "        [\"2013-12-10 06:25:00.000000\",\"2013-12-12 05:35:00.000000\"],  #start time, end time\n",
        "        [\"2013-12-15 17:50:00.000000\",\"2013-12-17 17:00:00.000000\"],\n",
        "        [\"2014-01-27 14:20:00.000000\",\"2014-01-29 13:30:00.000000\"],\n",
        "        [\"2014-02-07 14:55:00.000000\",\"2014-02-09 14:05:00.000000\"]\n",
        "]"
      ],
      "execution_count": 5,
      "outputs": []
    },
    {
      "cell_type": "markdown",
      "metadata": {
        "id": "a42U4PaXfwOC"
      },
      "source": [
        "# Data Preparation"
      ]
    },
    {
      "cell_type": "code",
      "metadata": {
        "id": "nCQJUhPPktDc",
        "outputId": "cddb6d14-e3c6-4084-cc51-0bac2259343d",
        "colab": {
          "base_uri": "https://localhost:8080/",
          "height": 51
        }
      },
      "source": [
        "#convert the timestamp column from type object to type datetime. Datetime sets the input argument into a format from which\n",
        "#we can extract important information like day, date, year, time etc.\n",
        "\n",
        "print(\"type before converting: \",df['timestamp'].dtype)\n",
        "df['timestamp']=pd.to_datetime(df['timestamp'])   #use pd.to_datetime() to convert the column into type datetime\n",
        "print(\"type before converting: \",df['timestamp'].dtype)\n",
        "\n",
        "df['year'] = df['timestamp'].dt.year    #get year (2013,2014)\n",
        "df['month'] = df['timestamp'].dt.month  #get month (1-12)\n",
        "df['day'] = df['timestamp'].dt.day      #get day (1-31)\n",
        "df['hour'] = df['timestamp'].dt.hour    # get hour (0-24)\n",
        "df['minute'] = df['timestamp'].dt.minute  #get minute (0-60)"
      ],
      "execution_count": 6,
      "outputs": [
        {
          "output_type": "stream",
          "text": [
            "type before converting:  object\n",
            "type before converting:  datetime64[ns]\n"
          ],
          "name": "stdout"
        }
      ]
    },
    {
      "cell_type": "code",
      "metadata": {
        "id": "zewTvnH-lyrj",
        "outputId": "4f5bea96-0cbb-448d-855d-007ecc672e98",
        "colab": {
          "base_uri": "https://localhost:8080/",
          "height": 204
        }
      },
      "source": [
        "df.head()"
      ],
      "execution_count": 7,
      "outputs": [
        {
          "output_type": "execute_result",
          "data": {
            "text/html": [
              "<div>\n",
              "<style scoped>\n",
              "    .dataframe tbody tr th:only-of-type {\n",
              "        vertical-align: middle;\n",
              "    }\n",
              "\n",
              "    .dataframe tbody tr th {\n",
              "        vertical-align: top;\n",
              "    }\n",
              "\n",
              "    .dataframe thead th {\n",
              "        text-align: right;\n",
              "    }\n",
              "</style>\n",
              "<table border=\"1\" class=\"dataframe\">\n",
              "  <thead>\n",
              "    <tr style=\"text-align: right;\">\n",
              "      <th></th>\n",
              "      <th>timestamp</th>\n",
              "      <th>value</th>\n",
              "      <th>year</th>\n",
              "      <th>month</th>\n",
              "      <th>day</th>\n",
              "      <th>hour</th>\n",
              "      <th>minute</th>\n",
              "    </tr>\n",
              "  </thead>\n",
              "  <tbody>\n",
              "    <tr>\n",
              "      <th>0</th>\n",
              "      <td>2013-12-02 21:15:00</td>\n",
              "      <td>73.967322</td>\n",
              "      <td>2013</td>\n",
              "      <td>12</td>\n",
              "      <td>2</td>\n",
              "      <td>21</td>\n",
              "      <td>15</td>\n",
              "    </tr>\n",
              "    <tr>\n",
              "      <th>1</th>\n",
              "      <td>2013-12-02 21:20:00</td>\n",
              "      <td>74.935882</td>\n",
              "      <td>2013</td>\n",
              "      <td>12</td>\n",
              "      <td>2</td>\n",
              "      <td>21</td>\n",
              "      <td>20</td>\n",
              "    </tr>\n",
              "    <tr>\n",
              "      <th>2</th>\n",
              "      <td>2013-12-02 21:25:00</td>\n",
              "      <td>76.124162</td>\n",
              "      <td>2013</td>\n",
              "      <td>12</td>\n",
              "      <td>2</td>\n",
              "      <td>21</td>\n",
              "      <td>25</td>\n",
              "    </tr>\n",
              "    <tr>\n",
              "      <th>3</th>\n",
              "      <td>2013-12-02 21:30:00</td>\n",
              "      <td>78.140707</td>\n",
              "      <td>2013</td>\n",
              "      <td>12</td>\n",
              "      <td>2</td>\n",
              "      <td>21</td>\n",
              "      <td>30</td>\n",
              "    </tr>\n",
              "    <tr>\n",
              "      <th>4</th>\n",
              "      <td>2013-12-02 21:35:00</td>\n",
              "      <td>79.329836</td>\n",
              "      <td>2013</td>\n",
              "      <td>12</td>\n",
              "      <td>2</td>\n",
              "      <td>21</td>\n",
              "      <td>35</td>\n",
              "    </tr>\n",
              "  </tbody>\n",
              "</table>\n",
              "</div>"
            ],
            "text/plain": [
              "            timestamp      value  year  month  day  hour  minute\n",
              "0 2013-12-02 21:15:00  73.967322  2013     12    2    21      15\n",
              "1 2013-12-02 21:20:00  74.935882  2013     12    2    21      20\n",
              "2 2013-12-02 21:25:00  76.124162  2013     12    2    21      25\n",
              "3 2013-12-02 21:30:00  78.140707  2013     12    2    21      30\n",
              "4 2013-12-02 21:35:00  79.329836  2013     12    2    21      35"
            ]
          },
          "metadata": {
            "tags": []
          },
          "execution_count": 7
        }
      ]
    },
    {
      "cell_type": "code",
      "metadata": {
        "id": "OoUdZQP5C1j6",
        "outputId": "8faff9cb-60fb-417e-9846-3ef9da3feb6a",
        "colab": {
          "base_uri": "https://localhost:8080/",
          "height": 255
        }
      },
      "source": [
        "#get information about new dataset\n",
        "df.info()"
      ],
      "execution_count": 8,
      "outputs": [
        {
          "output_type": "stream",
          "text": [
            "<class 'pandas.core.frame.DataFrame'>\n",
            "RangeIndex: 22695 entries, 0 to 22694\n",
            "Data columns (total 7 columns):\n",
            " #   Column     Non-Null Count  Dtype         \n",
            "---  ------     --------------  -----         \n",
            " 0   timestamp  22695 non-null  datetime64[ns]\n",
            " 1   value      22695 non-null  float64       \n",
            " 2   year       22695 non-null  int64         \n",
            " 3   month      22695 non-null  int64         \n",
            " 4   day        22695 non-null  int64         \n",
            " 5   hour       22695 non-null  int64         \n",
            " 6   minute     22695 non-null  int64         \n",
            "dtypes: datetime64[ns](1), float64(1), int64(5)\n",
            "memory usage: 1.2 MB\n"
          ],
          "name": "stdout"
        }
      ]
    },
    {
      "cell_type": "code",
      "metadata": {
        "id": "h_tZ8aZDkRbE",
        "outputId": "6de19b9c-37f9-440d-fcf6-92c6114d06bf",
        "colab": {
          "base_uri": "https://localhost:8080/",
          "height": 204
        }
      },
      "source": [
        "# add an extra column in df specifying if measurement has anomaly (1) or not (0)\n",
        "df['anomaly']=0  # if the column specified is not present in the dataframe, it will create a new column\n",
        "df.head()"
      ],
      "execution_count": 9,
      "outputs": [
        {
          "output_type": "execute_result",
          "data": {
            "text/html": [
              "<div>\n",
              "<style scoped>\n",
              "    .dataframe tbody tr th:only-of-type {\n",
              "        vertical-align: middle;\n",
              "    }\n",
              "\n",
              "    .dataframe tbody tr th {\n",
              "        vertical-align: top;\n",
              "    }\n",
              "\n",
              "    .dataframe thead th {\n",
              "        text-align: right;\n",
              "    }\n",
              "</style>\n",
              "<table border=\"1\" class=\"dataframe\">\n",
              "  <thead>\n",
              "    <tr style=\"text-align: right;\">\n",
              "      <th></th>\n",
              "      <th>timestamp</th>\n",
              "      <th>value</th>\n",
              "      <th>year</th>\n",
              "      <th>month</th>\n",
              "      <th>day</th>\n",
              "      <th>hour</th>\n",
              "      <th>minute</th>\n",
              "      <th>anomaly</th>\n",
              "    </tr>\n",
              "  </thead>\n",
              "  <tbody>\n",
              "    <tr>\n",
              "      <th>0</th>\n",
              "      <td>2013-12-02 21:15:00</td>\n",
              "      <td>73.967322</td>\n",
              "      <td>2013</td>\n",
              "      <td>12</td>\n",
              "      <td>2</td>\n",
              "      <td>21</td>\n",
              "      <td>15</td>\n",
              "      <td>0</td>\n",
              "    </tr>\n",
              "    <tr>\n",
              "      <th>1</th>\n",
              "      <td>2013-12-02 21:20:00</td>\n",
              "      <td>74.935882</td>\n",
              "      <td>2013</td>\n",
              "      <td>12</td>\n",
              "      <td>2</td>\n",
              "      <td>21</td>\n",
              "      <td>20</td>\n",
              "      <td>0</td>\n",
              "    </tr>\n",
              "    <tr>\n",
              "      <th>2</th>\n",
              "      <td>2013-12-02 21:25:00</td>\n",
              "      <td>76.124162</td>\n",
              "      <td>2013</td>\n",
              "      <td>12</td>\n",
              "      <td>2</td>\n",
              "      <td>21</td>\n",
              "      <td>25</td>\n",
              "      <td>0</td>\n",
              "    </tr>\n",
              "    <tr>\n",
              "      <th>3</th>\n",
              "      <td>2013-12-02 21:30:00</td>\n",
              "      <td>78.140707</td>\n",
              "      <td>2013</td>\n",
              "      <td>12</td>\n",
              "      <td>2</td>\n",
              "      <td>21</td>\n",
              "      <td>30</td>\n",
              "      <td>0</td>\n",
              "    </tr>\n",
              "    <tr>\n",
              "      <th>4</th>\n",
              "      <td>2013-12-02 21:35:00</td>\n",
              "      <td>79.329836</td>\n",
              "      <td>2013</td>\n",
              "      <td>12</td>\n",
              "      <td>2</td>\n",
              "      <td>21</td>\n",
              "      <td>35</td>\n",
              "      <td>0</td>\n",
              "    </tr>\n",
              "  </tbody>\n",
              "</table>\n",
              "</div>"
            ],
            "text/plain": [
              "            timestamp      value  year  month  day  hour  minute  anomaly\n",
              "0 2013-12-02 21:15:00  73.967322  2013     12    2    21      15        0\n",
              "1 2013-12-02 21:20:00  74.935882  2013     12    2    21      20        0\n",
              "2 2013-12-02 21:25:00  76.124162  2013     12    2    21      25        0\n",
              "3 2013-12-02 21:30:00  78.140707  2013     12    2    21      30        0\n",
              "4 2013-12-02 21:35:00  79.329836  2013     12    2    21      35        0"
            ]
          },
          "metadata": {
            "tags": []
          },
          "execution_count": 9
        }
      ]
    },
    {
      "cell_type": "code",
      "metadata": {
        "id": "PlG1PJpsma1a",
        "outputId": "da18ff7e-b3bf-47e8-ae27-8c3359f56829",
        "colab": {
          "base_uri": "https://localhost:8080/",
          "height": 68
        }
      },
      "source": [
        "#set all anomaly points=1 \n",
        "for start,end in anomaly_points:  #get the starting and ending time of anomaly\n",
        "   df.loc[((df['timestamp'] >= start) & (df['timestamp'] <= end)), 'anomaly'] = 1   #for all observations > start time and < end time, set df['anomaly']=1\n",
        "\n",
        "df['anomaly'].value_counts()  #get the count of anomaly observations "
      ],
      "execution_count": 10,
      "outputs": [
        {
          "output_type": "execute_result",
          "data": {
            "text/plain": [
              "0    20427\n",
              "1     2268\n",
              "Name: anomaly, dtype: int64"
            ]
          },
          "metadata": {
            "tags": []
          },
          "execution_count": 10
        }
      ]
    },
    {
      "cell_type": "code",
      "metadata": {
        "id": "UAAd1yfLow8u"
      },
      "source": [
        "# change fahrenheit to °C \n",
        "df['value'] = (df['value'] - 32) * 5/9"
      ],
      "execution_count": 11,
      "outputs": []
    },
    {
      "cell_type": "markdown",
      "metadata": {
        "id": "8_HJSngNuZ1P"
      },
      "source": [
        "# Data visualization"
      ]
    },
    {
      "cell_type": "code",
      "metadata": {
        "id": "RX54Gty0aQot",
        "outputId": "325d15d1-fb29-4b38-fbec-b31b6e2d6f74",
        "colab": {
          "base_uri": "https://localhost:8080/",
          "height": 514
        }
      },
      "source": [
        "# plot the data- time series of temperature and scatterplot of anomaly observations\n",
        "df.plot(x='timestamp', y='value',title='Machine Temp', figsize=(10,8))\n",
        "\n",
        "anomaly_timestamp=df['timestamp'][df['anomaly']==1] #pick all timestamp values for which anomaly=1\n",
        "anomaly_value=df['value'][df['anomaly']==1] #pick all temperatures for which anomaly=1\n",
        "plt.scatter(anomaly_timestamp,anomaly_value,c='red') "
      ],
      "execution_count": 12,
      "outputs": [
        {
          "output_type": "execute_result",
          "data": {
            "text/plain": [
              "<matplotlib.collections.PathCollection at 0x7fc874fb3b70>"
            ]
          },
          "metadata": {
            "tags": []
          },
          "execution_count": 12
        },
        {
          "output_type": "display_data",
          "data": {
            "image/png": "[encoded data removed]",
            "text/plain": [
              "<Figure size 720x576 with 1 Axes>"
            ]
          },
          "metadata": {
            "tags": [],
            "needs_background": "light"
          }
        }
      ]
    },
    {
      "cell_type": "code",
      "metadata": {
        "id": "2Y-04CYcoo7W",
        "outputId": "d08d4acc-11e5-4f5c-e966-eadf834519f9",
        "colab": {
          "base_uri": "https://localhost:8080/",
          "height": 351
        }
      },
      "source": [
        "#visualize the distribution of temperature in 2013 and 2014 using histogram\n",
        "\n",
        "plt.figure(figsize=(10,5))\n",
        "plt.subplot(1,2,1)\n",
        "plt.hist(df[\"value\"][df[\"year\"]==2013],edgecolor=\"black\") #all temperature values for which \"year\"=2013\n",
        "plt.xlabel(\"temperature in 2013('C)\")\n",
        "plt.ylabel(\"count\")\n",
        "\n",
        "plt.subplot(1,2,2)\n",
        "plt.hist(df[\"value\"][df[\"year\"]==2014],edgecolor=\"black\") #all temperature values for which \"year\"=2014\n",
        "plt.xlabel(\"temperature in 2014('C)\")\n",
        "plt.ylabel(\"count\")"
      ],
      "execution_count": 13,
      "outputs": [
        {
          "output_type": "execute_result",
          "data": {
            "text/plain": [
              "Text(0, 0.5, 'count')"
            ]
          },
          "metadata": {
            "tags": []
          },
          "execution_count": 13
        },
        {
          "output_type": "display_data",
          "data": {
            "image/png": "[encoded data removed]",
            "text/plain": [
              "<Figure size 720x360 with 2 Axes>"
            ]
          },
          "metadata": {
            "tags": [],
            "needs_background": "light"
          }
        }
      ]
    },
    {
      "cell_type": "markdown",
      "metadata": {
        "id": "MK-_-lsAvXC6"
      },
      "source": [
        "create new dataset"
      ]
    },
    {
      "cell_type": "code",
      "metadata": {
        "id": "XVqdUmNju6DD",
        "outputId": "de655d12-2f9e-4376-89c5-6fbde5e04523",
        "colab": {
          "base_uri": "https://localhost:8080/",
          "height": 204
        }
      },
      "source": [
        "#create a new dataframe and drop the columns 'timestamp' and 'anomaly'\n",
        "data = df.drop('timestamp',axis=1)  #drop timestamp\n",
        "data.drop('anomaly',axis=1,inplace=True)  #drop anomaly \n",
        "\n",
        "data.head()"
      ],
      "execution_count": 14,
      "outputs": [
        {
          "output_type": "execute_result",
          "data": {
            "text/html": [
              "<div>\n",
              "<style scoped>\n",
              "    .dataframe tbody tr th:only-of-type {\n",
              "        vertical-align: middle;\n",
              "    }\n",
              "\n",
              "    .dataframe tbody tr th {\n",
              "        vertical-align: top;\n",
              "    }\n",
              "\n",
              "    .dataframe thead th {\n",
              "        text-align: right;\n",
              "    }\n",
              "</style>\n",
              "<table border=\"1\" class=\"dataframe\">\n",
              "  <thead>\n",
              "    <tr style=\"text-align: right;\">\n",
              "      <th></th>\n",
              "      <th>value</th>\n",
              "      <th>year</th>\n",
              "      <th>month</th>\n",
              "      <th>day</th>\n",
              "      <th>hour</th>\n",
              "      <th>minute</th>\n",
              "    </tr>\n",
              "  </thead>\n",
              "  <tbody>\n",
              "    <tr>\n",
              "      <th>0</th>\n",
              "      <td>23.315179</td>\n",
              "      <td>2013</td>\n",
              "      <td>12</td>\n",
              "      <td>2</td>\n",
              "      <td>21</td>\n",
              "      <td>15</td>\n",
              "    </tr>\n",
              "    <tr>\n",
              "      <th>1</th>\n",
              "      <td>23.853268</td>\n",
              "      <td>2013</td>\n",
              "      <td>12</td>\n",
              "      <td>2</td>\n",
              "      <td>21</td>\n",
              "      <td>20</td>\n",
              "    </tr>\n",
              "    <tr>\n",
              "      <th>2</th>\n",
              "      <td>24.513423</td>\n",
              "      <td>2013</td>\n",
              "      <td>12</td>\n",
              "      <td>2</td>\n",
              "      <td>21</td>\n",
              "      <td>25</td>\n",
              "    </tr>\n",
              "    <tr>\n",
              "      <th>3</th>\n",
              "      <td>25.633726</td>\n",
              "      <td>2013</td>\n",
              "      <td>12</td>\n",
              "      <td>2</td>\n",
              "      <td>21</td>\n",
              "      <td>30</td>\n",
              "    </tr>\n",
              "    <tr>\n",
              "      <th>4</th>\n",
              "      <td>26.294353</td>\n",
              "      <td>2013</td>\n",
              "      <td>12</td>\n",
              "      <td>2</td>\n",
              "      <td>21</td>\n",
              "      <td>35</td>\n",
              "    </tr>\n",
              "  </tbody>\n",
              "</table>\n",
              "</div>"
            ],
            "text/plain": [
              "       value  year  month  day  hour  minute\n",
              "0  23.315179  2013     12    2    21      15\n",
              "1  23.853268  2013     12    2    21      20\n",
              "2  24.513423  2013     12    2    21      25\n",
              "3  25.633726  2013     12    2    21      30\n",
              "4  26.294353  2013     12    2    21      35"
            ]
          },
          "metadata": {
            "tags": []
          },
          "execution_count": 14
        }
      ]
    },
    {
      "cell_type": "markdown",
      "metadata": {
        "id": "ku9VRy9EvjNn"
      },
      "source": [
        "# Dimensionality Reduction"
      ]
    },
    {
      "cell_type": "code",
      "metadata": {
        "id": "yw8dphnMnOR8"
      },
      "source": [
        "# scale the inputs using StandardScaler function\n",
        "\n",
        "from sklearn.preprocessing import StandardScaler\n",
        "min_max_scaler = StandardScaler() #define an instance of StandardScaler\n",
        "np_scaled = min_max_scaler.fit_transform(data)  #scale the dataframe\n",
        "data = pd.DataFrame(np_scaled)  #convert the scaled input to a DataFrame variable"
      ],
      "execution_count": 15,
      "outputs": []
    },
    {
      "cell_type": "code",
      "metadata": {
        "id": "nVvhrhNEnP79"
      },
      "source": [
        "# we wish to visualize the clusters formed after k-means clustering, so we will reduce the dimensionality of the input\n",
        "# using PCA.\n",
        "from sklearn.decomposition import PCA #import the PCA function from sklearn\n",
        "\n",
        "# reduce to 2 importants features\n",
        "pca = PCA(n_components=2)\n",
        "data = pca.fit_transform(data)  #find the two principal components corresponding to the two highest eigen values and project the input data onto those components\n",
        "\n",
        "\n",
        "# standardize these 2 new features\n",
        "min_max_scaler = StandardScaler()\n",
        "np_scaled = min_max_scaler.fit_transform(data)\n",
        "data = pd.DataFrame(np_scaled)"
      ],
      "execution_count": 16,
      "outputs": []
    },
    {
      "cell_type": "markdown",
      "metadata": {
        "id": "jI1P6XwdvoJZ"
      },
      "source": [
        "# Clustering using K-Means"
      ]
    },
    {
      "cell_type": "code",
      "metadata": {
        "id": "C_jfNaQ9wszV",
        "outputId": "b5973220-ebdf-4470-8d29-ce7f18c65a5c",
        "colab": {
          "base_uri": "https://localhost:8080/",
          "height": 296
        }
      },
      "source": [
        "# calculate with different number of centroids to generate the sum of squares plot\n",
        "from sklearn.cluster import KMeans\n",
        "\n",
        "scores=[]   #define an empty list to store the sum of squares for each K value\n",
        "for i in range(1,20): # select K value from 1 to 20\n",
        "  k_means = KMeans(n_clusters=i,n_init=10,max_iter=300,random_state=48)  #define the KMeans instance\n",
        "  '''\n",
        "  n_clusters = number of clusters (K)\n",
        "  n_init = number of times to run the KMeans algorithm. The best iteration is selected based on least sum of squares value\n",
        "  max_iter = maximum number of iterations for the KMeans algorithm before stopping\n",
        "  '''\n",
        "\n",
        "  k_means.fit(data)   # form the clusters\n",
        "  scores.append(k_means.inertia_) #k_means.inertia_ returns the sum of square of distance of data points from the cluster center\n",
        "\n",
        "#plot the scores vs K\n",
        "plt.plot(scores)\n",
        "plt.xlabel('number of clusters (K)')\n",
        "plt.ylabel('sum of squares')"
      ],
      "execution_count": 17,
      "outputs": [
        {
          "output_type": "execute_result",
          "data": {
            "text/plain": [
              "Text(0, 0.5, 'sum of squares')"
            ]
          },
          "metadata": {
            "tags": []
          },
          "execution_count": 17
        },
        {
          "output_type": "display_data",
          "data": {
            "image/png": "[encoded data removed]",
            "text/plain": [
              "<Figure size 432x288 with 1 Axes>"
            ]
          },
          "metadata": {
            "tags": [],
            "needs_background": "light"
          }
        }
      ]
    },
    {
      "cell_type": "code",
      "metadata": {
        "id": "Ve040RLgyP0T",
        "outputId": "9d02230d-ffd7-4497-f820-a0731f0209b4",
        "colab": {
          "base_uri": "https://localhost:8080/",
          "height": 289
        }
      },
      "source": [
        "#since the sum of squares is small for values between 12-20, we will try out the model with K=15\n",
        "\n",
        "k_means = KMeans(n_clusters=15,n_init=10,max_iter=300,random_state=48,init='random')  #define the KMeans instance\n",
        "k_means.fit(data)  \n",
        "\n",
        "#create a new column in the dataframe 'data' with elements as the respective clusters\n",
        "df['cluster']=k_means.predict(data)\n",
        "df['cluster'].value_counts()  #get the number of elements in each cluster"
      ],
      "execution_count": 18,
      "outputs": [
        {
          "output_type": "execute_result",
          "data": {
            "text/plain": [
              "2     3117\n",
              "0     2989\n",
              "7     2329\n",
              "8     1896\n",
              "11    1860\n",
              "1     1833\n",
              "12    1556\n",
              "13    1442\n",
              "14    1160\n",
              "5     1137\n",
              "3      907\n",
              "10     799\n",
              "6      710\n",
              "4      563\n",
              "9      397\n",
              "Name: cluster, dtype: int64"
            ]
          },
          "metadata": {
            "tags": []
          },
          "execution_count": 18
        }
      ]
    },
    {
      "cell_type": "code",
      "metadata": {
        "id": "CA6xKt5FxmDR"
      },
      "source": [
        "# add the reduced dimensions to the original dataframe 'df'\n",
        "df['principal_feature1'] = data[0]  #first principal component\n",
        "df['principal_feature2'] = data[1]  #second principal component"
      ],
      "execution_count": 19,
      "outputs": []
    },
    {
      "cell_type": "code",
      "metadata": {
        "id": "EZy9C9Qryg4J",
        "outputId": "79e210f4-e4b1-463e-f43e-d6cc1522a697",
        "colab": {
          "base_uri": "https://localhost:8080/",
          "height": 296
        }
      },
      "source": [
        "#plot the different clusters with the 2 main features\n",
        "# to read and understand lambda function: https://www.w3schools.com/python/python_lambda.asp\n",
        "\n",
        "colors = {0:'red', 1:'blue', 2:'green', 3:'pink', 4:'black', 5:'orange', 6:'cyan'\n",
        "          , 7:'yellow', 8:'brown', 9:'purple', 10:'white', 11: 'grey', 12:'lightblue',13:'lightgreen',14:'darkgrey'}\n",
        "plt.scatter(df['principal_feature1'], df['principal_feature2'], c=df[\"cluster\"].apply(lambda x: colors[x]))\n",
        "plt.xlabel(\"PC1\")\n",
        "plt.ylabel(\"PC2\")"
      ],
      "execution_count": 20,
      "outputs": [
        {
          "output_type": "execute_result",
          "data": {
            "text/plain": [
              "Text(0, 0.5, 'PC2')"
            ]
          },
          "metadata": {
            "tags": []
          },
          "execution_count": 20
        },
        {
          "output_type": "display_data",
          "data": {
            "image/png": "[encoded data removed]",
            "text/plain": [
              "<Figure size 432x288 with 1 Axes>"
            ]
          },
          "metadata": {
            "tags": [],
            "needs_background": "light"
          }
        }
      ]
    },
    {
      "cell_type": "markdown",
      "metadata": {
        "id": "oounuFi7wqBi"
      },
      "source": [
        "# Predicting Anomaly in the data"
      ]
    },
    {
      "cell_type": "code",
      "metadata": {
        "id": "pewHmdHEzT5n"
      },
      "source": [
        "#define a function to get the distance of all the points from their cluster centers.\n",
        "def getDistanceByPoint(data, model):\n",
        "    distance = []   #define an empty list to store the distances\n",
        "    for i in range(0,len(data)):  \n",
        "        Xa = np.array(data.loc[i])  #get the ith row\n",
        "        Xb = model.cluster_centers_[model.labels_[i]-1] #get the predicted cluster center of the ith row\n",
        "        distance.append(np.linalg.norm(Xa-Xb))  #find the euclidean distance using numpy's norm function\n",
        "    distance=pd.Series(distance)  #store the distances in the list\n",
        "    return distance   #return the list "
      ],
      "execution_count": 21,
      "outputs": []
    },
    {
      "cell_type": "code",
      "metadata": {
        "id": "7rlOdtguzRz-"
      },
      "source": [
        "# get the distance between each point and its nearest centroid. The biggest distances are considered as anomaly\n",
        "distance = getDistanceByPoint(data, k_means)\n",
        "# we generally do not know the number of outlier points (anomalies) for a given dataset. But for the purpose of demonstration \n",
        "# we will assume that there are 2000 outlier points \n",
        "number_of_outliers = 2000\n",
        "\n",
        "#get the 2000 largest distances from the list and find out the minimum of them. We will use this distance as the threshold.\n",
        "threshold = distance.nlargest(number_of_outliers).min() \n",
        "\n",
        "#create a new column 'anomaly' in the dataframe 'df'. \n",
        "# (distance >=threshold ---> anomaly (1), distance < threshold ---> normal(0))\n",
        "df['anomaly'] = (distance >= threshold).astype(int)"
      ],
      "execution_count": 22,
      "outputs": []
    },
    {
      "cell_type": "code",
      "metadata": {
        "id": "uW9BO44z0Fr3",
        "outputId": "1dde3c50-822a-4c22-8700-52a281c96262",
        "colab": {
          "base_uri": "https://localhost:8080/",
          "height": 282
        }
      },
      "source": [
        "# visualize the anomaly points on the reduced dimensional data\n",
        "colors = {0:'blue', 1:'red'}\n",
        "plt.scatter(df['principal_feature1'], df['principal_feature2'], c=df[\"anomaly\"].apply(lambda x: colors[x]))"
      ],
      "execution_count": 23,
      "outputs": [
        {
          "output_type": "execute_result",
          "data": {
            "text/plain": [
              "<matplotlib.collections.PathCollection at 0x7fc86cc37e48>"
            ]
          },
          "metadata": {
            "tags": []
          },
          "execution_count": 23
        },
        {
          "output_type": "display_data",
          "data": {
            "image/png": "[encoded data removed]",
            "text/plain": [
              "<Figure size 432x288 with 1 Axes>"
            ]
          },
          "metadata": {
            "tags": [],
            "needs_background": "light"
          }
        }
      ]
    },
    {
      "cell_type": "code",
      "metadata": {
        "id": "2OXCZzlQ0PTh",
        "outputId": "4ee23042-bc73-48e0-e340-c4f62d048382",
        "colab": {
          "base_uri": "https://localhost:8080/",
          "height": 530
        }
      },
      "source": [
        "# visualisation of anomaly on the time series plot\n",
        "a = df.loc[df['anomaly'] == 1, ['timestamp', 'value']] #create a new dataframe with timestamp and temperature value which are predicted as anomaly\n",
        "plt.figure(figsize=(10,8))\n",
        "plt.plot(df['timestamp'], df['value'], color='blue')  #plot the time series\n",
        "plt.scatter(a['timestamp'],a['value'], color='red')   #plot the anomaly points\n",
        "plt.xlabel(\"timestamp\")\n",
        "plt.ylabel(\"temperature\")\n",
        "plt.title(\"machine temp\")"
      ],
      "execution_count": 24,
      "outputs": [
        {
          "output_type": "execute_result",
          "data": {
            "text/plain": [
              "Text(0.5, 1.0, 'machine temp')"
            ]
          },
          "metadata": {
            "tags": []
          },
          "execution_count": 24
        },
        {
          "output_type": "display_data",
          "data": {
            "image/png": "[encoded data removed]",
            "text/plain": [
              "<Figure size 720x576 with 1 Axes>"
            ]
          },
          "metadata": {
            "tags": [],
            "needs_background": "light"
          }
        }
      ]
    },
    {
      "cell_type": "code",
      "metadata": {
        "id": "39mATZLqFF5o"
      },
      "source": [
        ""
      ],
      "execution_count": 24,
      "outputs": []
    },
    {
      "cell_type": "code",
      "metadata": {
        "id": "NQ4ORR55acJF"
      },
      "source": [
        ""
      ],
      "execution_count": 24,
      "outputs": []
    },
    {
      "cell_type": "markdown",
      "metadata": {
        "id": "p-18DnwwwzyT"
      },
      "source": [
        "# Predicting Anomaly in New Observation"
      ]
    },
    {
      "cell_type": "code",
      "metadata": {
        "id": "r4vhmTj9QFQI"
      },
      "source": [
        "# decide if a new observation is an anomaly or not. We will randomly use one observation as the new observation.\n",
        "new_data=data.iloc[[624]]\n",
        "\n",
        "#define a function to get the distance of the test observation to its cluster center\n",
        "def get_test_distance(data,model):\n",
        "  n_cluster = k_means.predict(data) #predict the cluster for the given observation\n",
        "  Xa = data  \n",
        "  Xb = model.cluster_centers_[n_cluster] #get the cluster center for the predicted cluster\n",
        "  distance = np.linalg.norm(Xa-Xb)  #find the euclidean distance using numpy's norm function\n",
        "  return distance \n"
      ],
      "execution_count": 25,
      "outputs": []
    },
    {
      "cell_type": "code",
      "metadata": {
        "id": "6r-BgeNxQQwk",
        "outputId": "c6fd6e9e-048a-46b1-b13d-95a873db6f54",
        "colab": {
          "base_uri": "https://localhost:8080/",
          "height": 34
        }
      },
      "source": [
        "dist = get_test_distance(new_data,k_means)  #call the function\n",
        "if dist > threshold:    #if the distance is greater than the threshold, the observation is anomaly\n",
        "  print(\"anomaly observation\")\n",
        "else:\n",
        "  print(\"normal observation\")"
      ],
      "execution_count": 26,
      "outputs": [
        {
          "output_type": "stream",
          "text": [
            "normal observation\n"
          ],
          "name": "stdout"
        }
      ]
    },
    {
      "cell_type": "code",
      "metadata": {
        "id": "TYjcluL6TGtJ"
      },
      "source": [
        ""
      ],
      "execution_count": 26,
      "outputs": []
    }
  ]
}