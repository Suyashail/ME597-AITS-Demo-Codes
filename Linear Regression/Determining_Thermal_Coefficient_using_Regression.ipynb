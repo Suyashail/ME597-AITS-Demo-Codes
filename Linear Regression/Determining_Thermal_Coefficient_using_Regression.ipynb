{
  "nbformat": 4,
  "nbformat_minor": 0,
  "metadata": {
    "colab": {
      "name": "Determining Thermal Coefficient using Regression.ipynb",
      "provenance": [],
      "collapsed_sections": []
    },
    "kernelspec": {
      "name": "python3",
      "display_name": "Python 3"
    }
  },
  "cells": [
    {
      "cell_type": "markdown",
      "metadata": {
        "id": "7tyxkPVAFljf"
      },
      "source": [
        "### **Data loading and Exploration**"
      ]
    },
    {
      "cell_type": "code",
      "metadata": {
        "id": "gRcY67p19Tg8"
      },
      "source": [
        "#import the necessary libraries\n",
        "import numpy as np\n",
        "import pandas as pd\n",
        "import matplotlib.pyplot as plt\n",
        "import sklearn"
      ],
      "execution_count": null,
      "outputs": []
    },
    {
      "cell_type": "code",
      "metadata": {
        "id": "sfq39P2a91aZ",
        "colab": {
          "base_uri": "https://localhost:8080/",
          "height": 204
        },
        "outputId": "4dad79c9-a7b0-44ed-9a85-ec6e2ba33234"
      },
      "source": [
        "#use pandas to read the data\n",
        "data=pd.read_excel('/content/drive/My Drive/expansion_coeff.xlsx')  #since the data is in .xlsx format use pd.read_excel()\n",
        "data.head() #display the first 5 data values"
      ],
      "execution_count": null,
      "outputs": [
        {
          "output_type": "execute_result",
          "data": {
            "text/html": [
              "<div>\n",
              "<style scoped>\n",
              "    .dataframe tbody tr th:only-of-type {\n",
              "        vertical-align: middle;\n",
              "    }\n",
              "\n",
              "    .dataframe tbody tr th {\n",
              "        vertical-align: top;\n",
              "    }\n",
              "\n",
              "    .dataframe thead th {\n",
              "        text-align: right;\n",
              "    }\n",
              "</style>\n",
              "<table border=\"1\" class=\"dataframe\">\n",
              "  <thead>\n",
              "    <tr style=\"text-align: right;\">\n",
              "      <th></th>\n",
              "      <th>Temperature</th>\n",
              "      <th>Coefficient</th>\n",
              "    </tr>\n",
              "  </thead>\n",
              "  <tbody>\n",
              "    <tr>\n",
              "      <th>0</th>\n",
              "      <td>80</td>\n",
              "      <td>0.000006</td>\n",
              "    </tr>\n",
              "    <tr>\n",
              "      <th>1</th>\n",
              "      <td>60</td>\n",
              "      <td>0.000006</td>\n",
              "    </tr>\n",
              "    <tr>\n",
              "      <th>2</th>\n",
              "      <td>40</td>\n",
              "      <td>0.000006</td>\n",
              "    </tr>\n",
              "    <tr>\n",
              "      <th>3</th>\n",
              "      <td>20</td>\n",
              "      <td>0.000006</td>\n",
              "    </tr>\n",
              "    <tr>\n",
              "      <th>4</th>\n",
              "      <td>0</td>\n",
              "      <td>0.000006</td>\n",
              "    </tr>\n",
              "  </tbody>\n",
              "</table>\n",
              "</div>"
            ],
            "text/plain": [
              "   Temperature  Coefficient\n",
              "0           80     0.000006\n",
              "1           60     0.000006\n",
              "2           40     0.000006\n",
              "3           20     0.000006\n",
              "4            0     0.000006"
            ]
          },
          "metadata": {
            "tags": []
          },
          "execution_count": 2
        }
      ]
    },
    {
      "cell_type": "code",
      "metadata": {
        "id": "ZcKzaWoT-BXp",
        "colab": {
          "base_uri": "https://localhost:8080/",
          "height": 170
        },
        "outputId": "8c7abbae-c605-4877-b4f0-ad80c9b1b1ea"
      },
      "source": [
        "#separate the two columns into dependent and independent variables using the data.iloc[].values\n",
        "#iloc is integer based location indexing for selecting particular rows or columns in the Dataframe. values returns the value of the indexed location\n",
        "X = data.iloc[:, 0:1].values \n",
        "Y = 1e6*data.iloc[:, 1].values\n",
        "n_samples=len(X)  #find total number of samples\n",
        "\n",
        "#some exploration on the dataset\n",
        "print(\"Maximum Temperature: \",X.max())\n",
        "print(\"Minimum Temperature: \",X.min())\n",
        "print(\"Maximum Coefficient: \",Y.max())\n",
        "print(\"Minimum Coefficient: \",Y.min())\n",
        "\n",
        "print(\"Mean Temperature: \",X.mean())\n",
        "print(\"Mean Coefficient: \",Y.mean())\n",
        "\n",
        "#correlation between the input and output\n",
        "print(data.corr())"
      ],
      "execution_count": null,
      "outputs": [
        {
          "output_type": "stream",
          "text": [
            "Maximum Temperature:  80\n",
            "Minimum Temperature:  -340\n",
            "Maximum Coefficient:  6.47\n",
            "Minimum Coefficient:  2.4499999999999997\n",
            "Mean Temperature:  -130.0\n",
            "Mean Coefficient:  4.804545454545455\n",
            "             Temperature  Coefficient\n",
            "Temperature     1.000000     0.989108\n",
            "Coefficient     0.989108     1.000000\n"
          ],
          "name": "stdout"
        }
      ]
    },
    {
      "cell_type": "markdown",
      "metadata": {
        "id": "ghiw-u24Fteg"
      },
      "source": [
        "Split the data into Training and Validation Set. The validation set will be used to validate the performance of the model on unseen data."
      ]
    },
    {
      "cell_type": "code",
      "metadata": {
        "id": "hwVXuDrmDYvW"
      },
      "source": [
        "#split the data into train and validate dataset. Sklearn provides a built in function which splits a given dataset.\n",
        "from sklearn.model_selection import train_test_split\n",
        "X_train, X_test, Y_train, Y_test = train_test_split(X, Y, test_size=0.33,shuffle=False)  #test data will be 33% of the total data\n",
        "train_samples=len(X_train)\n",
        "test_samples=len(X_test)"
      ],
      "execution_count": null,
      "outputs": []
    },
    {
      "cell_type": "code",
      "metadata": {
        "id": "ofFcCusVN2Zn",
        "colab": {
          "base_uri": "https://localhost:8080/",
          "height": 312
        },
        "outputId": "97d0367e-0070-472d-c8b9-3dc2b2185574"
      },
      "source": [
        "#plot the graph between the dependent(y) and independent(x) variables to understand the relationship between them\n",
        "plt.figure()\n",
        "plt.xlabel(\"Temperature\")\n",
        "plt.ylabel(\"Coefficient\")\n",
        "plt.title(\"Graph of Temperature(T) vs Coefficient(alpha)\")\n",
        "plt.scatter(X,Y)"
      ],
      "execution_count": null,
      "outputs": [
        {
          "output_type": "execute_result",
          "data": {
            "text/plain": [
              "<matplotlib.collections.PathCollection at 0x7f0cad3aecc0>"
            ]
          },
          "metadata": {
            "tags": []
          },
          "execution_count": 5
        },
        {
          "output_type": "display_data",
          "data": {
            "image/png": "[encoded data removed]",
            "text/plain": [
              "<Figure size 432x288 with 1 Axes>"
            ]
          },
          "metadata": {
            "tags": [],
            "needs_background": "light"
          }
        }
      ]
    },
    {
      "cell_type": "markdown",
      "metadata": {
        "id": "eq5VgY2nsUah"
      },
      "source": [
        "## **Linear Regression using Least Squares**\n",
        "\n",
        "Use sci-kit learn's built in function LinearRegression to import a pre-built regression model. This model makes use of Least Squares for fitting the data. Least Squares is a numerical method for optimising the parameters of the model."
      ]
    },
    {
      "cell_type": "code",
      "metadata": {
        "id": "iJQBgDGhHOiG"
      },
      "source": [
        "#Fit the Simple Linear Regression Model\n",
        "from sklearn.linear_model import LinearRegression \n",
        "lin_reg = LinearRegression()    #define an instance of the LinearRegression class. \n",
        "lin_reg.fit(X_train, Y_train)               #fit the X and Y datapoints to the model\n",
        "Y_hat=lin_reg.predict(X_train)        #predict the output using the fitted model"
      ],
      "execution_count": null,
      "outputs": []
    },
    {
      "cell_type": "code",
      "metadata": {
        "id": "rd-zOaYoHicJ",
        "colab": {
          "base_uri": "https://localhost:8080/",
          "height": 295
        },
        "outputId": "4095de6b-1e4a-4367-935c-806edb5abde9"
      },
      "source": [
        "# Visualise the Linear Regression Result\n",
        "plt.scatter(X_train, Y_train, color = 'black')\n",
        "plt.plot(X_train, Y_hat, color = 'blue') \n",
        "plt.title('Linear Regression') \n",
        "plt.xlabel('temp')\n",
        "plt.ylabel('expansion coeff(x 10e-6)')\n",
        "plt.show()"
      ],
      "execution_count": null,
      "outputs": [
        {
          "output_type": "display_data",
          "data": {
            "image/png": "[encoded data removed]",
            "text/plain": [
              "<Figure size 432x288 with 1 Axes>"
            ]
          },
          "metadata": {
            "tags": [],
            "needs_background": "light"
          }
        }
      ]
    },
    {
      "cell_type": "markdown",
      "metadata": {
        "id": "JQAjHAFOGlz9"
      },
      "source": [
        "Model Evaluation using R2 value"
      ]
    },
    {
      "cell_type": "code",
      "metadata": {
        "id": "DQ5GlUL1Hul2",
        "colab": {
          "base_uri": "https://localhost:8080/",
          "height": 34
        },
        "outputId": "252429d7-e993-4406-def9-3c34a92e1b69"
      },
      "source": [
        "#evaluation metrics- We will use the R2 value to evaluate the performanc e of the trained model.\n",
        "from sklearn.metrics import r2_score\n",
        "r2_score(Y_train, Y_hat)"
      ],
      "execution_count": null,
      "outputs": [
        {
          "output_type": "execute_result",
          "data": {
            "text/plain": [
              "0.9915546353599576"
            ]
          },
          "metadata": {
            "tags": []
          },
          "execution_count": 101
        }
      ]
    },
    {
      "cell_type": "markdown",
      "metadata": {
        "id": "pa7E7_S0G_Sn"
      },
      "source": [
        "Use the model to predict the output for Validation dataset."
      ]
    },
    {
      "cell_type": "code",
      "metadata": {
        "id": "phcAsQoRG2zf"
      },
      "source": [
        "Y_hat_val= lin_reg.predict(X_test)"
      ],
      "execution_count": null,
      "outputs": []
    },
    {
      "cell_type": "markdown",
      "metadata": {
        "id": "BlBr8l86Gpvp"
      },
      "source": [
        "Model Loss on train and validation data"
      ]
    },
    {
      "cell_type": "code",
      "metadata": {
        "id": "3wyWlaJxtXzz",
        "colab": {
          "base_uri": "https://localhost:8080/",
          "height": 51
        },
        "outputId": "ce8b909c-4db3-4e01-ae4f-8ebcbbb20185"
      },
      "source": [
        "#the cost function used is the Mean Square Error\n",
        "cost_train=np.mean((Y_train-Y_hat)**2)/train_samples\n",
        "print(\"training loss: \",cost_train)\n",
        "\n",
        "cost_val=np.mean((Y_test-Y_hat_val)**2)/test_samples\n",
        "print(\"Validation Loss:\",cost_val)"
      ],
      "execution_count": null,
      "outputs": [
        {
          "output_type": "stream",
          "text": [
            "training loss:  0.00021822157434402416\n",
            "Validation Loss: 0.044294005102040714\n"
          ],
          "name": "stdout"
        }
      ]
    },
    {
      "cell_type": "markdown",
      "metadata": {
        "id": "sMbvKSvuuDmp"
      },
      "source": [
        "## **Polynomial Regression using Least Squares**\n",
        "\n",
        "Now we will build a Polynomial Regression model for the same data. From the visualization of the data it was clear that the relationship between x and y was non-linear. Hence a Polynomial Regression would give a better approximation of the relationship."
      ]
    },
    {
      "cell_type": "code",
      "metadata": {
        "id": "Fg2y7fnJIM1k"
      },
      "source": [
        "from sklearn.preprocessing import PolynomialFeatures\n",
        "#Generate a new feature matrix consisting of all polynomial combinations of the features with degree less than or equal to the specified degree.\n",
        "#For example, if an input sample is two dimensional and of the form [a, b], the degree-2 polynomial features are [1, a, b, a^2, ab, b^2]. \n",
        "\n",
        "poly_reg = PolynomialFeatures(degree = 2) \n",
        "#define an instance of PolynomialFeatures. The argument degree specifies the order of the polynomial desired. \n",
        "X_poly = poly_reg.fit_transform(X_train)      #return the features in the form [1, X, X^2] \n",
        "lin_reg_2 = LinearRegression()          #define an instance of Linear Regression\n",
        "lin_reg_2.fit(X_poly, Y_train)                #fit the new features and Y to get the trained model\n",
        "Y_hat=lin_reg_2.predict(X_poly)         #predict the output "
      ],
      "execution_count": null,
      "outputs": []
    },
    {
      "cell_type": "code",
      "metadata": {
        "id": "lJ3lB2-KIT-u",
        "colab": {
          "base_uri": "https://localhost:8080/",
          "height": 295
        },
        "outputId": "41c3af20-dc39-482e-f1ce-b8fb957ee141"
      },
      "source": [
        "# Visualise the quadratic Polynomial Regression Results\n",
        "plt.scatter(X_train, Y_train, color = 'black')\n",
        "plt.plot(X_train, Y_hat, color = 'blue') \n",
        "plt.title('Polynomial Regression')\n",
        "plt.xlabel('temp')\n",
        "plt.ylabel('expansion coeff')\n",
        "plt.show()"
      ],
      "execution_count": null,
      "outputs": [
        {
          "output_type": "display_data",
          "data": {
            "image/png": "[encoded data removed]",
            "text/plain": [
              "<Figure size 432x288 with 1 Axes>"
            ]
          },
          "metadata": {
            "tags": [],
            "needs_background": "light"
          }
        }
      ]
    },
    {
      "cell_type": "code",
      "metadata": {
        "id": "-WUqNG9mwEjZ",
        "colab": {
          "base_uri": "https://localhost:8080/",
          "height": 34
        },
        "outputId": "b4957069-570c-4dce-a65f-1d8b19f52adf"
      },
      "source": [
        "#evaluation metrics- We will use the R2 value to evaluate the performanc e of the trained model.\n",
        "from sklearn.metrics import r2_score\n",
        "r2_score(Y_train, Y_hat)"
      ],
      "execution_count": null,
      "outputs": [
        {
          "output_type": "execute_result",
          "data": {
            "text/plain": [
              "0.9998190371997895"
            ]
          },
          "metadata": {
            "tags": []
          },
          "execution_count": 106
        }
      ]
    },
    {
      "cell_type": "code",
      "metadata": {
        "id": "PxyJI9WILSVD",
        "colab": {
          "base_uri": "https://localhost:8080/",
          "height": 51
        },
        "outputId": "b6c36d30-1d29-499a-95bc-5a45b0d8f6c9"
      },
      "source": [
        "X_test_poly=poly_reg.fit_transform(X_test) \n",
        "Y_hat_val= lin_reg_2.predict(X_test_poly)\n",
        "#the cost function used is the Mean Square Error\n",
        "cost_train=np.mean((Y_train-Y_hat)**2)/train_samples\n",
        "print(\"training loss: \",cost_train)\n",
        "\n",
        "cost_val=np.mean((Y_test-Y_hat_val)**2)/test_samples\n",
        "print(\"Validation Loss:\",cost_val)"
      ],
      "execution_count": null,
      "outputs": [
        {
          "output_type": "stream",
          "text": [
            "training loss:  4.675936308589409e-06\n",
            "Validation Loss: 0.0023589655536745175\n"
          ],
          "name": "stdout"
        }
      ]
    },
    {
      "cell_type": "markdown",
      "metadata": {
        "id": "k7Uzy9b_yL9f"
      },
      "source": [
        "## **Linear Regression using Gradient Descent**\n",
        "\n",
        "Gradient Descent Algorithm to find the optimum parameters of the regression model. We will be using the pre-built SGDRegressor function which builds a Regression model and optimises using the Stochastic Gradient Descent Algorithm. \n",
        "\n",
        "SGDRegressor takes as argument various inputs. Some of the important ones are listed here:\n",
        "1. loss - specify the loss function to use for optimisation. The possible values are ‘squared_loss’, ‘huber’, ‘epsilon_insensitive’, or ‘squared_epsilon_insensitive’\n",
        "2. penalty - the penalty term to be used for regularisation. The values can be 'l1' or 'l2'\n",
        "3. alpha - the regularisation coefficient. The higher the value, the stronger the regularization. \n",
        "4. learning_rate= Determine the learning rate of the optimisation. 'constant' means a constant learning rate will be used for the entire session. Other options are ‘optimal’, 'invscaling', 'adaptive'.\n",
        "5. eta0 = the learning rate value.\n",
        "6. max_iter - the maximum number of iterations to run.\n",
        "7. tol - the tolerance value. If the loss is below the tolerance value or if the difference between the loss in subsequent iterations is less than the tolerance value, the training will be stopped.\n",
        "\n",
        "An important thing in gradient descent is the normalisation of the input variables. Since input can have a very high and unequal range, it becomes advantageous to normalise the inputs between (0,1). This ensures that extreme inputs do not mess up the model prediction. "
      ]
    },
    {
      "cell_type": "code",
      "metadata": {
        "id": "I6fK_sx_vQcG"
      },
      "source": [
        "from sklearn.linear_model import SGDRegressor\n",
        "from sklearn.pipeline import make_pipeline\n",
        "from sklearn.preprocessing import StandardScaler  #scale the input by subtracting the mean and dividing by the standard deviation.\n",
        "\n",
        "reg = make_pipeline(StandardScaler(),SGDRegressor(loss='squared_loss',penalty='l2', alpha=0.0001,learning_rate='constant', eta0=0.01,max_iter=1000, tol=1e-3))\n",
        "#make pipeline builts a pipeline of commands to be executed one after the other on the same input. Provides a convinient way of defining a flow of commands.\n",
        "#here the input will be first passed through the StandardScalar function and then the output will be passed to the SGDRegressor.\n",
        "\n",
        "reg.fit(X_train, Y_train)   #fit the data to the model\n",
        "Y_hat=reg.predict(X_train)    #predict the output"
      ],
      "execution_count": null,
      "outputs": []
    },
    {
      "cell_type": "code",
      "metadata": {
        "id": "X5n3I9bdwU_b",
        "colab": {
          "base_uri": "https://localhost:8080/",
          "height": 295
        },
        "outputId": "9ca30871-51bd-4353-c363-cb69f9cd1429"
      },
      "source": [
        "# Visualise the Linear Regression Result\n",
        "plt.scatter(X_train, Y_train, color = 'black')\n",
        "plt.plot(X_train, Y_hat, color = 'blue') \n",
        "plt.title('Linear Regression') \n",
        "plt.xlabel('temp')\n",
        "plt.ylabel('expansion coeff')\n",
        "plt.show()"
      ],
      "execution_count": null,
      "outputs": [
        {
          "output_type": "display_data",
          "data": {
            "image/png": "[encoded data removed]",
            "text/plain": [
              "<Figure size 432x288 with 1 Axes>"
            ]
          },
          "metadata": {
            "tags": [],
            "needs_background": "light"
          }
        }
      ]
    },
    {
      "cell_type": "markdown",
      "metadata": {
        "id": "sGpd2WJpKhbk"
      },
      "source": [
        "Model Evaluation and Prediction"
      ]
    },
    {
      "cell_type": "code",
      "metadata": {
        "id": "R4DY1jq6Kbj1",
        "colab": {
          "base_uri": "https://localhost:8080/",
          "height": 34
        },
        "outputId": "9372b9e8-4fc0-4ecc-a6c3-700e0d36fd0d"
      },
      "source": [
        "#evaluation metrics\n",
        "from sklearn.metrics import r2_score\n",
        "r2_score(Y_train, Y_hat)"
      ],
      "execution_count": null,
      "outputs": [
        {
          "output_type": "execute_result",
          "data": {
            "text/plain": [
              "0.9870525483982856"
            ]
          },
          "metadata": {
            "tags": []
          },
          "execution_count": 110
        }
      ]
    },
    {
      "cell_type": "code",
      "metadata": {
        "id": "J98WjCbyFxRU",
        "colab": {
          "base_uri": "https://localhost:8080/",
          "height": 51
        },
        "outputId": "ed2e51af-075f-4cde-946e-597609fbe4a2"
      },
      "source": [
        "#predict the output for T=-100 F and T=100 F\n",
        "p1=reg.predict([[-100]])\n",
        "p2=reg.predict([[100]])\n",
        "\n",
        "print(\"The predicted coefficient at T=-100 F: \",p1*1e-6)\n",
        "print(\"The predicted coefficient at T=100 F: \",p2*1e-6)"
      ],
      "execution_count": null,
      "outputs": [
        {
          "output_type": "stream",
          "text": [
            "The predicted coefficient at T=-100 F:  [5.18349531e-06]\n",
            "The predicted coefficient at T=100 F:  [6.66017623e-06]\n"
          ],
          "name": "stdout"
        }
      ]
    },
    {
      "cell_type": "markdown",
      "metadata": {
        "id": "ZBwDmMfOJ-cc"
      },
      "source": [
        "Model Validation"
      ]
    },
    {
      "cell_type": "code",
      "metadata": {
        "id": "idmiSgpUHbBm",
        "colab": {
          "base_uri": "https://localhost:8080/",
          "height": 51
        },
        "outputId": "48e1c3b3-2fa7-42cf-c2cd-ceb9827e4975"
      },
      "source": [
        "Y_hat_val= reg.predict(X_test)\n",
        "#the cost function used is the Mean Square Error\n",
        "cost_train=np.mean((Y_train-Y_hat)**2)/train_samples\n",
        "print(\"training loss: \",cost_train)\n",
        "\n",
        "cost_val=np.mean((Y_test-Y_hat_val)**2)/test_samples\n",
        "print(\"Validation Loss:\",cost_val)"
      ],
      "execution_count": null,
      "outputs": [
        {
          "output_type": "stream",
          "text": [
            "training loss:  0.0003345519575167761\n",
            "Validation Loss: 0.04050867183166062\n"
          ],
          "name": "stdout"
        }
      ]
    },
    {
      "cell_type": "markdown",
      "metadata": {
        "id": "bN2M_bcdKDdj"
      },
      "source": [
        "Sensitivity Study- Effect of Learning Rate on model performance"
      ]
    },
    {
      "cell_type": "code",
      "metadata": {
        "id": "rT3-2Ov0BmbE",
        "colab": {
          "base_uri": "https://localhost:8080/",
          "height": 468
        },
        "outputId": "9c6ceace-ad74-443e-f13d-144f380b5ccb"
      },
      "source": [
        "loss=[]\n",
        "learning_rate=[1, 0.1, 0.01, 0.001, 0.0001, 0.00001]\n",
        "for lr in learning_rate:\n",
        "  reg = make_pipeline(StandardScaler(),SGDRegressor(loss='squared_loss',penalty='l2', \n",
        "                                                    alpha=0.0001,learning_rate='constant', \n",
        "                                                    eta0=lr, max_iter=1000, tol=1e-3))\n",
        "  reg.fit(X, Y)   #fit the data to the model\n",
        "  Y_hat=reg.predict(X)    #predict the output\n",
        "  loss_value=np.mean((Y-Y_hat)**2)/n_samples\n",
        "  loss.append(loss_value)\n",
        "  print('learning rate='+str(lr) + ', loss='+str(loss_value))\n",
        "plt.figure()\n",
        "plt.plot(learning_rate,loss)\n",
        "plt.xlabel('learning rate')\n",
        "plt.ylabel('loss')\n",
        "plt.title('loss vs learning rate')"
      ],
      "execution_count": null,
      "outputs": [
        {
          "output_type": "stream",
          "text": [
            "learning rate=1, loss=1.4245250058555259\n",
            "learning rate=0.1, loss=0.0016968569679889215\n",
            "learning rate=0.01, loss=0.0014449532666556638\n",
            "learning rate=0.001, loss=0.0030732224361481107\n",
            "learning rate=0.0001, loss=0.021560407193052158\n",
            "learning rate=1e-05, loss=0.7187134800928104\n"
          ],
          "name": "stdout"
        },
        {
          "output_type": "stream",
          "text": [
            "/usr/local/lib/python3.6/dist-packages/sklearn/linear_model/_stochastic_gradient.py:1187: ConvergenceWarning: Maximum number of iteration reached before convergence. Consider increasing max_iter to improve the fit.\n",
            "  ConvergenceWarning)\n"
          ],
          "name": "stderr"
        },
        {
          "output_type": "execute_result",
          "data": {
            "text/plain": [
              "Text(0.5, 1.0, 'loss vs learning rate')"
            ]
          },
          "metadata": {
            "tags": []
          },
          "execution_count": 113
        },
        {
          "output_type": "display_data",
          "data": {
            "image/png": "[encoded data removed]",
            "text/plain": [
              "<Figure size 432x288 with 1 Axes>"
            ]
          },
          "metadata": {
            "tags": [],
            "needs_background": "light"
          }
        }
      ]
    },
    {
      "cell_type": "markdown",
      "metadata": {
        "id": "HoFnoD6Z46_U"
      },
      "source": [
        "## **Polynomial Regression using Gradient Descent**\n",
        "\n",
        "Perform SGD for  Polynomial Regression. We will use the same approach as used before for the Least Square method."
      ]
    },
    {
      "cell_type": "code",
      "metadata": {
        "id": "NzU2OPoUx3B2"
      },
      "source": [
        "poly_reg = PolynomialFeatures(degree = 3)\n",
        "X_poly = poly_reg.fit_transform(X_train)\n",
        "reg = make_pipeline(StandardScaler(),SGDRegressor(loss='squared_loss',penalty='l2', alpha=0.0000001,learning_rate='constant', eta0=0.1,max_iter=1000, tol=1e-3))\n",
        "reg.fit(X_poly, Y_train)\n",
        "Y_hat=reg.predict(X_poly)"
      ],
      "execution_count": null,
      "outputs": []
    },
    {
      "cell_type": "code",
      "metadata": {
        "id": "oKvk_TUCyD5A",
        "colab": {
          "base_uri": "https://localhost:8080/",
          "height": 295
        },
        "outputId": "6f1b938b-26a6-4d6a-fa46-249482c1ce6d"
      },
      "source": [
        "# Visualise the Linear Regression Result\n",
        "plt.scatter(X_train, Y_train, color = 'black')\n",
        "plt.plot(X_train, Y_hat, color = 'blue') \n",
        "plt.title('Polynomial Regression') \n",
        "plt.xlabel('temp')\n",
        "plt.ylabel('expansion coeff')\n",
        "plt.show()"
      ],
      "execution_count": null,
      "outputs": [
        {
          "output_type": "display_data",
          "data": {
            "image/png": "[encoded data removed]",
            "text/plain": [
              "<Figure size 432x288 with 1 Axes>"
            ]
          },
          "metadata": {
            "tags": [],
            "needs_background": "light"
          }
        }
      ]
    },
    {
      "cell_type": "code",
      "metadata": {
        "id": "2EpEg2DDRMXc",
        "colab": {
          "base_uri": "https://localhost:8080/",
          "height": 51
        },
        "outputId": "294f4bcf-4884-4206-bf15-eaf0970d23de"
      },
      "source": [
        "#Validate on test data\n",
        "X_test_poly=poly_reg.fit_transform(X_test) \n",
        "Y_hat_val= reg.predict(X_test_poly)\n",
        "#the cost function used is the Mean Square Error\n",
        "cost_train=np.mean((Y_train-Y_hat)**2)/train_samples\n",
        "print(\"training loss: \",cost_train)\n",
        "\n",
        "cost_val=np.mean((Y_test-Y_hat_val)**2)/test_samples\n",
        "print(\"Validation Loss:\",cost_val)"
      ],
      "execution_count": null,
      "outputs": [
        {
          "output_type": "stream",
          "text": [
            "training loss:  1.3101524622713665e-05\n",
            "Validation Loss: 0.0013940418337579602\n"
          ],
          "name": "stdout"
        }
      ]
    },
    {
      "cell_type": "markdown",
      "metadata": {
        "id": "E-FBtcapKOQJ"
      },
      "source": [
        "Sensitivity Study- Effect of Model order on Performance of Polynomial Regression."
      ]
    },
    {
      "cell_type": "code",
      "metadata": {
        "id": "p_9NXmUc2Khg",
        "colab": {
          "base_uri": "https://localhost:8080/",
          "height": 312
        },
        "outputId": "907da54f-57bb-4c01-d046-64163b925a69"
      },
      "source": [
        "loss=[]\n",
        "order=[1,2,3,4,5,6,7,8,9,10]\n",
        "for model_order in order:\n",
        "  poly_reg = PolynomialFeatures(degree = model_order)\n",
        "  X_poly = poly_reg.fit_transform(X) \n",
        "  reg = make_pipeline(StandardScaler(),SGDRegressor(loss='squared_loss',penalty='l2',\n",
        "                                                    alpha=0.0000001,learning_rate='constant', \n",
        "                                                    eta0=0.1,max_iter=1000, tol=1e-3))\n",
        "  reg.fit(X_poly, Y)\n",
        "  Y_hat=reg.predict(X_poly)\n",
        "  loss_value=np.mean((Y-Y_hat)**2)/n_samples\n",
        "  loss.append(loss_value)\n",
        "\n",
        "plt.plot(order,loss)\n",
        "plt.ylim(0, 1e-4)\n",
        "plt.xlabel(\"model order\")\n",
        "plt.ylabel(\"loss\")\n",
        "plt.title(\"Loss vs model order\")"
      ],
      "execution_count": null,
      "outputs": [
        {
          "output_type": "execute_result",
          "data": {
            "text/plain": [
              "Text(0.5, 1.0, 'Loss vs model order')"
            ]
          },
          "metadata": {
            "tags": []
          },
          "execution_count": 117
        },
        {
          "output_type": "display_data",
          "data": {
            "image/png": "[encoded data removed]",
            "text/plain": [
              "<Figure size 432x288 with 1 Axes>"
            ]
          },
          "metadata": {
            "tags": [],
            "needs_background": "light"
          }
        }
      ]
    }
  ]
}