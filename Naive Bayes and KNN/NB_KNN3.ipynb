{
  "nbformat": 4,
  "nbformat_minor": 0,
  "metadata": {
    "colab": {
      "name": "NB_KNN3.ipynb",
      "provenance": [],
      "collapsed_sections": [],
      "toc_visible": true
    },
    "kernelspec": {
      "name": "python3",
      "display_name": "Python 3"
    }
  },
  "cells": [
    {
      "cell_type": "markdown",
      "metadata": {
        "id": "jUZZtIOTxgHe",
        "colab_type": "text"
      },
      "source": [
        "**Intelligent Ozone Alert Forecasting System**\n",
        "\n",
        "**General Description :** \n",
        "\n",
        "**Role of AI:**    \n",
        "For this Demo Exercise, we will be using the Ozone Level Detection Data Set build by Kun Zhang,Wei Fan and XiaoJing Yuan.  You can find the complete dataset here: \\\\\n",
        "https://archive.ics.uci.edu/ml/datasets/Ozone+Level+Detection\n",
        "\n",
        "The task of this exercise is to determine the level of Ozone in the atmosphere on a given day and time based on sensor data like temperature, humidity, wind speed, precipitation and sea level pressure. \n",
        "The output is a binary variable with 0 standing for low ozone level and 1 standing for high ozone level."
      ]
    },
    {
      "cell_type": "code",
      "metadata": {
        "id": "5mkEGXtozW-L",
        "colab_type": "code",
        "colab": {
          "base_uri": "https://localhost:8080/",
          "height": 34
        },
        "outputId": "e14064e6-5251-4167-87fc-0adf5c83f042"
      },
      "source": [
        "from google.colab import drive\n",
        "drive.mount('/content/drive')"
      ],
      "execution_count": 4,
      "outputs": [
        {
          "output_type": "stream",
          "text": [
            "Mounted at /content/drive\n"
          ],
          "name": "stdout"
        }
      ]
    },
    {
      "cell_type": "code",
      "metadata": {
        "id": "6t0Zm9u9yEKg",
        "colab_type": "code",
        "colab": {}
      },
      "source": [
        "#import the necessary libraries\n",
        "import numpy as np\n",
        "import pandas as pd\n",
        "import matplotlib.pyplot as plt\n",
        "import sklearn\n",
        "import seaborn as sns     \n",
        "# Seaborn is a Python data visualization library based on matplotlib. \n",
        "# It provides a high-level interface for drawing attractive and informative statistical graphics.  \n",
        "# we will use seaborn for visually appealing and interactive plots"
      ],
      "execution_count": 5,
      "outputs": []
    },
    {
      "cell_type": "markdown",
      "metadata": {
        "id": "8Zd2R8Onhi_M",
        "colab_type": "text"
      },
      "source": [
        "# **Understanding the Data and Data Cleaning**"
      ]
    },
    {
      "cell_type": "markdown",
      "metadata": {
        "id": "hq-KTHy1Q04L",
        "colab_type": "text"
      },
      "source": [
        "Dataset Information: \\\\\n",
        "Tx: All features starting with T represent the temperature (Fahrenheit) measured at different times of the day. \\\\\n",
        "WSRx: All features starting with WS represent wind speeds(m/s) at various times. \\\\\n",
        "WSR_PK: peak wind speed\n",
        "\n",
        "WSR_AV: average wind speed\n",
        "\n",
        "T_PK: Peak T \\\\\n",
        "T_AV: Average T \\\\\n",
        "T85:  T at 850 hpa level (or about 1500 m height) \\\\\n",
        "RH85: Relative Humidity at 850 hpa (in percentage) \\\\\n",
        "U85:  (U wind - east-west direction wind at 850 hpa) \\\\\n",
        "V85:  V wind - N-S direction wind at 850 \\\\\n",
        "HT85: Geopotential height at 850 hpa, it is about the same as height at low altitude \\\\\n",
        "T70:  T at 700 hpa level (roughly 3100 m height) \\\\\n",
        "KI:  K-Index. A measure of the thunderstorm potential based on vertical temperature lapse rate, moisture content of the lower atmosphere, and the vertical extent of the moist layer. https://w1.weather.gov/glossary/index.php?letter=k  \\\\\n",
        "TT:  T-Totals. an index used to assess storm strength. http://www.theweatherprediction.com/habyhints/302/   \\\\\n",
        "\n",
        "SLP: Sea level pressure (psi) \\\\\n",
        "SLP_: SLP change from previous day \\\\\n",
        "\n",
        "Precp: precipitation \\\\\n",
        "\n",
        "\n",
        "\n",
        "Output:\n",
        "Result: High Ozone level(1) or Low Ozone level(0)"
      ]
    },
    {
      "cell_type": "code",
      "metadata": {
        "id": "Hf2Wbp4ryoj1",
        "colab_type": "code",
        "colab": {}
      },
      "source": [
        "#load the .csv file using the pandas library. Assign header=0 to set the first row of the data to be the column titles.\n",
        "data = pd.read_csv('/content/drive/My Drive/eighthr.csv',header=0)"
      ],
      "execution_count": 8,
      "outputs": []
    },
    {
      "cell_type": "code",
      "metadata": {
        "id": "d9VmDd5ByzMZ",
        "colab_type": "code",
        "colab": {
          "base_uri": "https://localhost:8080/",
          "height": 224
        },
        "outputId": "2950236e-d729-4e97-8f19-e4bd23d91438"
      },
      "source": [
        "#display the first 5 rows of the data\n",
        "data.head()"
      ],
      "execution_count": 9,
      "outputs": [
        {
          "output_type": "execute_result",
          "data": {
            "text/html": [
              "<div>\n",
              "<style scoped>\n",
              "    .dataframe tbody tr th:only-of-type {\n",
              "        vertical-align: middle;\n",
              "    }\n",
              "\n",
              "    .dataframe tbody tr th {\n",
              "        vertical-align: top;\n",
              "    }\n",
              "\n",
              "    .dataframe thead th {\n",
              "        text-align: right;\n",
              "    }\n",
              "</style>\n",
              "<table border=\"1\" class=\"dataframe\">\n",
              "  <thead>\n",
              "    <tr style=\"text-align: right;\">\n",
              "      <th></th>\n",
              "      <th>Date</th>\n",
              "      <th>WSR0</th>\n",
              "      <th>WSR1</th>\n",
              "      <th>WSR2</th>\n",
              "      <th>WSR3</th>\n",
              "      <th>WSR4</th>\n",
              "      <th>WSR5</th>\n",
              "      <th>WSR6</th>\n",
              "      <th>WSR7</th>\n",
              "      <th>WSR8</th>\n",
              "      <th>WSR9</th>\n",
              "      <th>WSR10</th>\n",
              "      <th>WSR11</th>\n",
              "      <th>WSR12</th>\n",
              "      <th>WSR13</th>\n",
              "      <th>WSR14</th>\n",
              "      <th>WSR15</th>\n",
              "      <th>WSR16</th>\n",
              "      <th>WSR17</th>\n",
              "      <th>WSR18</th>\n",
              "      <th>WSR19</th>\n",
              "      <th>WSR20</th>\n",
              "      <th>WSR21</th>\n",
              "      <th>WSR22</th>\n",
              "      <th>WSR23</th>\n",
              "      <th>WSR_PK</th>\n",
              "      <th>WSR_AV</th>\n",
              "      <th>T0</th>\n",
              "      <th>T1</th>\n",
              "      <th>T2</th>\n",
              "      <th>T3</th>\n",
              "      <th>T4</th>\n",
              "      <th>T5</th>\n",
              "      <th>T6</th>\n",
              "      <th>T7</th>\n",
              "      <th>T8</th>\n",
              "      <th>T9</th>\n",
              "      <th>T10</th>\n",
              "      <th>T11</th>\n",
              "      <th>T12</th>\n",
              "      <th>T13</th>\n",
              "      <th>T14</th>\n",
              "      <th>T15</th>\n",
              "      <th>T16</th>\n",
              "      <th>T17</th>\n",
              "      <th>T18</th>\n",
              "      <th>T19</th>\n",
              "      <th>T20</th>\n",
              "      <th>T21</th>\n",
              "      <th>T22</th>\n",
              "      <th>T23</th>\n",
              "      <th>T_PK</th>\n",
              "      <th>T_AV</th>\n",
              "      <th>T85</th>\n",
              "      <th>RH85</th>\n",
              "      <th>U85</th>\n",
              "      <th>V85</th>\n",
              "      <th>HT85</th>\n",
              "      <th>T70</th>\n",
              "      <th>RH70</th>\n",
              "      <th>U70</th>\n",
              "      <th>V70</th>\n",
              "      <th>HT70</th>\n",
              "      <th>T50</th>\n",
              "      <th>RH50</th>\n",
              "      <th>U50</th>\n",
              "      <th>V50</th>\n",
              "      <th>HT50</th>\n",
              "      <th>KI</th>\n",
              "      <th>TT</th>\n",
              "      <th>SLP</th>\n",
              "      <th>SLP_</th>\n",
              "      <th>Precp</th>\n",
              "      <th>Result</th>\n",
              "    </tr>\n",
              "  </thead>\n",
              "  <tbody>\n",
              "    <tr>\n",
              "      <th>0</th>\n",
              "      <td>1/1/1998</td>\n",
              "      <td>0.8</td>\n",
              "      <td>1.8</td>\n",
              "      <td>2.4</td>\n",
              "      <td>2.1</td>\n",
              "      <td>2</td>\n",
              "      <td>2.1</td>\n",
              "      <td>1.5</td>\n",
              "      <td>1.7</td>\n",
              "      <td>1.9</td>\n",
              "      <td>2.3</td>\n",
              "      <td>3.7</td>\n",
              "      <td>5.5</td>\n",
              "      <td>5.1</td>\n",
              "      <td>5.4</td>\n",
              "      <td>5.4</td>\n",
              "      <td>4.7</td>\n",
              "      <td>4.3</td>\n",
              "      <td>3.5</td>\n",
              "      <td>3.5</td>\n",
              "      <td>2.9</td>\n",
              "      <td>3.2</td>\n",
              "      <td>3.2</td>\n",
              "      <td>2.8</td>\n",
              "      <td>2.6</td>\n",
              "      <td>5.5</td>\n",
              "      <td>3.1</td>\n",
              "      <td>5.2</td>\n",
              "      <td>6.1</td>\n",
              "      <td>6.1</td>\n",
              "      <td>6.1</td>\n",
              "      <td>6.1</td>\n",
              "      <td>5.6</td>\n",
              "      <td>5.2</td>\n",
              "      <td>5.4</td>\n",
              "      <td>7.2</td>\n",
              "      <td>10.6</td>\n",
              "      <td>14.5</td>\n",
              "      <td>17.2</td>\n",
              "      <td>18.3</td>\n",
              "      <td>18.9</td>\n",
              "      <td>19.1</td>\n",
              "      <td>18.9</td>\n",
              "      <td>18.3</td>\n",
              "      <td>17.3</td>\n",
              "      <td>16.8</td>\n",
              "      <td>16.1</td>\n",
              "      <td>15.4</td>\n",
              "      <td>14.9</td>\n",
              "      <td>14.8</td>\n",
              "      <td>15</td>\n",
              "      <td>19.1</td>\n",
              "      <td>12.5</td>\n",
              "      <td>6.7</td>\n",
              "      <td>0.11</td>\n",
              "      <td>3.83</td>\n",
              "      <td>0.14</td>\n",
              "      <td>1612</td>\n",
              "      <td>-2.3</td>\n",
              "      <td>0.3</td>\n",
              "      <td>7.18</td>\n",
              "      <td>0.12</td>\n",
              "      <td>3178.5</td>\n",
              "      <td>-15.5</td>\n",
              "      <td>0.15</td>\n",
              "      <td>10.67</td>\n",
              "      <td>-1.56</td>\n",
              "      <td>5795</td>\n",
              "      <td>-12.1</td>\n",
              "      <td>17.9</td>\n",
              "      <td>10330</td>\n",
              "      <td>-55</td>\n",
              "      <td>0</td>\n",
              "      <td>0</td>\n",
              "    </tr>\n",
              "    <tr>\n",
              "      <th>1</th>\n",
              "      <td>1/2/1998</td>\n",
              "      <td>2.8</td>\n",
              "      <td>3.2</td>\n",
              "      <td>3.3</td>\n",
              "      <td>2.7</td>\n",
              "      <td>3.3</td>\n",
              "      <td>3.2</td>\n",
              "      <td>2.9</td>\n",
              "      <td>2.8</td>\n",
              "      <td>3.1</td>\n",
              "      <td>3.4</td>\n",
              "      <td>4.2</td>\n",
              "      <td>4.5</td>\n",
              "      <td>4.5</td>\n",
              "      <td>4.3</td>\n",
              "      <td>5.5</td>\n",
              "      <td>5.1</td>\n",
              "      <td>3.8</td>\n",
              "      <td>3</td>\n",
              "      <td>2.6</td>\n",
              "      <td>3</td>\n",
              "      <td>2.2</td>\n",
              "      <td>2.3</td>\n",
              "      <td>2.5</td>\n",
              "      <td>2.8</td>\n",
              "      <td>5.5</td>\n",
              "      <td>3.4</td>\n",
              "      <td>15.1</td>\n",
              "      <td>15.3</td>\n",
              "      <td>15.6</td>\n",
              "      <td>15.6</td>\n",
              "      <td>15.9</td>\n",
              "      <td>16.2</td>\n",
              "      <td>16.2</td>\n",
              "      <td>16.2</td>\n",
              "      <td>16.6</td>\n",
              "      <td>17.8</td>\n",
              "      <td>19.4</td>\n",
              "      <td>20.6</td>\n",
              "      <td>21.2</td>\n",
              "      <td>21.8</td>\n",
              "      <td>22.4</td>\n",
              "      <td>22.1</td>\n",
              "      <td>20.8</td>\n",
              "      <td>19.1</td>\n",
              "      <td>18.1</td>\n",
              "      <td>17.2</td>\n",
              "      <td>16.5</td>\n",
              "      <td>16.1</td>\n",
              "      <td>16</td>\n",
              "      <td>16.2</td>\n",
              "      <td>22.4</td>\n",
              "      <td>17.8</td>\n",
              "      <td>9</td>\n",
              "      <td>0.25</td>\n",
              "      <td>-0.41</td>\n",
              "      <td>9.53</td>\n",
              "      <td>1594.5</td>\n",
              "      <td>-2.2</td>\n",
              "      <td>0.96</td>\n",
              "      <td>8.24</td>\n",
              "      <td>7.3</td>\n",
              "      <td>3172</td>\n",
              "      <td>-14.5</td>\n",
              "      <td>0.48</td>\n",
              "      <td>8.39</td>\n",
              "      <td>3.84</td>\n",
              "      <td>5805</td>\n",
              "      <td>14.05</td>\n",
              "      <td>29</td>\n",
              "      <td>10275</td>\n",
              "      <td>-55</td>\n",
              "      <td>0</td>\n",
              "      <td>0</td>\n",
              "    </tr>\n",
              "    <tr>\n",
              "      <th>2</th>\n",
              "      <td>1/3/1998</td>\n",
              "      <td>2.9</td>\n",
              "      <td>2.8</td>\n",
              "      <td>2.6</td>\n",
              "      <td>2.1</td>\n",
              "      <td>2.2</td>\n",
              "      <td>2.5</td>\n",
              "      <td>2.5</td>\n",
              "      <td>2.7</td>\n",
              "      <td>2.2</td>\n",
              "      <td>2.5</td>\n",
              "      <td>3.1</td>\n",
              "      <td>4</td>\n",
              "      <td>4.4</td>\n",
              "      <td>4.6</td>\n",
              "      <td>5.6</td>\n",
              "      <td>5.4</td>\n",
              "      <td>5.2</td>\n",
              "      <td>4.4</td>\n",
              "      <td>3.5</td>\n",
              "      <td>2.7</td>\n",
              "      <td>2.9</td>\n",
              "      <td>3.9</td>\n",
              "      <td>4.1</td>\n",
              "      <td>4.6</td>\n",
              "      <td>5.6</td>\n",
              "      <td>3.5</td>\n",
              "      <td>16.6</td>\n",
              "      <td>16.7</td>\n",
              "      <td>16.7</td>\n",
              "      <td>16.8</td>\n",
              "      <td>16.8</td>\n",
              "      <td>16.8</td>\n",
              "      <td>16.9</td>\n",
              "      <td>16.9</td>\n",
              "      <td>17.1</td>\n",
              "      <td>17.6</td>\n",
              "      <td>19.1</td>\n",
              "      <td>21.3</td>\n",
              "      <td>21.8</td>\n",
              "      <td>22</td>\n",
              "      <td>22.1</td>\n",
              "      <td>22.2</td>\n",
              "      <td>21.3</td>\n",
              "      <td>19.8</td>\n",
              "      <td>18.6</td>\n",
              "      <td>18</td>\n",
              "      <td>18</td>\n",
              "      <td>18.2</td>\n",
              "      <td>18.3</td>\n",
              "      <td>18.4</td>\n",
              "      <td>22.2</td>\n",
              "      <td>18.7</td>\n",
              "      <td>9</td>\n",
              "      <td>0.56</td>\n",
              "      <td>0.89</td>\n",
              "      <td>10.17</td>\n",
              "      <td>1568.5</td>\n",
              "      <td>0.9</td>\n",
              "      <td>0.54</td>\n",
              "      <td>3.8</td>\n",
              "      <td>4.42</td>\n",
              "      <td>3160</td>\n",
              "      <td>-15.9</td>\n",
              "      <td>0.6</td>\n",
              "      <td>6.94</td>\n",
              "      <td>9.8</td>\n",
              "      <td>5790</td>\n",
              "      <td>17.9</td>\n",
              "      <td>41.3</td>\n",
              "      <td>10235</td>\n",
              "      <td>-40</td>\n",
              "      <td>0</td>\n",
              "      <td>0</td>\n",
              "    </tr>\n",
              "    <tr>\n",
              "      <th>3</th>\n",
              "      <td>1/4/1998</td>\n",
              "      <td>4.7</td>\n",
              "      <td>3.8</td>\n",
              "      <td>3.7</td>\n",
              "      <td>3.8</td>\n",
              "      <td>2.9</td>\n",
              "      <td>3.1</td>\n",
              "      <td>2.8</td>\n",
              "      <td>2.5</td>\n",
              "      <td>2.4</td>\n",
              "      <td>3.1</td>\n",
              "      <td>3.3</td>\n",
              "      <td>3.1</td>\n",
              "      <td>2.3</td>\n",
              "      <td>2.1</td>\n",
              "      <td>2.2</td>\n",
              "      <td>3.8</td>\n",
              "      <td>2.8</td>\n",
              "      <td>2.4</td>\n",
              "      <td>1.9</td>\n",
              "      <td>3.2</td>\n",
              "      <td>4.1</td>\n",
              "      <td>3.9</td>\n",
              "      <td>4.5</td>\n",
              "      <td>4.3</td>\n",
              "      <td>4.7</td>\n",
              "      <td>3.2</td>\n",
              "      <td>18.3</td>\n",
              "      <td>18.2</td>\n",
              "      <td>18.3</td>\n",
              "      <td>18.4</td>\n",
              "      <td>18.6</td>\n",
              "      <td>18.6</td>\n",
              "      <td>18.5</td>\n",
              "      <td>18.7</td>\n",
              "      <td>18.6</td>\n",
              "      <td>18.8</td>\n",
              "      <td>19</td>\n",
              "      <td>19</td>\n",
              "      <td>19.3</td>\n",
              "      <td>19.4</td>\n",
              "      <td>19.6</td>\n",
              "      <td>19.2</td>\n",
              "      <td>18.9</td>\n",
              "      <td>18.8</td>\n",
              "      <td>18.6</td>\n",
              "      <td>18.5</td>\n",
              "      <td>18.3</td>\n",
              "      <td>18.5</td>\n",
              "      <td>18.8</td>\n",
              "      <td>18.9</td>\n",
              "      <td>19.6</td>\n",
              "      <td>18.7</td>\n",
              "      <td>9.9</td>\n",
              "      <td>0.89</td>\n",
              "      <td>-0.34</td>\n",
              "      <td>8.58</td>\n",
              "      <td>1546.5</td>\n",
              "      <td>3</td>\n",
              "      <td>0.77</td>\n",
              "      <td>4.17</td>\n",
              "      <td>8.11</td>\n",
              "      <td>3145.5</td>\n",
              "      <td>-16.8</td>\n",
              "      <td>0.49</td>\n",
              "      <td>8.73</td>\n",
              "      <td>10.54</td>\n",
              "      <td>5775</td>\n",
              "      <td>31.15</td>\n",
              "      <td>51.7</td>\n",
              "      <td>10195</td>\n",
              "      <td>-40</td>\n",
              "      <td>2.08</td>\n",
              "      <td>0</td>\n",
              "    </tr>\n",
              "    <tr>\n",
              "      <th>4</th>\n",
              "      <td>1/5/1998</td>\n",
              "      <td>2.6</td>\n",
              "      <td>2.1</td>\n",
              "      <td>1.6</td>\n",
              "      <td>1.4</td>\n",
              "      <td>0.9</td>\n",
              "      <td>1.5</td>\n",
              "      <td>1.2</td>\n",
              "      <td>1.4</td>\n",
              "      <td>1.3</td>\n",
              "      <td>1.4</td>\n",
              "      <td>2.2</td>\n",
              "      <td>2</td>\n",
              "      <td>3</td>\n",
              "      <td>3</td>\n",
              "      <td>3.1</td>\n",
              "      <td>3.1</td>\n",
              "      <td>2.7</td>\n",
              "      <td>3</td>\n",
              "      <td>2.4</td>\n",
              "      <td>2.8</td>\n",
              "      <td>2.5</td>\n",
              "      <td>2.5</td>\n",
              "      <td>3.7</td>\n",
              "      <td>3.4</td>\n",
              "      <td>3.7</td>\n",
              "      <td>2.3</td>\n",
              "      <td>18.8</td>\n",
              "      <td>18.6</td>\n",
              "      <td>18.5</td>\n",
              "      <td>18.5</td>\n",
              "      <td>18.6</td>\n",
              "      <td>18.9</td>\n",
              "      <td>19.2</td>\n",
              "      <td>19.4</td>\n",
              "      <td>19.8</td>\n",
              "      <td>20.5</td>\n",
              "      <td>21.1</td>\n",
              "      <td>21.9</td>\n",
              "      <td>23.8</td>\n",
              "      <td>25.1</td>\n",
              "      <td>25.8</td>\n",
              "      <td>26</td>\n",
              "      <td>25.6</td>\n",
              "      <td>24.2</td>\n",
              "      <td>22.9</td>\n",
              "      <td>21.6</td>\n",
              "      <td>20</td>\n",
              "      <td>19.5</td>\n",
              "      <td>19.1</td>\n",
              "      <td>19.1</td>\n",
              "      <td>26</td>\n",
              "      <td>21.1</td>\n",
              "      <td>?</td>\n",
              "      <td>?</td>\n",
              "      <td>?</td>\n",
              "      <td>?</td>\n",
              "      <td>?</td>\n",
              "      <td>?</td>\n",
              "      <td>?</td>\n",
              "      <td>?</td>\n",
              "      <td>?</td>\n",
              "      <td>?</td>\n",
              "      <td>?</td>\n",
              "      <td>?</td>\n",
              "      <td>?</td>\n",
              "      <td>?</td>\n",
              "      <td>?</td>\n",
              "      <td>?</td>\n",
              "      <td>?</td>\n",
              "      <td>?</td>\n",
              "      <td>?</td>\n",
              "      <td>0.58</td>\n",
              "      <td>0</td>\n",
              "    </tr>\n",
              "  </tbody>\n",
              "</table>\n",
              "</div>"
            ],
            "text/plain": [
              "       Date WSR0 WSR1 WSR2 WSR3 WSR4  ...     KI    TT    SLP SLP_ Precp Result\n",
              "0  1/1/1998  0.8  1.8  2.4  2.1    2  ...  -12.1  17.9  10330  -55     0      0\n",
              "1  1/2/1998  2.8  3.2  3.3  2.7  3.3  ...  14.05    29  10275  -55     0      0\n",
              "2  1/3/1998  2.9  2.8  2.6  2.1  2.2  ...   17.9  41.3  10235  -40     0      0\n",
              "3  1/4/1998  4.7  3.8  3.7  3.8  2.9  ...  31.15  51.7  10195  -40  2.08      0\n",
              "4  1/5/1998  2.6  2.1  1.6  1.4  0.9  ...      ?     ?      ?    ?  0.58      0\n",
              "\n",
              "[5 rows x 74 columns]"
            ]
          },
          "metadata": {
            "tags": []
          },
          "execution_count": 9
        }
      ]
    },
    {
      "cell_type": "code",
      "metadata": {
        "id": "N9Dweu1u6WOo",
        "colab_type": "code",
        "colab": {
          "base_uri": "https://localhost:8080/",
          "height": 1000
        },
        "outputId": "cd00bdc6-33e0-4996-b0f0-27fd8e034819"
      },
      "source": [
        "#get information about the data\n",
        "data.info()"
      ],
      "execution_count": 10,
      "outputs": [
        {
          "output_type": "stream",
          "text": [
            "<class 'pandas.core.frame.DataFrame'>\n",
            "RangeIndex: 2534 entries, 0 to 2533\n",
            "Data columns (total 74 columns):\n",
            " #   Column  Non-Null Count  Dtype \n",
            "---  ------  --------------  ----- \n",
            " 0   Date    2534 non-null   object\n",
            " 1   WSR0    2534 non-null   object\n",
            " 2   WSR1    2534 non-null   object\n",
            " 3   WSR2    2534 non-null   object\n",
            " 4   WSR3    2534 non-null   object\n",
            " 5   WSR4    2534 non-null   object\n",
            " 6   WSR5    2534 non-null   object\n",
            " 7   WSR6    2534 non-null   object\n",
            " 8   WSR7    2534 non-null   object\n",
            " 9   WSR8    2534 non-null   object\n",
            " 10  WSR9    2534 non-null   object\n",
            " 11  WSR10   2534 non-null   object\n",
            " 12  WSR11   2534 non-null   object\n",
            " 13  WSR12   2534 non-null   object\n",
            " 14  WSR13   2534 non-null   object\n",
            " 15  WSR14   2534 non-null   object\n",
            " 16  WSR15   2534 non-null   object\n",
            " 17  WSR16   2534 non-null   object\n",
            " 18  WSR17   2534 non-null   object\n",
            " 19  WSR18   2534 non-null   object\n",
            " 20  WSR19   2534 non-null   object\n",
            " 21  WSR20   2534 non-null   object\n",
            " 22  WSR21   2534 non-null   object\n",
            " 23  WSR22   2534 non-null   object\n",
            " 24  WSR23   2534 non-null   object\n",
            " 25  WSR_PK  2534 non-null   object\n",
            " 26  WSR_AV  2534 non-null   object\n",
            " 27  T0      2534 non-null   object\n",
            " 28  T1      2534 non-null   object\n",
            " 29  T2      2534 non-null   object\n",
            " 30  T3      2534 non-null   object\n",
            " 31  T4      2534 non-null   object\n",
            " 32  T5      2534 non-null   object\n",
            " 33  T6      2534 non-null   object\n",
            " 34  T7      2534 non-null   object\n",
            " 35  T8      2534 non-null   object\n",
            " 36  T9      2534 non-null   object\n",
            " 37  T10     2534 non-null   object\n",
            " 38  T11     2534 non-null   object\n",
            " 39  T12     2534 non-null   object\n",
            " 40  T13     2534 non-null   object\n",
            " 41  T14     2534 non-null   object\n",
            " 42  T15     2534 non-null   object\n",
            " 43  T16     2534 non-null   object\n",
            " 44  T17     2534 non-null   object\n",
            " 45  T18     2534 non-null   object\n",
            " 46  T19     2534 non-null   object\n",
            " 47  T20     2534 non-null   object\n",
            " 48  T21     2534 non-null   object\n",
            " 49  T22     2534 non-null   object\n",
            " 50  T23     2534 non-null   object\n",
            " 51  T_PK    2534 non-null   object\n",
            " 52  T_AV    2534 non-null   object\n",
            " 53  T85     2534 non-null   object\n",
            " 54  RH85    2534 non-null   object\n",
            " 55  U85     2534 non-null   object\n",
            " 56  V85     2534 non-null   object\n",
            " 57  HT85    2534 non-null   object\n",
            " 58  T70     2534 non-null   object\n",
            " 59  RH70    2534 non-null   object\n",
            " 60  U70     2534 non-null   object\n",
            " 61  V70     2534 non-null   object\n",
            " 62  HT70    2534 non-null   object\n",
            " 63  T50     2534 non-null   object\n",
            " 64  RH50    2534 non-null   object\n",
            " 65  U50     2534 non-null   object\n",
            " 66  V50     2534 non-null   object\n",
            " 67  HT50    2534 non-null   object\n",
            " 68  KI      2534 non-null   object\n",
            " 69  TT      2534 non-null   object\n",
            " 70  SLP     2534 non-null   object\n",
            " 71  SLP_    2534 non-null   object\n",
            " 72  Precp   2534 non-null   object\n",
            " 73  Result  2534 non-null   int64 \n",
            "dtypes: int64(1), object(73)\n",
            "memory usage: 1.4+ MB\n"
          ],
          "name": "stdout"
        }
      ]
    },
    {
      "cell_type": "code",
      "metadata": {
        "id": "ENvEnQ3l7bf6",
        "colab_type": "code",
        "colab": {}
      },
      "source": [
        "#the date column serves no purpose for the analysis. Hence we drop it from the data, inplace=True shifts all the other columns to the left\n",
        "data.drop(columns='Date', inplace=True)"
      ],
      "execution_count": 11,
      "outputs": []
    },
    {
      "cell_type": "markdown",
      "metadata": {
        "id": "OOT82wdhVidE",
        "colab_type": "text"
      },
      "source": [
        "The real world data may be messy or corrupted. You may have to use various techinques to clean the dataset. \n",
        "Notice that the data contains lot of '?' as the elements. These are the values which were missing in the data.\n",
        "we will replace all '?' with NaN as it is easier to work with NaN's than with '?'  \n",
        "Read fore more details : ** https://scikit-learn.org/stable/modules/generated/sklearn.impute.SimpleImputer **"
      ]
    },
    {
      "cell_type": "code",
      "metadata": {
        "id": "SZ2qozzRT6vW",
        "colab_type": "code",
        "colab": {}
      },
      "source": [
        "#use the .replace() to replace all instances of '?' with NaN\n",
        "data.replace(to_replace='?', value=np.nan, inplace=True)"
      ],
      "execution_count": 12,
      "outputs": []
    },
    {
      "cell_type": "code",
      "metadata": {
        "id": "2yrWz4W6VxqI",
        "colab_type": "code",
        "colab": {
          "base_uri": "https://localhost:8080/",
          "height": 68
        },
        "outputId": "b46ff370-de7e-4028-9722-454079770b66"
      },
      "source": [
        "#You can check if there are any NaN values in the features using .isna() function\n",
        "print(data[\"T_PK\"].isna().value_counts())"
      ],
      "execution_count": 13,
      "outputs": [
        {
          "output_type": "stream",
          "text": [
            "False    2359\n",
            "True      175\n",
            "Name: T_PK, dtype: int64\n"
          ],
          "name": "stdout"
        }
      ]
    },
    {
      "cell_type": "code",
      "metadata": {
        "id": "X60ReFluHXPv",
        "colab_type": "code",
        "colab": {}
      },
      "source": [
        "# We will only be using a few features for the analysis. Here we split the data into input features and output response. \n",
        "#instead of specifying indices, if the columns are labelled, you can \n",
        "#select them by just specifying their names. This is particularly useful when you have to pick only a certain features out of 100s of given features.\n",
        "X = data[['WSR_AV','T_AV','T85','RH85','SLP','Precp']] \n",
        "Y = data.iloc[:,-1].values  #select the last column as the output variable"
      ],
      "execution_count": 14,
      "outputs": []
    },
    {
      "cell_type": "markdown",
      "metadata": {
        "id": "0hPIUWC3YEOj",
        "colab_type": "text"
      },
      "source": [
        "Now that we have our Input and Output Variables set, the next task is to deal with the NaN values in the input. Previously we dealt with NaN by dropping out the rows that contained NaN. This is a very simple approach and works fine for most data. \n",
        "\n",
        "But in a situation where the amount of data is already scarce, it would be infeasible to drop additional rows from it. Hence we need another strategy to deal with such a situation. \n",
        "\n",
        "Here we use a simple but highly efficient method of replacing all the NaN values in a column by the mean value of the column. Though not an acccurate representation of the values, this method still gives very good results."
      ]
    },
    {
      "cell_type": "code",
      "metadata": {
        "id": "mSRR1UBTSAuR",
        "colab_type": "code",
        "colab": {}
      },
      "source": [
        "#we will make use of sklearn's SimpleImputer function to replace the NaN with the mean values\n",
        "from sklearn.impute import SimpleImputer\n",
        "imputer = SimpleImputer(missing_values=np.nan, strategy='mean')   #missing_values are the NaN which need to be replace. Strategy refers to the method to use\n",
        "#other strategies to use are - median, highest frequency value, constant value assigned by user."
      ],
      "execution_count": 15,
      "outputs": []
    },
    {
      "cell_type": "code",
      "metadata": {
        "id": "a-2HIIC9JHPI",
        "colab_type": "code",
        "colab": {
          "base_uri": "https://localhost:8080/",
          "height": 224
        },
        "outputId": "4a7e38b8-381c-4737-8664-0912bdb14cbf"
      },
      "source": [
        "#use the imputer instance to transform the data\n",
        "data = pd.DataFrame(imputer.fit_transform(data), dtype='float64')\n",
        "data.head()"
      ],
      "execution_count": 16,
      "outputs": [
        {
          "output_type": "execute_result",
          "data": {
            "text/html": [
              "<div>\n",
              "<style scoped>\n",
              "    .dataframe tbody tr th:only-of-type {\n",
              "        vertical-align: middle;\n",
              "    }\n",
              "\n",
              "    .dataframe tbody tr th {\n",
              "        vertical-align: top;\n",
              "    }\n",
              "\n",
              "    .dataframe thead th {\n",
              "        text-align: right;\n",
              "    }\n",
              "</style>\n",
              "<table border=\"1\" class=\"dataframe\">\n",
              "  <thead>\n",
              "    <tr style=\"text-align: right;\">\n",
              "      <th></th>\n",
              "      <th>0</th>\n",
              "      <th>1</th>\n",
              "      <th>2</th>\n",
              "      <th>3</th>\n",
              "      <th>4</th>\n",
              "      <th>5</th>\n",
              "      <th>6</th>\n",
              "      <th>7</th>\n",
              "      <th>8</th>\n",
              "      <th>9</th>\n",
              "      <th>10</th>\n",
              "      <th>11</th>\n",
              "      <th>12</th>\n",
              "      <th>13</th>\n",
              "      <th>14</th>\n",
              "      <th>15</th>\n",
              "      <th>16</th>\n",
              "      <th>17</th>\n",
              "      <th>18</th>\n",
              "      <th>19</th>\n",
              "      <th>20</th>\n",
              "      <th>21</th>\n",
              "      <th>22</th>\n",
              "      <th>23</th>\n",
              "      <th>24</th>\n",
              "      <th>25</th>\n",
              "      <th>26</th>\n",
              "      <th>27</th>\n",
              "      <th>28</th>\n",
              "      <th>29</th>\n",
              "      <th>30</th>\n",
              "      <th>31</th>\n",
              "      <th>32</th>\n",
              "      <th>33</th>\n",
              "      <th>34</th>\n",
              "      <th>35</th>\n",
              "      <th>36</th>\n",
              "      <th>37</th>\n",
              "      <th>38</th>\n",
              "      <th>39</th>\n",
              "      <th>40</th>\n",
              "      <th>41</th>\n",
              "      <th>42</th>\n",
              "      <th>43</th>\n",
              "      <th>44</th>\n",
              "      <th>45</th>\n",
              "      <th>46</th>\n",
              "      <th>47</th>\n",
              "      <th>48</th>\n",
              "      <th>49</th>\n",
              "      <th>50</th>\n",
              "      <th>51</th>\n",
              "      <th>52</th>\n",
              "      <th>53</th>\n",
              "      <th>54</th>\n",
              "      <th>55</th>\n",
              "      <th>56</th>\n",
              "      <th>57</th>\n",
              "      <th>58</th>\n",
              "      <th>59</th>\n",
              "      <th>60</th>\n",
              "      <th>61</th>\n",
              "      <th>62</th>\n",
              "      <th>63</th>\n",
              "      <th>64</th>\n",
              "      <th>65</th>\n",
              "      <th>66</th>\n",
              "      <th>67</th>\n",
              "      <th>68</th>\n",
              "      <th>69</th>\n",
              "      <th>70</th>\n",
              "      <th>71</th>\n",
              "      <th>72</th>\n",
              "    </tr>\n",
              "  </thead>\n",
              "  <tbody>\n",
              "    <tr>\n",
              "      <th>0</th>\n",
              "      <td>0.8</td>\n",
              "      <td>1.8</td>\n",
              "      <td>2.4</td>\n",
              "      <td>2.1</td>\n",
              "      <td>2.0</td>\n",
              "      <td>2.1</td>\n",
              "      <td>1.5</td>\n",
              "      <td>1.7</td>\n",
              "      <td>1.9</td>\n",
              "      <td>2.3</td>\n",
              "      <td>3.7</td>\n",
              "      <td>5.5</td>\n",
              "      <td>5.1</td>\n",
              "      <td>5.4</td>\n",
              "      <td>5.4</td>\n",
              "      <td>4.7</td>\n",
              "      <td>4.3</td>\n",
              "      <td>3.5</td>\n",
              "      <td>3.5</td>\n",
              "      <td>2.9</td>\n",
              "      <td>3.2</td>\n",
              "      <td>3.2</td>\n",
              "      <td>2.8</td>\n",
              "      <td>2.6</td>\n",
              "      <td>5.5</td>\n",
              "      <td>3.1</td>\n",
              "      <td>5.2</td>\n",
              "      <td>6.1</td>\n",
              "      <td>6.1</td>\n",
              "      <td>6.1</td>\n",
              "      <td>6.1</td>\n",
              "      <td>5.6</td>\n",
              "      <td>5.2</td>\n",
              "      <td>5.4</td>\n",
              "      <td>7.2</td>\n",
              "      <td>10.6</td>\n",
              "      <td>14.5</td>\n",
              "      <td>17.2</td>\n",
              "      <td>18.3</td>\n",
              "      <td>18.9</td>\n",
              "      <td>19.1</td>\n",
              "      <td>18.9</td>\n",
              "      <td>18.3</td>\n",
              "      <td>17.3</td>\n",
              "      <td>16.8</td>\n",
              "      <td>16.1</td>\n",
              "      <td>15.4</td>\n",
              "      <td>14.9</td>\n",
              "      <td>14.8</td>\n",
              "      <td>15.0</td>\n",
              "      <td>19.1</td>\n",
              "      <td>12.5</td>\n",
              "      <td>6.700000</td>\n",
              "      <td>0.11000</td>\n",
              "      <td>3.830000</td>\n",
              "      <td>0.140000</td>\n",
              "      <td>1612.00000</td>\n",
              "      <td>-2.300000</td>\n",
              "      <td>0.300000</td>\n",
              "      <td>7.180000</td>\n",
              "      <td>0.120000</td>\n",
              "      <td>3178.500000</td>\n",
              "      <td>-15.50000</td>\n",
              "      <td>0.150000</td>\n",
              "      <td>10.670000</td>\n",
              "      <td>-1.560000</td>\n",
              "      <td>5795.000000</td>\n",
              "      <td>-12.100000</td>\n",
              "      <td>17.900000</td>\n",
              "      <td>10330.000000</td>\n",
              "      <td>-55.000000</td>\n",
              "      <td>0.00</td>\n",
              "      <td>0.0</td>\n",
              "    </tr>\n",
              "    <tr>\n",
              "      <th>1</th>\n",
              "      <td>2.8</td>\n",
              "      <td>3.2</td>\n",
              "      <td>3.3</td>\n",
              "      <td>2.7</td>\n",
              "      <td>3.3</td>\n",
              "      <td>3.2</td>\n",
              "      <td>2.9</td>\n",
              "      <td>2.8</td>\n",
              "      <td>3.1</td>\n",
              "      <td>3.4</td>\n",
              "      <td>4.2</td>\n",
              "      <td>4.5</td>\n",
              "      <td>4.5</td>\n",
              "      <td>4.3</td>\n",
              "      <td>5.5</td>\n",
              "      <td>5.1</td>\n",
              "      <td>3.8</td>\n",
              "      <td>3.0</td>\n",
              "      <td>2.6</td>\n",
              "      <td>3.0</td>\n",
              "      <td>2.2</td>\n",
              "      <td>2.3</td>\n",
              "      <td>2.5</td>\n",
              "      <td>2.8</td>\n",
              "      <td>5.5</td>\n",
              "      <td>3.4</td>\n",
              "      <td>15.1</td>\n",
              "      <td>15.3</td>\n",
              "      <td>15.6</td>\n",
              "      <td>15.6</td>\n",
              "      <td>15.9</td>\n",
              "      <td>16.2</td>\n",
              "      <td>16.2</td>\n",
              "      <td>16.2</td>\n",
              "      <td>16.6</td>\n",
              "      <td>17.8</td>\n",
              "      <td>19.4</td>\n",
              "      <td>20.6</td>\n",
              "      <td>21.2</td>\n",
              "      <td>21.8</td>\n",
              "      <td>22.4</td>\n",
              "      <td>22.1</td>\n",
              "      <td>20.8</td>\n",
              "      <td>19.1</td>\n",
              "      <td>18.1</td>\n",
              "      <td>17.2</td>\n",
              "      <td>16.5</td>\n",
              "      <td>16.1</td>\n",
              "      <td>16.0</td>\n",
              "      <td>16.2</td>\n",
              "      <td>22.4</td>\n",
              "      <td>17.8</td>\n",
              "      <td>9.000000</td>\n",
              "      <td>0.25000</td>\n",
              "      <td>-0.410000</td>\n",
              "      <td>9.530000</td>\n",
              "      <td>1594.50000</td>\n",
              "      <td>-2.200000</td>\n",
              "      <td>0.960000</td>\n",
              "      <td>8.240000</td>\n",
              "      <td>7.300000</td>\n",
              "      <td>3172.000000</td>\n",
              "      <td>-14.50000</td>\n",
              "      <td>0.480000</td>\n",
              "      <td>8.390000</td>\n",
              "      <td>3.840000</td>\n",
              "      <td>5805.000000</td>\n",
              "      <td>14.050000</td>\n",
              "      <td>29.000000</td>\n",
              "      <td>10275.000000</td>\n",
              "      <td>-55.000000</td>\n",
              "      <td>0.00</td>\n",
              "      <td>0.0</td>\n",
              "    </tr>\n",
              "    <tr>\n",
              "      <th>2</th>\n",
              "      <td>2.9</td>\n",
              "      <td>2.8</td>\n",
              "      <td>2.6</td>\n",
              "      <td>2.1</td>\n",
              "      <td>2.2</td>\n",
              "      <td>2.5</td>\n",
              "      <td>2.5</td>\n",
              "      <td>2.7</td>\n",
              "      <td>2.2</td>\n",
              "      <td>2.5</td>\n",
              "      <td>3.1</td>\n",
              "      <td>4.0</td>\n",
              "      <td>4.4</td>\n",
              "      <td>4.6</td>\n",
              "      <td>5.6</td>\n",
              "      <td>5.4</td>\n",
              "      <td>5.2</td>\n",
              "      <td>4.4</td>\n",
              "      <td>3.5</td>\n",
              "      <td>2.7</td>\n",
              "      <td>2.9</td>\n",
              "      <td>3.9</td>\n",
              "      <td>4.1</td>\n",
              "      <td>4.6</td>\n",
              "      <td>5.6</td>\n",
              "      <td>3.5</td>\n",
              "      <td>16.6</td>\n",
              "      <td>16.7</td>\n",
              "      <td>16.7</td>\n",
              "      <td>16.8</td>\n",
              "      <td>16.8</td>\n",
              "      <td>16.8</td>\n",
              "      <td>16.9</td>\n",
              "      <td>16.9</td>\n",
              "      <td>17.1</td>\n",
              "      <td>17.6</td>\n",
              "      <td>19.1</td>\n",
              "      <td>21.3</td>\n",
              "      <td>21.8</td>\n",
              "      <td>22.0</td>\n",
              "      <td>22.1</td>\n",
              "      <td>22.2</td>\n",
              "      <td>21.3</td>\n",
              "      <td>19.8</td>\n",
              "      <td>18.6</td>\n",
              "      <td>18.0</td>\n",
              "      <td>18.0</td>\n",
              "      <td>18.2</td>\n",
              "      <td>18.3</td>\n",
              "      <td>18.4</td>\n",
              "      <td>22.2</td>\n",
              "      <td>18.7</td>\n",
              "      <td>9.000000</td>\n",
              "      <td>0.56000</td>\n",
              "      <td>0.890000</td>\n",
              "      <td>10.170000</td>\n",
              "      <td>1568.50000</td>\n",
              "      <td>0.900000</td>\n",
              "      <td>0.540000</td>\n",
              "      <td>3.800000</td>\n",
              "      <td>4.420000</td>\n",
              "      <td>3160.000000</td>\n",
              "      <td>-15.90000</td>\n",
              "      <td>0.600000</td>\n",
              "      <td>6.940000</td>\n",
              "      <td>9.800000</td>\n",
              "      <td>5790.000000</td>\n",
              "      <td>17.900000</td>\n",
              "      <td>41.300000</td>\n",
              "      <td>10235.000000</td>\n",
              "      <td>-40.000000</td>\n",
              "      <td>0.00</td>\n",
              "      <td>0.0</td>\n",
              "    </tr>\n",
              "    <tr>\n",
              "      <th>3</th>\n",
              "      <td>4.7</td>\n",
              "      <td>3.8</td>\n",
              "      <td>3.7</td>\n",
              "      <td>3.8</td>\n",
              "      <td>2.9</td>\n",
              "      <td>3.1</td>\n",
              "      <td>2.8</td>\n",
              "      <td>2.5</td>\n",
              "      <td>2.4</td>\n",
              "      <td>3.1</td>\n",
              "      <td>3.3</td>\n",
              "      <td>3.1</td>\n",
              "      <td>2.3</td>\n",
              "      <td>2.1</td>\n",
              "      <td>2.2</td>\n",
              "      <td>3.8</td>\n",
              "      <td>2.8</td>\n",
              "      <td>2.4</td>\n",
              "      <td>1.9</td>\n",
              "      <td>3.2</td>\n",
              "      <td>4.1</td>\n",
              "      <td>3.9</td>\n",
              "      <td>4.5</td>\n",
              "      <td>4.3</td>\n",
              "      <td>4.7</td>\n",
              "      <td>3.2</td>\n",
              "      <td>18.3</td>\n",
              "      <td>18.2</td>\n",
              "      <td>18.3</td>\n",
              "      <td>18.4</td>\n",
              "      <td>18.6</td>\n",
              "      <td>18.6</td>\n",
              "      <td>18.5</td>\n",
              "      <td>18.7</td>\n",
              "      <td>18.6</td>\n",
              "      <td>18.8</td>\n",
              "      <td>19.0</td>\n",
              "      <td>19.0</td>\n",
              "      <td>19.3</td>\n",
              "      <td>19.4</td>\n",
              "      <td>19.6</td>\n",
              "      <td>19.2</td>\n",
              "      <td>18.9</td>\n",
              "      <td>18.8</td>\n",
              "      <td>18.6</td>\n",
              "      <td>18.5</td>\n",
              "      <td>18.3</td>\n",
              "      <td>18.5</td>\n",
              "      <td>18.8</td>\n",
              "      <td>18.9</td>\n",
              "      <td>19.6</td>\n",
              "      <td>18.7</td>\n",
              "      <td>9.900000</td>\n",
              "      <td>0.89000</td>\n",
              "      <td>-0.340000</td>\n",
              "      <td>8.580000</td>\n",
              "      <td>1546.50000</td>\n",
              "      <td>3.000000</td>\n",
              "      <td>0.770000</td>\n",
              "      <td>4.170000</td>\n",
              "      <td>8.110000</td>\n",
              "      <td>3145.500000</td>\n",
              "      <td>-16.80000</td>\n",
              "      <td>0.490000</td>\n",
              "      <td>8.730000</td>\n",
              "      <td>10.540000</td>\n",
              "      <td>5775.000000</td>\n",
              "      <td>31.150000</td>\n",
              "      <td>51.700000</td>\n",
              "      <td>10195.000000</td>\n",
              "      <td>-40.000000</td>\n",
              "      <td>2.08</td>\n",
              "      <td>0.0</td>\n",
              "    </tr>\n",
              "    <tr>\n",
              "      <th>4</th>\n",
              "      <td>2.6</td>\n",
              "      <td>2.1</td>\n",
              "      <td>1.6</td>\n",
              "      <td>1.4</td>\n",
              "      <td>0.9</td>\n",
              "      <td>1.5</td>\n",
              "      <td>1.2</td>\n",
              "      <td>1.4</td>\n",
              "      <td>1.3</td>\n",
              "      <td>1.4</td>\n",
              "      <td>2.2</td>\n",
              "      <td>2.0</td>\n",
              "      <td>3.0</td>\n",
              "      <td>3.0</td>\n",
              "      <td>3.1</td>\n",
              "      <td>3.1</td>\n",
              "      <td>2.7</td>\n",
              "      <td>3.0</td>\n",
              "      <td>2.4</td>\n",
              "      <td>2.8</td>\n",
              "      <td>2.5</td>\n",
              "      <td>2.5</td>\n",
              "      <td>3.7</td>\n",
              "      <td>3.4</td>\n",
              "      <td>3.7</td>\n",
              "      <td>2.3</td>\n",
              "      <td>18.8</td>\n",
              "      <td>18.6</td>\n",
              "      <td>18.5</td>\n",
              "      <td>18.5</td>\n",
              "      <td>18.6</td>\n",
              "      <td>18.9</td>\n",
              "      <td>19.2</td>\n",
              "      <td>19.4</td>\n",
              "      <td>19.8</td>\n",
              "      <td>20.5</td>\n",
              "      <td>21.1</td>\n",
              "      <td>21.9</td>\n",
              "      <td>23.8</td>\n",
              "      <td>25.1</td>\n",
              "      <td>25.8</td>\n",
              "      <td>26.0</td>\n",
              "      <td>25.6</td>\n",
              "      <td>24.2</td>\n",
              "      <td>22.9</td>\n",
              "      <td>21.6</td>\n",
              "      <td>20.0</td>\n",
              "      <td>19.5</td>\n",
              "      <td>19.1</td>\n",
              "      <td>19.1</td>\n",
              "      <td>26.0</td>\n",
              "      <td>21.1</td>\n",
              "      <td>13.575298</td>\n",
              "      <td>0.57732</td>\n",
              "      <td>2.136487</td>\n",
              "      <td>1.662464</td>\n",
              "      <td>1531.49426</td>\n",
              "      <td>5.931129</td>\n",
              "      <td>0.406445</td>\n",
              "      <td>5.459634</td>\n",
              "      <td>0.994001</td>\n",
              "      <td>3145.420501</td>\n",
              "      <td>-10.51141</td>\n",
              "      <td>0.304716</td>\n",
              "      <td>9.872418</td>\n",
              "      <td>0.830116</td>\n",
              "      <td>5818.821222</td>\n",
              "      <td>10.511051</td>\n",
              "      <td>37.388335</td>\n",
              "      <td>10164.198442</td>\n",
              "      <td>-0.119949</td>\n",
              "      <td>0.58</td>\n",
              "      <td>0.0</td>\n",
              "    </tr>\n",
              "  </tbody>\n",
              "</table>\n",
              "</div>"
            ],
            "text/plain": [
              "    0    1    2    3    4   ...         68            69         70    71   72\n",
              "0  0.8  1.8  2.4  2.1  2.0  ...  17.900000  10330.000000 -55.000000  0.00  0.0\n",
              "1  2.8  3.2  3.3  2.7  3.3  ...  29.000000  10275.000000 -55.000000  0.00  0.0\n",
              "2  2.9  2.8  2.6  2.1  2.2  ...  41.300000  10235.000000 -40.000000  0.00  0.0\n",
              "3  4.7  3.8  3.7  3.8  2.9  ...  51.700000  10195.000000 -40.000000  2.08  0.0\n",
              "4  2.6  2.1  1.6  1.4  0.9  ...  37.388335  10164.198442  -0.119949  0.58  0.0\n",
              "\n",
              "[5 rows x 73 columns]"
            ]
          },
          "metadata": {
            "tags": []
          },
          "execution_count": 16
        }
      ]
    },
    {
      "cell_type": "code",
      "metadata": {
        "id": "91XXJjjT7tX7",
        "colab_type": "code",
        "colab": {
          "base_uri": "https://localhost:8080/",
          "height": 436
        },
        "outputId": "b19d32d4-bcb8-4a6a-a9e9-aeca89bcff25"
      },
      "source": [
        "#transform X by replacing the NaN values and converting it into a pandas DataFrame\n",
        "X = pd.DataFrame(imputer.fit_transform(X))\n",
        "#Assign Column Labels to each column of X\n",
        "X.columns=['Average Wind Speed','Average Temperature','Temeperature at 85 hpa','Relative Humidity at 85hpa','Sea Level Pressure','Precipitation']\n",
        "X"
      ],
      "execution_count": 17,
      "outputs": [
        {
          "output_type": "execute_result",
          "data": {
            "text/html": [
              "<div>\n",
              "<style scoped>\n",
              "    .dataframe tbody tr th:only-of-type {\n",
              "        vertical-align: middle;\n",
              "    }\n",
              "\n",
              "    .dataframe tbody tr th {\n",
              "        vertical-align: top;\n",
              "    }\n",
              "\n",
              "    .dataframe thead th {\n",
              "        text-align: right;\n",
              "    }\n",
              "</style>\n",
              "<table border=\"1\" class=\"dataframe\">\n",
              "  <thead>\n",
              "    <tr style=\"text-align: right;\">\n",
              "      <th></th>\n",
              "      <th>Average Wind Speed</th>\n",
              "      <th>Average Temperature</th>\n",
              "      <th>Temeperature at 85 hpa</th>\n",
              "      <th>Relative Humidity at 85hpa</th>\n",
              "      <th>Sea Level Pressure</th>\n",
              "      <th>Precipitation</th>\n",
              "    </tr>\n",
              "  </thead>\n",
              "  <tbody>\n",
              "    <tr>\n",
              "      <th>0</th>\n",
              "      <td>3.1</td>\n",
              "      <td>12.5</td>\n",
              "      <td>6.700000</td>\n",
              "      <td>0.11000</td>\n",
              "      <td>10330.000000</td>\n",
              "      <td>0.00</td>\n",
              "    </tr>\n",
              "    <tr>\n",
              "      <th>1</th>\n",
              "      <td>3.4</td>\n",
              "      <td>17.8</td>\n",
              "      <td>9.000000</td>\n",
              "      <td>0.25000</td>\n",
              "      <td>10275.000000</td>\n",
              "      <td>0.00</td>\n",
              "    </tr>\n",
              "    <tr>\n",
              "      <th>2</th>\n",
              "      <td>3.5</td>\n",
              "      <td>18.7</td>\n",
              "      <td>9.000000</td>\n",
              "      <td>0.56000</td>\n",
              "      <td>10235.000000</td>\n",
              "      <td>0.00</td>\n",
              "    </tr>\n",
              "    <tr>\n",
              "      <th>3</th>\n",
              "      <td>3.2</td>\n",
              "      <td>18.7</td>\n",
              "      <td>9.900000</td>\n",
              "      <td>0.89000</td>\n",
              "      <td>10195.000000</td>\n",
              "      <td>2.08</td>\n",
              "    </tr>\n",
              "    <tr>\n",
              "      <th>4</th>\n",
              "      <td>2.3</td>\n",
              "      <td>21.1</td>\n",
              "      <td>13.575298</td>\n",
              "      <td>0.57732</td>\n",
              "      <td>10164.198442</td>\n",
              "      <td>0.58</td>\n",
              "    </tr>\n",
              "    <tr>\n",
              "      <th>...</th>\n",
              "      <td>...</td>\n",
              "      <td>...</td>\n",
              "      <td>...</td>\n",
              "      <td>...</td>\n",
              "      <td>...</td>\n",
              "      <td>...</td>\n",
              "    </tr>\n",
              "    <tr>\n",
              "      <th>2529</th>\n",
              "      <td>1.6</td>\n",
              "      <td>7.7</td>\n",
              "      <td>5.500000</td>\n",
              "      <td>0.33000</td>\n",
              "      <td>10295.000000</td>\n",
              "      <td>0.00</td>\n",
              "    </tr>\n",
              "    <tr>\n",
              "      <th>2530</th>\n",
              "      <td>2.6</td>\n",
              "      <td>12.9</td>\n",
              "      <td>5.800000</td>\n",
              "      <td>0.27000</td>\n",
              "      <td>10310.000000</td>\n",
              "      <td>0.00</td>\n",
              "    </tr>\n",
              "    <tr>\n",
              "      <th>2531</th>\n",
              "      <td>1.9</td>\n",
              "      <td>17.7</td>\n",
              "      <td>7.500000</td>\n",
              "      <td>0.79000</td>\n",
              "      <td>10275.000000</td>\n",
              "      <td>0.00</td>\n",
              "    </tr>\n",
              "    <tr>\n",
              "      <th>2532</th>\n",
              "      <td>2.1</td>\n",
              "      <td>19.9</td>\n",
              "      <td>9.300000</td>\n",
              "      <td>0.66000</td>\n",
              "      <td>10245.000000</td>\n",
              "      <td>0.05</td>\n",
              "    </tr>\n",
              "    <tr>\n",
              "      <th>2533</th>\n",
              "      <td>2.5</td>\n",
              "      <td>20.7</td>\n",
              "      <td>10.100000</td>\n",
              "      <td>0.74000</td>\n",
              "      <td>10220.000000</td>\n",
              "      <td>0.00</td>\n",
              "    </tr>\n",
              "  </tbody>\n",
              "</table>\n",
              "<p>2534 rows × 6 columns</p>\n",
              "</div>"
            ],
            "text/plain": [
              "      Average Wind Speed  ...  Precipitation\n",
              "0                    3.1  ...           0.00\n",
              "1                    3.4  ...           0.00\n",
              "2                    3.5  ...           0.00\n",
              "3                    3.2  ...           2.08\n",
              "4                    2.3  ...           0.58\n",
              "...                  ...  ...            ...\n",
              "2529                 1.6  ...           0.00\n",
              "2530                 2.6  ...           0.00\n",
              "2531                 1.9  ...           0.00\n",
              "2532                 2.1  ...           0.05\n",
              "2533                 2.5  ...           0.00\n",
              "\n",
              "[2534 rows x 6 columns]"
            ]
          },
          "metadata": {
            "tags": []
          },
          "execution_count": 17
        }
      ]
    },
    {
      "cell_type": "code",
      "metadata": {
        "id": "f4WgDCd97tao",
        "colab_type": "code",
        "colab": {
          "base_uri": "https://localhost:8080/",
          "height": 34
        },
        "outputId": "7ba269d5-d6fd-4c87-d236-1c0f8aee88c5"
      },
      "source": [
        "X.shape"
      ],
      "execution_count": 18,
      "outputs": [
        {
          "output_type": "execute_result",
          "data": {
            "text/plain": [
              "(2534, 6)"
            ]
          },
          "metadata": {
            "tags": []
          },
          "execution_count": 18
        }
      ]
    },
    {
      "cell_type": "markdown",
      "metadata": {
        "id": "3zs-ifaPd4eA",
        "colab_type": "text"
      },
      "source": [
        "# **Data Visualization**"
      ]
    },
    {
      "cell_type": "code",
      "metadata": {
        "id": "FnfBS-XWc0zL",
        "colab_type": "code",
        "colab": {
          "base_uri": "https://localhost:8080/",
          "height": 492
        },
        "outputId": "a6333465-a7ab-49b7-eb7a-0019068be24a"
      },
      "source": [
        "#plot the histogram of all the input variables.\n",
        "#freq: is the number of counts in each bin of the histogram\n",
        "#bins: is the left hand edge of each bin\n",
        "#patches: is the individual patches used to create the histogram, e.g a collection of rectangles\n",
        "\n",
        "fig = plt.figure(figsize = (25,25))\n",
        "#fig.subplots_adjust(top=0.85, wspace=0.3)\n",
        "\n",
        "# Histogram\n",
        "ax = fig.add_subplot(6, 2, 1)\n",
        "ax.set_xlabel(\"Average Temperature\")\n",
        "ax.set_ylabel(\"Frequency\") \n",
        "freq, bins, patches = ax.hist(X['Average Temperature'], color='steelblue', bins=15,\n",
        "                                    edgecolor='black', linewidth=1)\n",
        "\n",
        "ax = fig.add_subplot(6, 2, 2)\n",
        "ax.set_xlabel(\"Average Wind Speed\")\n",
        "ax.set_ylabel(\"Frequency\") \n",
        "freq, bins, patches = ax.hist(X['Average Wind Speed'], color='steelblue', bins=15,\n",
        "                                    edgecolor='black', linewidth=1)\n",
        "\n",
        "ax = fig.add_subplot(6, 2, 3)\n",
        "ax.set_xlabel(\"Temeperature at 85 hpa\")\n",
        "ax.set_ylabel(\"Frequency\") \n",
        "freq, bins, patches = ax.hist(X['Temeperature at 85 hpa'], color='steelblue', bins=15,\n",
        "                                    edgecolor='black', linewidth=1)\n",
        "\n",
        "ax = fig.add_subplot(6, 2, 4)\n",
        "ax.set_xlabel(\"Relative Humidity at 85hpa\")\n",
        "ax.set_ylabel(\"Frequency\") \n",
        "freq, bins, patches = ax.hist(X['Relative Humidity at 85hpa'], color='steelblue', bins=15,\n",
        "                                    edgecolor='black', linewidth=1)\n",
        "\n",
        "ax = fig.add_subplot(6, 2, 5)\n",
        "ax.set_xlabel(\"Sea Level Pressure\")\n",
        "ax.set_ylabel(\"Frequency\") \n",
        "freq, bins, patches = ax.hist(X['Sea Level Pressure'], color='steelblue', bins=15,\n",
        "                                    edgecolor='black', linewidth=1)\n",
        "\n",
        "ax = fig.add_subplot(6, 2, 6)\n",
        "ax.set_xlabel(\"Precipitation\")\n",
        "ax.set_ylabel(\"Frequency\") \n",
        "freq, bins, patches = ax.hist(X['Precipitation'], color='steelblue', bins=15,\n",
        "                                    edgecolor='black', linewidth=1)\n",
        "fig. tight_layout(pad=3.0)"
      ],
      "execution_count": 60,
      "outputs": [
        {
          "output_type": "display_data",
          "data": {
            "image/png": "[encoded data removed]",
            "text/plain": [
              "<Figure size 1800x1800 with 6 Axes>"
            ]
          },
          "metadata": {
            "tags": [],
            "needs_background": "light"
          }
        }
      ]
    },
    {
      "cell_type": "code",
      "metadata": {
        "id": "EeaOmCgOpNpa",
        "colab_type": "code",
        "colab": {
          "base_uri": "https://localhost:8080/",
          "height": 458
        },
        "outputId": "1e462d39-96e0-4a70-eec6-1422ee37d01c"
      },
      "source": [
        "fig = plt.figure(figsize =(10, 7)) \n",
        "  \n",
        "plt.hist(Y)  \n",
        "plt.xlabel('Ozone Level')\n",
        "plt.ylabel('Frequency')  \n",
        "plt.title(\"Ozone Level (Low (0) and High(1))\")  \n",
        "  \n",
        "# show plot \n",
        "plt.show() "
      ],
      "execution_count": 33,
      "outputs": [
        {
          "output_type": "display_data",
          "data": {
            "image/png": "[encoded data removed]",
            "text/plain": [
              "<Figure size 720x504 with 1 Axes>"
            ]
          },
          "metadata": {
            "tags": [],
            "needs_background": "light"
          }
        }
      ]
    },
    {
      "cell_type": "code",
      "metadata": {
        "id": "VBi60ikx7tgO",
        "colab_type": "code",
        "colab": {
          "base_uri": "https://localhost:8080/",
          "height": 450
        },
        "outputId": "b8e067b3-0015-4816-fbf9-f340ab8ea09f"
      },
      "source": [
        "#plot the correlation between input variables using a heat map.\n",
        "#heat map assigns colors related to how high or low the value in each cell is. The colormap on the right gives the distribution.\n",
        "plt.figure(figsize=(6,5))  # set the size of the figure \n",
        "p=sns.heatmap(X.corr(), annot=True,cmap ='RdYlGn')  # we use the seaborn library to plot the heatmap.\n",
        "\n",
        "# We need to explain them how to interpret this graph and how it is benefecial in the analysis? "
      ],
      "execution_count": 34,
      "outputs": [
        {
          "output_type": "display_data",
          "data": {
            "image/png": "[encoded data removed]",
            "text/plain": [
              "<Figure size 432x360 with 2 Axes>"
            ]
          },
          "metadata": {
            "tags": [],
            "needs_background": "light"
          }
        }
      ]
    },
    {
      "cell_type": "code",
      "metadata": {
        "id": "FLS1F27LeZ8E",
        "colab_type": "code",
        "colab": {
          "base_uri": "https://localhost:8080/",
          "height": 314
        },
        "outputId": "f07c03a8-bfb8-4419-8861-1cc2a93171c5"
      },
      "source": [
        "#in the previous tutorial we used to calculate the mean and variance of each input feature separately. This is not feasible when the number of features\n",
        "#increase. Hence we will use the built in command in pandas to describe all the properties of the features.\n",
        "X.describe()"
      ],
      "execution_count": 35,
      "outputs": [
        {
          "output_type": "execute_result",
          "data": {
            "text/html": [
              "<div>\n",
              "<style scoped>\n",
              "    .dataframe tbody tr th:only-of-type {\n",
              "        vertical-align: middle;\n",
              "    }\n",
              "\n",
              "    .dataframe tbody tr th {\n",
              "        vertical-align: top;\n",
              "    }\n",
              "\n",
              "    .dataframe thead th {\n",
              "        text-align: right;\n",
              "    }\n",
              "</style>\n",
              "<table border=\"1\" class=\"dataframe\">\n",
              "  <thead>\n",
              "    <tr style=\"text-align: right;\">\n",
              "      <th></th>\n",
              "      <th>Average Wind Speed</th>\n",
              "      <th>Average Temperature</th>\n",
              "      <th>Temeperature at 85 hpa</th>\n",
              "      <th>Relative Humidity at 85hpa</th>\n",
              "      <th>Sea Level Pressure</th>\n",
              "      <th>Precipitation</th>\n",
              "    </tr>\n",
              "  </thead>\n",
              "  <tbody>\n",
              "    <tr>\n",
              "      <th>count</th>\n",
              "      <td>2534.000000</td>\n",
              "      <td>2534.000000</td>\n",
              "      <td>2534.000000</td>\n",
              "      <td>2534.000000</td>\n",
              "      <td>2534.000000</td>\n",
              "      <td>2534.000000</td>\n",
              "    </tr>\n",
              "    <tr>\n",
              "      <th>mean</th>\n",
              "      <td>2.314949</td>\n",
              "      <td>20.840483</td>\n",
              "      <td>13.575298</td>\n",
              "      <td>0.577320</td>\n",
              "      <td>10164.198442</td>\n",
              "      <td>0.372026</td>\n",
              "    </tr>\n",
              "    <tr>\n",
              "      <th>std</th>\n",
              "      <td>0.871756</td>\n",
              "      <td>6.766376</td>\n",
              "      <td>4.777721</td>\n",
              "      <td>0.252778</td>\n",
              "      <td>51.428116</td>\n",
              "      <td>1.317438</td>\n",
              "    </tr>\n",
              "    <tr>\n",
              "      <th>min</th>\n",
              "      <td>0.400000</td>\n",
              "      <td>0.300000</td>\n",
              "      <td>-7.100000</td>\n",
              "      <td>0.010000</td>\n",
              "      <td>9975.000000</td>\n",
              "      <td>0.000000</td>\n",
              "    </tr>\n",
              "    <tr>\n",
              "      <th>25%</th>\n",
              "      <td>1.700000</td>\n",
              "      <td>16.500000</td>\n",
              "      <td>10.700000</td>\n",
              "      <td>0.400000</td>\n",
              "      <td>10130.000000</td>\n",
              "      <td>0.000000</td>\n",
              "    </tr>\n",
              "    <tr>\n",
              "      <th>50%</th>\n",
              "      <td>2.300000</td>\n",
              "      <td>21.400000</td>\n",
              "      <td>14.100000</td>\n",
              "      <td>0.620000</td>\n",
              "      <td>10160.000000</td>\n",
              "      <td>0.000000</td>\n",
              "    </tr>\n",
              "    <tr>\n",
              "      <th>75%</th>\n",
              "      <td>2.800000</td>\n",
              "      <td>26.500000</td>\n",
              "      <td>17.300000</td>\n",
              "      <td>0.790000</td>\n",
              "      <td>10190.000000</td>\n",
              "      <td>0.050000</td>\n",
              "    </tr>\n",
              "    <tr>\n",
              "      <th>max</th>\n",
              "      <td>6.400000</td>\n",
              "      <td>33.600000</td>\n",
              "      <td>24.500000</td>\n",
              "      <td>1.000000</td>\n",
              "      <td>10350.000000</td>\n",
              "      <td>20.650000</td>\n",
              "    </tr>\n",
              "  </tbody>\n",
              "</table>\n",
              "</div>"
            ],
            "text/plain": [
              "       Average Wind Speed  ...  Precipitation\n",
              "count         2534.000000  ...    2534.000000\n",
              "mean             2.314949  ...       0.372026\n",
              "std              0.871756  ...       1.317438\n",
              "min              0.400000  ...       0.000000\n",
              "25%              1.700000  ...       0.000000\n",
              "50%              2.300000  ...       0.000000\n",
              "75%              2.800000  ...       0.050000\n",
              "max              6.400000  ...      20.650000\n",
              "\n",
              "[8 rows x 6 columns]"
            ]
          },
          "metadata": {
            "tags": []
          },
          "execution_count": 35
        }
      ]
    },
    {
      "cell_type": "markdown",
      "metadata": {
        "id": "N-4pHJiqHWUh",
        "colab_type": "text"
      },
      "source": [
        "# **Naive Bayes**"
      ]
    },
    {
      "cell_type": "code",
      "metadata": {
        "id": "kXqmrIj-HYQv",
        "colab_type": "code",
        "colab": {}
      },
      "source": [
        "#import MultinomialNB from sklearn library. \n",
        "from sklearn.naive_bayes import MultinomialNB"
      ],
      "execution_count": 36,
      "outputs": []
    },
    {
      "cell_type": "markdown",
      "metadata": {
        "id": "sVA9-snJMYsU",
        "colab_type": "text"
      },
      "source": [
        "**Data Preprocessing for Naive Bayes**"
      ]
    },
    {
      "cell_type": "markdown",
      "metadata": {
        "id": "8l5lFRETNzCg",
        "colab_type": "text"
      },
      "source": [
        "We need to scale the input such that its values fall in the range [0,1]. We will use normalization technique to achieve this result. \n",
        "\n",
        "![image.png](data:image/png;base64,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)"
      ]
    },
    {
      "cell_type": "code",
      "metadata": {
        "id": "1dBj6JGmKS08",
        "colab_type": "code",
        "colab": {
          "base_uri": "https://localhost:8080/",
          "height": 204
        },
        "outputId": "9516f5de-5791-47c6-d190-337e2e44c514"
      },
      "source": [
        "#we will use the built in MinMaxScaler to scale the inputs to [0,1]\n",
        "from sklearn import preprocessing\n",
        "min_max_scaler = preprocessing.MinMaxScaler()\n",
        "x_scaled = pd.DataFrame(min_max_scaler.fit_transform(X))\n",
        "x_scaled.head()"
      ],
      "execution_count": 37,
      "outputs": [
        {
          "output_type": "execute_result",
          "data": {
            "text/html": [
              "<div>\n",
              "<style scoped>\n",
              "    .dataframe tbody tr th:only-of-type {\n",
              "        vertical-align: middle;\n",
              "    }\n",
              "\n",
              "    .dataframe tbody tr th {\n",
              "        vertical-align: top;\n",
              "    }\n",
              "\n",
              "    .dataframe thead th {\n",
              "        text-align: right;\n",
              "    }\n",
              "</style>\n",
              "<table border=\"1\" class=\"dataframe\">\n",
              "  <thead>\n",
              "    <tr style=\"text-align: right;\">\n",
              "      <th></th>\n",
              "      <th>0</th>\n",
              "      <th>1</th>\n",
              "      <th>2</th>\n",
              "      <th>3</th>\n",
              "      <th>4</th>\n",
              "      <th>5</th>\n",
              "    </tr>\n",
              "  </thead>\n",
              "  <tbody>\n",
              "    <tr>\n",
              "      <th>0</th>\n",
              "      <td>0.450000</td>\n",
              "      <td>0.366366</td>\n",
              "      <td>0.436709</td>\n",
              "      <td>0.101010</td>\n",
              "      <td>0.946667</td>\n",
              "      <td>0.000000</td>\n",
              "    </tr>\n",
              "    <tr>\n",
              "      <th>1</th>\n",
              "      <td>0.500000</td>\n",
              "      <td>0.525526</td>\n",
              "      <td>0.509494</td>\n",
              "      <td>0.242424</td>\n",
              "      <td>0.800000</td>\n",
              "      <td>0.000000</td>\n",
              "    </tr>\n",
              "    <tr>\n",
              "      <th>2</th>\n",
              "      <td>0.516667</td>\n",
              "      <td>0.552553</td>\n",
              "      <td>0.509494</td>\n",
              "      <td>0.555556</td>\n",
              "      <td>0.693333</td>\n",
              "      <td>0.000000</td>\n",
              "    </tr>\n",
              "    <tr>\n",
              "      <th>3</th>\n",
              "      <td>0.466667</td>\n",
              "      <td>0.552553</td>\n",
              "      <td>0.537975</td>\n",
              "      <td>0.888889</td>\n",
              "      <td>0.586667</td>\n",
              "      <td>0.100726</td>\n",
              "    </tr>\n",
              "    <tr>\n",
              "      <th>4</th>\n",
              "      <td>0.316667</td>\n",
              "      <td>0.624625</td>\n",
              "      <td>0.654282</td>\n",
              "      <td>0.573050</td>\n",
              "      <td>0.504529</td>\n",
              "      <td>0.028087</td>\n",
              "    </tr>\n",
              "  </tbody>\n",
              "</table>\n",
              "</div>"
            ],
            "text/plain": [
              "          0         1         2         3         4         5\n",
              "0  0.450000  0.366366  0.436709  0.101010  0.946667  0.000000\n",
              "1  0.500000  0.525526  0.509494  0.242424  0.800000  0.000000\n",
              "2  0.516667  0.552553  0.509494  0.555556  0.693333  0.000000\n",
              "3  0.466667  0.552553  0.537975  0.888889  0.586667  0.100726\n",
              "4  0.316667  0.624625  0.654282  0.573050  0.504529  0.028087"
            ]
          },
          "metadata": {
            "tags": []
          },
          "execution_count": 37
        }
      ]
    },
    {
      "cell_type": "code",
      "metadata": {
        "id": "SdQVuf03skbE",
        "colab_type": "code",
        "colab": {
          "base_uri": "https://localhost:8080/",
          "height": 34
        },
        "outputId": "7cf40598-076d-4213-f930-859716eb1b23"
      },
      "source": [
        "#split the data into train and test. Test data=1/3(total data)\n",
        "from sklearn.model_selection import train_test_split \n",
        "X_train1,X_test1,y_train1,y_test1 = train_test_split(x_scaled,Y,test_size=1/3,random_state=42, stratify=Y)\n",
        "\n",
        "#create an instance of MultinomialNB class\n",
        "model=MultinomialNB()\n",
        "\n",
        "#fit the training data \n",
        "model.fit(X_train1, y_train1)\n",
        "\n",
        "# you get the conditional probabilities"
      ],
      "execution_count": 38,
      "outputs": [
        {
          "output_type": "execute_result",
          "data": {
            "text/plain": [
              "MultinomialNB(alpha=1.0, class_prior=None, fit_prior=True)"
            ]
          },
          "metadata": {
            "tags": []
          },
          "execution_count": 38
        }
      ]
    },
    {
      "cell_type": "code",
      "metadata": {
        "id": "iKgXopdlRyhs",
        "colab_type": "code",
        "colab": {}
      },
      "source": [
        "#get the predicted labels for test data\n",
        "labels = model.predict(X_test1)"
      ],
      "execution_count": 39,
      "outputs": []
    },
    {
      "cell_type": "code",
      "metadata": {
        "id": "ceD3EPTXtYNS",
        "colab_type": "code",
        "colab": {
          "base_uri": "https://localhost:8080/",
          "height": 34
        },
        "outputId": "490b231d-04e9-4c97-ac57-2f15e0558cff"
      },
      "source": [
        "#predict the accuracy of the model on test data\n",
        "from sklearn.metrics import accuracy_score\n",
        "score = accuracy_score(y_test1, labels)\n",
        "print(score)"
      ],
      "execution_count": 40,
      "outputs": [
        {
          "output_type": "stream",
          "text": [
            "0.9372781065088758\n"
          ],
          "name": "stdout"
        }
      ]
    },
    {
      "cell_type": "code",
      "metadata": {
        "id": "xVixG4JYUOUD",
        "colab_type": "code",
        "colab": {
          "base_uri": "https://localhost:8080/",
          "height": 279
        },
        "outputId": "cdb6b419-2565-41ae-de43-fa663a26ce63"
      },
      "source": [
        "#build a confusion matrix to visualize the performance of the model using seaborn\n",
        "from sklearn.metrics import confusion_matrix\n",
        "mat = confusion_matrix(y_test1, labels)\n",
        "sns.heatmap(mat.T, square=True, annot=True, fmt='d', cbar=False,\n",
        "            )\n",
        "plt.xlabel('true label')\n",
        "plt.ylabel('predicted label');"
      ],
      "execution_count": 41,
      "outputs": [
        {
          "output_type": "display_data",
          "data": {
            "image/png": "[encoded data removed]",
            "text/plain": [
              "<Figure size 432x288 with 1 Axes>"
            ]
          },
          "metadata": {
            "tags": [],
            "needs_background": "light"
          }
        }
      ]
    },
    {
      "cell_type": "code",
      "metadata": {
        "id": "NgUp1kkNw-A0",
        "colab_type": "code",
        "colab": {
          "base_uri": "https://localhost:8080/",
          "height": 224
        },
        "outputId": "9b43328e-1e54-4741-f9d0-1ab99b4f2e0a"
      },
      "source": [
        "#import classification_report- (Precision, Recall, F1-score and support)\n",
        "# https://scikit-learn.org/stable/modules/generated/sklearn.metrics.classification_report.html\n",
        "from sklearn.metrics import classification_report\n",
        "print(classification_report(y_test1,labels))\n",
        "\n",
        "#The metric \"Support\" here gives the number of occurrences of each class. \n",
        "# Precision = tp / (tp + fp)\n",
        "# Recall =  tp / (tp + fn)\n",
        "# F-score = weighted harmonic mean of the precision and recall,\n",
        "#precision  - 792 /(792+53) = 0.937 ~ 0.94\n",
        "#Recall - 792/(792+0) = 1\n",
        "# Support - it gives count, so 792 instances are classified in class 0 and 53 are classified in class 1 \n",
        "#For more details to understand this table, please refer to the sklearn user guide. "
      ],
      "execution_count": 42,
      "outputs": [
        {
          "output_type": "stream",
          "text": [
            "              precision    recall  f1-score   support\n",
            "\n",
            "           0       0.94      1.00      0.97       792\n",
            "           1       0.00      0.00      0.00        53\n",
            "\n",
            "    accuracy                           0.94       845\n",
            "   macro avg       0.47      0.50      0.48       845\n",
            "weighted avg       0.88      0.94      0.91       845\n",
            "\n"
          ],
          "name": "stdout"
        },
        {
          "output_type": "stream",
          "text": [
            "/usr/local/lib/python3.6/dist-packages/sklearn/metrics/_classification.py:1272: UndefinedMetricWarning: Precision and F-score are ill-defined and being set to 0.0 in labels with no predicted samples. Use `zero_division` parameter to control this behavior.\n",
            "  _warn_prf(average, modifier, msg_start, len(result))\n"
          ],
          "name": "stderr"
        }
      ]
    },
    {
      "cell_type": "code",
      "metadata": {
        "id": "QJrHI3reVDK7",
        "colab_type": "code",
        "colab": {}
      },
      "source": [
        "#get the count of Y=0 samples and Y=1 samples\n",
        "#print(len(y_train))\n",
        "#Y_plus=np.count_nonzero(y_train)\n",
        "#Y_zero=len(y_train)-Y_plus\n",
        "#print(Y_plus,Y_zero)"
      ],
      "execution_count": null,
      "outputs": []
    },
    {
      "cell_type": "markdown",
      "metadata": {
        "id": "hUyjJaWpuFXV",
        "colab_type": "text"
      },
      "source": [
        "The Naive Bayes Completely Failed to classify any samples of class 1. This is because the prior P(Y=0) is very high as compared to P(Y=1).\n",
        "\n",
        "P(Y=0)=1582/1689 = 0.936 \\\\\n",
        "P(Y=1)=107/1689 = 0.063\n",
        "\n",
        "Hence in every test case, the conditional probability P(Y=0/X) dominated."
      ]
    },
    {
      "cell_type": "markdown",
      "metadata": {
        "id": "fxzQLFbChQW7",
        "colab_type": "text"
      },
      "source": [
        "# **K-Nearest Neighbours Algorithm**"
      ]
    },
    {
      "cell_type": "markdown",
      "metadata": {
        "id": "z4vUh7_Ee5Xl",
        "colab_type": "text"
      },
      "source": [
        "**Data Preprocessing for k-Nearest Neighbours**\n",
        "\n",
        "As we studied in the lecture, standardization of input features in very important before computing the Euclidean distance. This is to ensure that one feature with very large values does not end up dominating the distance term, rendering all other features useless. \\\\\n",
        "Here you can see the feature SLP (sea level pressure) to be in 10,000's whereas all other features are less than 100. What do you think will happen if you do not standardize the data? \n",
        "\n",
        "There are various ways of standarizing the data. \n",
        "1. Transform all features to lie between [0,1] or [-1,1]\n",
        "2. Subtract the mean and divide by standard deviation to get a 0 mean and unit standard deviation.  \n",
        "\n",
        "![image.png](data:image/png;base64,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)"
      ]
    },
    {
      "cell_type": "markdown",
      "metadata": {
        "id": "6VNINZHHe7th",
        "colab_type": "text"
      },
      "source": [
        "Input X and output Y are from the Naive Bayes exercise ( We are continuing with the same dataset)"
      ]
    },
    {
      "cell_type": "code",
      "metadata": {
        "id": "C7CGaZvJ64rz",
        "colab_type": "code",
        "colab": {}
      },
      "source": [
        "#standardizing the input\n",
        "x_std = (X-X.mean())/(X.std()) "
      ],
      "execution_count": 43,
      "outputs": []
    },
    {
      "cell_type": "code",
      "metadata": {
        "id": "5EJvqyEv65I1",
        "colab_type": "code",
        "colab": {
          "base_uri": "https://localhost:8080/",
          "height": 221
        },
        "outputId": "8a2228d5-abe5-4666-9bd5-8c85d70890cd"
      },
      "source": [
        "x_std.head()"
      ],
      "execution_count": 44,
      "outputs": [
        {
          "output_type": "execute_result",
          "data": {
            "text/html": [
              "<div>\n",
              "<style scoped>\n",
              "    .dataframe tbody tr th:only-of-type {\n",
              "        vertical-align: middle;\n",
              "    }\n",
              "\n",
              "    .dataframe tbody tr th {\n",
              "        vertical-align: top;\n",
              "    }\n",
              "\n",
              "    .dataframe thead th {\n",
              "        text-align: right;\n",
              "    }\n",
              "</style>\n",
              "<table border=\"1\" class=\"dataframe\">\n",
              "  <thead>\n",
              "    <tr style=\"text-align: right;\">\n",
              "      <th></th>\n",
              "      <th>Average Wind Speed</th>\n",
              "      <th>Average Temperature</th>\n",
              "      <th>Temeperature at 85 hpa</th>\n",
              "      <th>Relative Humidity at 85hpa</th>\n",
              "      <th>Sea Level Pressure</th>\n",
              "      <th>Precipitation</th>\n",
              "    </tr>\n",
              "  </thead>\n",
              "  <tbody>\n",
              "    <tr>\n",
              "      <th>0</th>\n",
              "      <td>0.900540</td>\n",
              "      <td>-1.232637</td>\n",
              "      <td>-1.439033e+00</td>\n",
              "      <td>-1.848735e+00</td>\n",
              "      <td>3.223948e+00</td>\n",
              "      <td>-0.282386</td>\n",
              "    </tr>\n",
              "    <tr>\n",
              "      <th>1</th>\n",
              "      <td>1.244673</td>\n",
              "      <td>-0.449352</td>\n",
              "      <td>-9.576318e-01</td>\n",
              "      <td>-1.294890e+00</td>\n",
              "      <td>2.154494e+00</td>\n",
              "      <td>-0.282386</td>\n",
              "    </tr>\n",
              "    <tr>\n",
              "      <th>2</th>\n",
              "      <td>1.359384</td>\n",
              "      <td>-0.316341</td>\n",
              "      <td>-9.576318e-01</td>\n",
              "      <td>-6.851811e-02</td>\n",
              "      <td>1.376709e+00</td>\n",
              "      <td>-0.282386</td>\n",
              "    </tr>\n",
              "    <tr>\n",
              "      <th>3</th>\n",
              "      <td>1.015251</td>\n",
              "      <td>-0.316341</td>\n",
              "      <td>-7.692575e-01</td>\n",
              "      <td>1.236974e+00</td>\n",
              "      <td>5.989245e-01</td>\n",
              "      <td>1.296436</td>\n",
              "    </tr>\n",
              "    <tr>\n",
              "      <th>4</th>\n",
              "      <td>-0.017148</td>\n",
              "      <td>0.038354</td>\n",
              "      <td>-7.436000e-16</td>\n",
              "      <td>5.709709e-15</td>\n",
              "      <td>-2.829564e-13</td>\n",
              "      <td>0.157862</td>\n",
              "    </tr>\n",
              "  </tbody>\n",
              "</table>\n",
              "</div>"
            ],
            "text/plain": [
              "   Average Wind Speed  Average Temperature  ...  Sea Level Pressure  Precipitation\n",
              "0            0.900540            -1.232637  ...        3.223948e+00      -0.282386\n",
              "1            1.244673            -0.449352  ...        2.154494e+00      -0.282386\n",
              "2            1.359384            -0.316341  ...        1.376709e+00      -0.282386\n",
              "3            1.015251            -0.316341  ...        5.989245e-01       1.296436\n",
              "4           -0.017148             0.038354  ...       -2.829564e-13       0.157862\n",
              "\n",
              "[5 rows x 6 columns]"
            ]
          },
          "metadata": {
            "tags": []
          },
          "execution_count": 44
        }
      ]
    },
    {
      "cell_type": "code",
      "metadata": {
        "id": "AsalLD6Jef9Y",
        "colab_type": "code",
        "colab": {
          "base_uri": "https://localhost:8080/",
          "height": 314
        },
        "outputId": "403b59f1-d10e-4187-8570-81edcefc4183"
      },
      "source": [
        "x_std. describe()"
      ],
      "execution_count": 45,
      "outputs": [
        {
          "output_type": "execute_result",
          "data": {
            "text/html": [
              "<div>\n",
              "<style scoped>\n",
              "    .dataframe tbody tr th:only-of-type {\n",
              "        vertical-align: middle;\n",
              "    }\n",
              "\n",
              "    .dataframe tbody tr th {\n",
              "        vertical-align: top;\n",
              "    }\n",
              "\n",
              "    .dataframe thead th {\n",
              "        text-align: right;\n",
              "    }\n",
              "</style>\n",
              "<table border=\"1\" class=\"dataframe\">\n",
              "  <thead>\n",
              "    <tr style=\"text-align: right;\">\n",
              "      <th></th>\n",
              "      <th>Average Wind Speed</th>\n",
              "      <th>Average Temperature</th>\n",
              "      <th>Temeperature at 85 hpa</th>\n",
              "      <th>Relative Humidity at 85hpa</th>\n",
              "      <th>Sea Level Pressure</th>\n",
              "      <th>Precipitation</th>\n",
              "    </tr>\n",
              "  </thead>\n",
              "  <tbody>\n",
              "    <tr>\n",
              "      <th>count</th>\n",
              "      <td>2.534000e+03</td>\n",
              "      <td>2.534000e+03</td>\n",
              "      <td>2.534000e+03</td>\n",
              "      <td>2.534000e+03</td>\n",
              "      <td>2.534000e+03</td>\n",
              "      <td>2.534000e+03</td>\n",
              "    </tr>\n",
              "    <tr>\n",
              "      <th>mean</th>\n",
              "      <td>-2.569658e-15</td>\n",
              "      <td>-2.704097e-14</td>\n",
              "      <td>-1.028643e-15</td>\n",
              "      <td>5.797476e-15</td>\n",
              "      <td>-2.732839e-13</td>\n",
              "      <td>8.704560e-16</td>\n",
              "    </tr>\n",
              "    <tr>\n",
              "      <th>std</th>\n",
              "      <td>1.000000e+00</td>\n",
              "      <td>1.000000e+00</td>\n",
              "      <td>1.000000e+00</td>\n",
              "      <td>1.000000e+00</td>\n",
              "      <td>1.000000e+00</td>\n",
              "      <td>1.000000e+00</td>\n",
              "    </tr>\n",
              "    <tr>\n",
              "      <th>min</th>\n",
              "      <td>-2.196657e+00</td>\n",
              "      <td>-3.035670e+00</td>\n",
              "      <td>-4.327439e+00</td>\n",
              "      <td>-2.244339e+00</td>\n",
              "      <td>-3.678891e+00</td>\n",
              "      <td>-2.823860e-01</td>\n",
              "    </tr>\n",
              "    <tr>\n",
              "      <th>25%</th>\n",
              "      <td>-7.054143e-01</td>\n",
              "      <td>-6.414783e-01</td>\n",
              "      <td>-6.018136e-01</td>\n",
              "      <td>-7.014841e-01</td>\n",
              "      <td>-6.649756e-01</td>\n",
              "      <td>-2.823860e-01</td>\n",
              "    </tr>\n",
              "    <tr>\n",
              "      <th>50%</th>\n",
              "      <td>-1.714831e-02</td>\n",
              "      <td>8.269076e-02</td>\n",
              "      <td>1.098227e-01</td>\n",
              "      <td>1.688441e-01</td>\n",
              "      <td>-8.163709e-02</td>\n",
              "      <td>-2.823860e-01</td>\n",
              "    </tr>\n",
              "    <tr>\n",
              "      <th>75%</th>\n",
              "      <td>5.564067e-01</td>\n",
              "      <td>8.364178e-01</td>\n",
              "      <td>7.795981e-01</td>\n",
              "      <td>8.413704e-01</td>\n",
              "      <td>5.017014e-01</td>\n",
              "      <td>-2.444335e-01</td>\n",
              "    </tr>\n",
              "    <tr>\n",
              "      <th>max</th>\n",
              "      <td>4.686003e+00</td>\n",
              "      <td>1.885724e+00</td>\n",
              "      <td>2.286593e+00</td>\n",
              "      <td>1.672138e+00</td>\n",
              "      <td>3.612840e+00</td>\n",
              "      <td>1.539197e+01</td>\n",
              "    </tr>\n",
              "  </tbody>\n",
              "</table>\n",
              "</div>"
            ],
            "text/plain": [
              "       Average Wind Speed  ...  Precipitation\n",
              "count        2.534000e+03  ...   2.534000e+03\n",
              "mean        -2.569658e-15  ...   8.704560e-16\n",
              "std          1.000000e+00  ...   1.000000e+00\n",
              "min         -2.196657e+00  ...  -2.823860e-01\n",
              "25%         -7.054143e-01  ...  -2.823860e-01\n",
              "50%         -1.714831e-02  ...  -2.823860e-01\n",
              "75%          5.564067e-01  ...  -2.444335e-01\n",
              "max          4.686003e+00  ...   1.539197e+01\n",
              "\n",
              "[8 rows x 6 columns]"
            ]
          },
          "metadata": {
            "tags": []
          },
          "execution_count": 45
        }
      ]
    },
    {
      "cell_type": "code",
      "metadata": {
        "id": "sTRYXMg09oNL",
        "colab_type": "code",
        "colab": {}
      },
      "source": [
        "#split the data into train and test. Test data=1/3(total data)\n",
        "X_train,X_test,y_train,y_test = train_test_split(x_std,Y,test_size=1/3,random_state=42) #set random state to any integer for reproducibilty"
      ],
      "execution_count": 46,
      "outputs": []
    },
    {
      "cell_type": "code",
      "metadata": {
        "id": "tikK9NE692Er",
        "colab_type": "code",
        "colab": {}
      },
      "source": [
        "#import KNeighboursClassifier from the sklearn library\n",
        "from sklearn.neighbors import KNeighborsClassifier\n",
        "\n",
        "#Here we will manually try different k values to get the optimal value. k ranges from 1 to 15\n",
        "\n",
        "#create an empty list to store the accuracy for each k value. This will be later used for comparison\n",
        "test_scores = []\n",
        "train_scores = []\n",
        "\n",
        "#run a for loop for each of the k value\n",
        "for i in range(1,15):\n",
        "    #for the current loop assign k=i\n",
        "    knn = KNeighborsClassifier(i)\n",
        "    #the training data\n",
        "    knn.fit(X_train,y_train)\n",
        "    #predict the class label for the training data\n",
        "    pred_y_train=knn.predict(X_train)\n",
        "    #get the training accuracy\n",
        "    train_accuracy=accuracy_score(pred_y_train,y_train)\n",
        "    #append the training accuracy at a particular k value to the list.\n",
        "    train_scores.append(train_accuracy)\n",
        "\n",
        "    #predict the class label for test data\n",
        "    pred_y_test=knn.predict(X_test)\n",
        "    #get the test accuracy\n",
        "    test_accuracy=accuracy_score(pred_y_test,y_test)\n",
        "    #append the test accuracy at a particular k value to the list.\n",
        "    test_scores.append(test_accuracy)"
      ],
      "execution_count": 48,
      "outputs": []
    },
    {
      "cell_type": "code",
      "metadata": {
        "id": "NPhlzhxuANl3",
        "colab_type": "code",
        "colab": {
          "base_uri": "https://localhost:8080/",
          "height": 255
        },
        "outputId": "758b3795-7349-4167-b4fa-8d6b6fb9ba4f"
      },
      "source": [
        "#observe the training accuracies. You will notice 100% accuracy for k=1.\n",
        "train_scores"
      ],
      "execution_count": 49,
      "outputs": [
        {
          "output_type": "execute_result",
          "data": {
            "text/plain": [
              "[1.0,\n",
              " 0.9508584961515689,\n",
              " 0.9538188277087034,\n",
              " 0.9413854351687388,\n",
              " 0.9425695677915926,\n",
              " 0.9360568383658969,\n",
              " 0.9396092362344582,\n",
              " 0.9402013025458852,\n",
              " 0.9425695677915926,\n",
              " 0.9384251036116045,\n",
              " 0.9402013025458852,\n",
              " 0.9390171699230314,\n",
              " 0.9396092362344582,\n",
              " 0.9384251036116045]"
            ]
          },
          "metadata": {
            "tags": []
          },
          "execution_count": 49
        }
      ]
    },
    {
      "cell_type": "code",
      "metadata": {
        "id": "iyaAdTKXnqjW",
        "colab_type": "code",
        "colab": {
          "base_uri": "https://localhost:8080/",
          "height": 255
        },
        "outputId": "26097b5f-064d-4904-d7b4-53c8f7a94b30"
      },
      "source": [
        "test_scores"
      ],
      "execution_count": 50,
      "outputs": [
        {
          "output_type": "execute_result",
          "data": {
            "text/plain": [
              "[0.9136094674556213,\n",
              " 0.9396449704142011,\n",
              " 0.9313609467455621,\n",
              " 0.9396449704142011,\n",
              " 0.9337278106508876,\n",
              " 0.9384615384615385,\n",
              " 0.9349112426035503,\n",
              " 0.9396449704142011,\n",
              " 0.9372781065088758,\n",
              " 0.9372781065088758,\n",
              " 0.9349112426035503,\n",
              " 0.9372781065088758,\n",
              " 0.9349112426035503,\n",
              " 0.9349112426035503]"
            ]
          },
          "metadata": {
            "tags": []
          },
          "execution_count": 50
        }
      ]
    },
    {
      "cell_type": "code",
      "metadata": {
        "id": "4y7GWQ4uAO8h",
        "colab_type": "code",
        "colab": {
          "base_uri": "https://localhost:8080/",
          "height": 34
        },
        "outputId": "860733a3-9d01-4463-976a-a9c2aa4cc0ea"
      },
      "source": [
        "## Find the maximum score for all the k-values on the training dataset\n",
        "max_train_score = max(train_scores)\n",
        "for k in range(len(train_scores)):\n",
        "  if train_scores[k]==max_train_score:\n",
        "     print(\"max_training_score= \"+str(max_train_score)+\", \" + \"k=\" + str(k+1))"
      ],
      "execution_count": 51,
      "outputs": [
        {
          "output_type": "stream",
          "text": [
            "max_training_score= 1.0, k=1\n"
          ],
          "name": "stdout"
        }
      ]
    },
    {
      "cell_type": "code",
      "metadata": {
        "id": "bMK2CiD_Ag40",
        "colab_type": "code",
        "colab": {
          "base_uri": "https://localhost:8080/",
          "height": 68
        },
        "outputId": "f0e8b6f6-3dd5-41ee-cda7-e4b86e29761b"
      },
      "source": [
        "## score that comes from testing on the datapoints that were split in the beginning to be used for testing solely\n",
        "max_test_score = max(test_scores)\n",
        "for k in range(len(test_scores)):\n",
        "  if test_scores[k]==max_test_score:\n",
        "     print(\"max_test_score= \"+str(max_test_score)+\", \" + \"k=\" + str(k+1))"
      ],
      "execution_count": 52,
      "outputs": [
        {
          "output_type": "stream",
          "text": [
            "max_test_score= 0.9396449704142011, k=2\n",
            "max_test_score= 0.9396449704142011, k=4\n",
            "max_test_score= 0.9396449704142011, k=8\n"
          ],
          "name": "stdout"
        }
      ]
    },
    {
      "cell_type": "code",
      "metadata": {
        "id": "18IYfaidAiHt",
        "colab_type": "code",
        "colab": {
          "base_uri": "https://localhost:8080/",
          "height": 320
        },
        "outputId": "ac045bf0-2709-4e39-a173-4293df9cdf3d"
      },
      "source": [
        "plt.figure(figsize=(12,5))\n",
        "p = sns.lineplot(range(1,15),train_scores,marker='*',label='Train Score')\n",
        "p = sns.lineplot(range(1,15),test_scores,marker='o',label='Test Score')\n",
        "#Axis labels are missing\n",
        "# In the class - We defined error rate and shown error rate vs K - choose K which gives lowest error rate. "
      ],
      "execution_count": 53,
      "outputs": [
        {
          "output_type": "display_data",
          "data": {
            "image/png": "[encoded data removed]",
            "text/plain": [
              "<Figure size 864x360 with 1 Axes>"
            ]
          },
          "metadata": {
            "tags": [],
            "needs_background": "light"
          }
        }
      ]
    },
    {
      "cell_type": "markdown",
      "metadata": {
        "id": "a_ccQd8cnkvk",
        "colab_type": "text"
      },
      "source": [
        "Looking at the Plot we can see that best performance of the knn classifier is at k=4. Hence we set up our knn classifier with k=4.\n"
      ]
    },
    {
      "cell_type": "code",
      "metadata": {
        "id": "q1lFSIARAyoW",
        "colab_type": "code",
        "colab": {
          "base_uri": "https://localhost:8080/",
          "height": 34
        },
        "outputId": "b74832d7-d644-4fd4-df12-43f784edb9de"
      },
      "source": [
        "#Setup a knn classifier with k neighbors\n",
        "knn = KNeighborsClassifier(4)\n",
        "\n",
        "knn.fit(X_train,y_train)\n",
        "knn.score(X_test,y_test)"
      ],
      "execution_count": 54,
      "outputs": [
        {
          "output_type": "execute_result",
          "data": {
            "text/plain": [
              "0.9396449704142011"
            ]
          },
          "metadata": {
            "tags": []
          },
          "execution_count": 54
        }
      ]
    },
    {
      "cell_type": "code",
      "metadata": {
        "id": "-KcssU_yB57H",
        "colab_type": "code",
        "colab": {}
      },
      "source": [
        "#select a sample from the test data to predict the output using the developed knn classifier\n",
        "t=X_test.values[0]"
      ],
      "execution_count": 55,
      "outputs": []
    },
    {
      "cell_type": "code",
      "metadata": {
        "id": "mELfR7J9rzIS",
        "colab_type": "code",
        "colab": {
          "base_uri": "https://localhost:8080/",
          "height": 51
        },
        "outputId": "f48e105c-5453-42e8-9299-6ee5874440b8"
      },
      "source": [
        "t"
      ],
      "execution_count": 56,
      "outputs": [
        {
          "output_type": "execute_result",
          "data": {
            "text/plain": [
              "array([ 0.67111772,  0.73296504,  0.25633606,  0.08972338, -0.47052942,\n",
              "       -0.28238597])"
            ]
          },
          "metadata": {
            "tags": []
          },
          "execution_count": 56
        }
      ]
    },
    {
      "cell_type": "code",
      "metadata": {
        "id": "WiJWbpWwCfzd",
        "colab_type": "code",
        "colab": {
          "base_uri": "https://localhost:8080/",
          "height": 51
        },
        "outputId": "89cd8a55-14c6-4c2f-8e3a-540381499217"
      },
      "source": [
        "print(\"Predicted Class: \",knn.predict(t.reshape(1,-1)))\n",
        "print(\"True Class: \",y_test[0])"
      ],
      "execution_count": 57,
      "outputs": [
        {
          "output_type": "stream",
          "text": [
            "Predicted Class:  [0]\n",
            "True Class:  0\n"
          ],
          "name": "stdout"
        }
      ]
    },
    {
      "cell_type": "markdown",
      "metadata": {
        "id": "-Euowsw9oYzP",
        "colab_type": "text"
      },
      "source": [
        "You might be thinking that the knn classifier worked exceptionally well on the data. The accuracy achieved is 94% on the test data. But does accuracy in itelf give the complete picture about the classifier's performance? As studied in the class, let us look at some other performance metrics."
      ]
    },
    {
      "cell_type": "code",
      "metadata": {
        "id": "32TjFPmNDcIX",
        "colab_type": "code",
        "colab": {
          "base_uri": "https://localhost:8080/",
          "height": 279
        },
        "outputId": "42927179-1be2-48e4-bddb-1c1be0d5f715"
      },
      "source": [
        "y_pred = knn.predict(X_test)\n",
        "#build a confusion matrix to visualize the performance of the model using seaborn\n",
        "mat = confusion_matrix(y_test, y_pred)\n",
        "sns.heatmap(mat.T, square=True, annot=True, fmt='d', cbar=False,\n",
        "            )\n",
        "plt.xlabel('true label')\n",
        "plt.ylabel('predicted label');"
      ],
      "execution_count": 58,
      "outputs": [
        {
          "output_type": "display_data",
          "data": {
            "image/png": "[encoded data removed]",
            "text/plain": [
              "<Figure size 432x288 with 1 Axes>"
            ]
          },
          "metadata": {
            "tags": [],
            "needs_background": "light"
          }
        }
      ]
    },
    {
      "cell_type": "code",
      "metadata": {
        "id": "lJAJWg90eBuZ",
        "colab_type": "code",
        "colab": {}
      },
      "source": [
        ""
      ],
      "execution_count": null,
      "outputs": []
    },
    {
      "cell_type": "markdown",
      "metadata": {
        "id": "zDlShgSOo2Ad",
        "colab_type": "text"
      },
      "source": [
        "You can see, that though the classifier predicted almost all the samples of class 0 correct, but failed completely on classifying the samples belonging to class 1. Why did this happen? \n",
        "\n",
        "On reviewing the histogram for the output variable, we see a highly imbalanced data. There are over 2000 samples belonging to class 0 whereas around 200 for class 1. This imbalance causes the classifier to be biased towards one class. Hence causing the poor performance. \n",
        "\n",
        "Accuracy in itself does not explain this effect. On looking at the confusion matrix, you would conclude that the classifier does a great job at predicting samples belong to class 0 but not well on class 1. Hence it is not a good classifier.\n",
        "\n",
        "Since this dataset is highly skewed there is not much scope to improve the performance of any classifier by tuning. We will be needing additional data which would balance out the distribution of the two classes."
      ]
    },
    {
      "cell_type": "code",
      "metadata": {
        "id": "JEoo9-IXGWCp",
        "colab_type": "code",
        "colab": {
          "base_uri": "https://localhost:8080/",
          "height": 170
        },
        "outputId": "3324cec7-e611-45cd-b887-45efd5ff8bf2"
      },
      "source": [
        "#import classification_report- (Precision, Recall, F1-score and support)\n",
        "# https://scikit-learn.org/stable/modules/generated/sklearn.metrics.classification_report.html\n",
        "from sklearn.metrics import classification_report\n",
        "print(classification_report(y_test,y_pred))\n"
      ],
      "execution_count": 59,
      "outputs": [
        {
          "output_type": "stream",
          "text": [
            "              precision    recall  f1-score   support\n",
            "\n",
            "           0       0.94      1.00      0.97       795\n",
            "           1       0.40      0.04      0.07        50\n",
            "\n",
            "    accuracy                           0.94       845\n",
            "   macro avg       0.67      0.52      0.52       845\n",
            "weighted avg       0.91      0.94      0.92       845\n",
            "\n"
          ],
          "name": "stdout"
        }
      ]
    }
  ]
}