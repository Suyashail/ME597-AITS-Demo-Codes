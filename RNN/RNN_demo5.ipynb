{
  "nbformat": 4,
  "nbformat_minor": 0,
  "metadata": {
    "colab": {
      "name": "RNN_demo4.ipynb",
      "provenance": [],
      "collapsed_sections": [],
      "toc_visible": true
    },
    "kernelspec": {
      "name": "python3",
      "display_name": "Python 3"
    }
  },
  "cells": [
    {
      "cell_type": "markdown",
      "metadata": {
        "id": "hrgmAg_4-_0H"
      },
      "source": [
        "## Weather Temperature Forecasting\n"
      ]
    },
    {
      "cell_type": "markdown",
      "metadata": {
        "id": "HenXt06lb-Fe"
      },
      "source": [
        "The objective of this demo is to develop a Recurrent Neural Network (RNN) model for temperature forecasting.\n",
        "\n",
        "The dataset is available at: https://raw.githubusercontent.com/danrustia11/WeatherLSTM/master/data/weather_temperature_yilan.csv\n",
        "\n",
        "The dataset contains daily temperature recordings of Yilan,Taiwan. \n",
        "\n",
        "The learning outcomes of this demo are: \\\\\n",
        "1. Exploratory Data Analysis\n",
        "2. Data Preparation\n",
        "3. Model Development\n",
        "4. Hyperparameter tuning \n",
        "5. K-Fold Cross Validation\n",
        "6. Testing\n",
        "7. Visualizing Results\n",
        "8. Forecasting Temperature for Next 20 Days"
      ]
    },
    {
      "cell_type": "code",
      "metadata": {
        "id": "GveECwL2aV0q"
      },
      "source": [
        "#from google.colab import drive\n",
        "#drive.mount('/content/drive')"
      ],
      "execution_count": 54,
      "outputs": []
    },
    {
      "cell_type": "code",
      "metadata": {
        "id": "7W6MaL10lnca"
      },
      "source": [
        "# import the necessary libraries\n",
        "import numpy as np\n",
        "import matplotlib.pyplot as plt\n",
        "import pandas as pd\n",
        "import tensorflow as tf\n",
        "import sklearn\n",
        "from scipy.ndimage import gaussian_filter1d       # Gaussian Filter"
      ],
      "execution_count": 55,
      "outputs": []
    },
    {
      "cell_type": "markdown",
      "metadata": {
        "id": "Th_ihdE-geZz"
      },
      "source": [
        "The pseudorandom number works by starting with an integer called a seed and then generates numbers in succession. The same seed gives the same sequence of random numbers, hence the name \"pseudo\" random number generation. If you want to have reproducible code, it is good to seed the random number generator using the np.random.seed() function.\n",
        "\n",
        "Link: https://www.datacamp.com/community/tutorials/numpy-random"
      ]
    },
    {
      "cell_type": "code",
      "metadata": {
        "id": "M2JEiOvWeMxt"
      },
      "source": [
        "np.random.seed(1)\n",
        "#random_numbers = np.random.random(size=4)\n",
        "#random_numbers"
      ],
      "execution_count": 56,
      "outputs": []
    },
    {
      "cell_type": "code",
      "metadata": {
        "id": "YqSILUObe8yh"
      },
      "source": [
        "tf.random.set_seed(1)\n",
        "#random_numbers = tf.random.uniform(shape=[4])\n",
        "#random_numbers"
      ],
      "execution_count": 57,
      "outputs": []
    },
    {
      "cell_type": "code",
      "metadata": {
        "id": "94YEKw7PzZ6-"
      },
      "source": [
        "# we will download the dataset from the GitHub directly \n",
        "URL = \"https://raw.githubusercontent.com/danrustia11/WeatherLSTM/master/data/weather_temperature_yilan.csv\"\n",
        "data = pd.read_csv(URL)"
      ],
      "execution_count": 58,
      "outputs": []
    },
    {
      "cell_type": "markdown",
      "metadata": {
        "id": "7AuhU_UT_D7S"
      },
      "source": [
        "# Exploratory Data Analysis"
      ]
    },
    {
      "cell_type": "code",
      "metadata": {
        "id": "IfDfltn0z489",
        "outputId": "c9ef8990-fc14-41a9-e709-1edb4f5b3540",
        "colab": {
          "base_uri": "https://localhost:8080/",
          "height": 202
        }
      },
      "source": [
        "# observe the first 5 samples from the dataset\n",
        "data.head()"
      ],
      "execution_count": 59,
      "outputs": [
        {
          "output_type": "execute_result",
          "data": {
            "text/html": [
              "<div>\n",
              "<style scoped>\n",
              "    .dataframe tbody tr th:only-of-type {\n",
              "        vertical-align: middle;\n",
              "    }\n",
              "\n",
              "    .dataframe tbody tr th {\n",
              "        vertical-align: top;\n",
              "    }\n",
              "\n",
              "    .dataframe thead th {\n",
              "        text-align: right;\n",
              "    }\n",
              "</style>\n",
              "<table border=\"1\" class=\"dataframe\">\n",
              "  <thead>\n",
              "    <tr style=\"text-align: right;\">\n",
              "      <th></th>\n",
              "      <th>Date</th>\n",
              "      <th>Temperature</th>\n",
              "    </tr>\n",
              "  </thead>\n",
              "  <tbody>\n",
              "    <tr>\n",
              "      <th>0</th>\n",
              "      <td>2013/01/01</td>\n",
              "      <td>13.0</td>\n",
              "    </tr>\n",
              "    <tr>\n",
              "      <th>1</th>\n",
              "      <td>2013/01/02</td>\n",
              "      <td>20.0</td>\n",
              "    </tr>\n",
              "    <tr>\n",
              "      <th>2</th>\n",
              "      <td>2013/01/03</td>\n",
              "      <td>15.0</td>\n",
              "    </tr>\n",
              "    <tr>\n",
              "      <th>3</th>\n",
              "      <td>2013/01/04</td>\n",
              "      <td>15.0</td>\n",
              "    </tr>\n",
              "    <tr>\n",
              "      <th>4</th>\n",
              "      <td>2013/01/05</td>\n",
              "      <td>19.0</td>\n",
              "    </tr>\n",
              "  </tbody>\n",
              "</table>\n",
              "</div>"
            ],
            "text/plain": [
              "         Date  Temperature\n",
              "0  2013/01/01         13.0\n",
              "1  2013/01/02         20.0\n",
              "2  2013/01/03         15.0\n",
              "3  2013/01/04         15.0\n",
              "4  2013/01/05         19.0"
            ]
          },
          "metadata": {
            "tags": []
          },
          "execution_count": 59
        }
      ]
    },
    {
      "cell_type": "code",
      "metadata": {
        "id": "wC9fruwJz6pA",
        "outputId": "ad46b78b-a055-4fd9-a1fc-eabdea5fd9f0",
        "colab": {
          "base_uri": "https://localhost:8080/"
        }
      },
      "source": [
        "# get information about the dataset\n",
        "data.info()"
      ],
      "execution_count": 60,
      "outputs": [
        {
          "output_type": "stream",
          "text": [
            "<class 'pandas.core.frame.DataFrame'>\n",
            "RangeIndex: 2190 entries, 0 to 2189\n",
            "Data columns (total 2 columns):\n",
            " #   Column       Non-Null Count  Dtype  \n",
            "---  ------       --------------  -----  \n",
            " 0   Date         2190 non-null   object \n",
            " 1   Temperature  2190 non-null   float64\n",
            "dtypes: float64(1), object(1)\n",
            "memory usage: 34.3+ KB\n"
          ],
          "name": "stdout"
        }
      ]
    },
    {
      "cell_type": "code",
      "metadata": {
        "id": "vgyFDgPCz97L",
        "outputId": "96133ae1-1a8a-42d5-d380-03948bf89495",
        "colab": {
          "base_uri": "https://localhost:8080/",
          "height": 294
        }
      },
      "source": [
        "# print out the statistics of the dataset\n",
        "data.describe()"
      ],
      "execution_count": 61,
      "outputs": [
        {
          "output_type": "execute_result",
          "data": {
            "text/html": [
              "<div>\n",
              "<style scoped>\n",
              "    .dataframe tbody tr th:only-of-type {\n",
              "        vertical-align: middle;\n",
              "    }\n",
              "\n",
              "    .dataframe tbody tr th {\n",
              "        vertical-align: top;\n",
              "    }\n",
              "\n",
              "    .dataframe thead th {\n",
              "        text-align: right;\n",
              "    }\n",
              "</style>\n",
              "<table border=\"1\" class=\"dataframe\">\n",
              "  <thead>\n",
              "    <tr style=\"text-align: right;\">\n",
              "      <th></th>\n",
              "      <th>Temperature</th>\n",
              "    </tr>\n",
              "  </thead>\n",
              "  <tbody>\n",
              "    <tr>\n",
              "      <th>count</th>\n",
              "      <td>2190.000000</td>\n",
              "    </tr>\n",
              "    <tr>\n",
              "      <th>mean</th>\n",
              "      <td>24.910046</td>\n",
              "    </tr>\n",
              "    <tr>\n",
              "      <th>std</th>\n",
              "      <td>5.953617</td>\n",
              "    </tr>\n",
              "    <tr>\n",
              "      <th>min</th>\n",
              "      <td>7.800000</td>\n",
              "    </tr>\n",
              "    <tr>\n",
              "      <th>25%</th>\n",
              "      <td>20.000000</td>\n",
              "    </tr>\n",
              "    <tr>\n",
              "      <th>50%</th>\n",
              "      <td>25.000000</td>\n",
              "    </tr>\n",
              "    <tr>\n",
              "      <th>75%</th>\n",
              "      <td>30.000000</td>\n",
              "    </tr>\n",
              "    <tr>\n",
              "      <th>max</th>\n",
              "      <td>36.000000</td>\n",
              "    </tr>\n",
              "  </tbody>\n",
              "</table>\n",
              "</div>"
            ],
            "text/plain": [
              "       Temperature\n",
              "count  2190.000000\n",
              "mean     24.910046\n",
              "std       5.953617\n",
              "min       7.800000\n",
              "25%      20.000000\n",
              "50%      25.000000\n",
              "75%      30.000000\n",
              "max      36.000000"
            ]
          },
          "metadata": {
            "tags": []
          },
          "execution_count": 61
        }
      ]
    },
    {
      "cell_type": "code",
      "metadata": {
        "id": "4XmmYlfm0Fv4"
      },
      "source": [
        "# Separate Date and Temperature from the dataframe \"data\" \n",
        "temp = data['Temperature']\n",
        "date = data['Date']"
      ],
      "execution_count": 62,
      "outputs": []
    },
    {
      "cell_type": "code",
      "metadata": {
        "id": "KXluu3dnigoX",
        "outputId": "c717bd31-6279-491b-ac0e-2780feab62ac",
        "colab": {
          "base_uri": "https://localhost:8080/",
          "height": 313
        }
      },
      "source": [
        "# plot the temperature with and without filtering\n",
        "plt.figure()\n",
        "plt.plot(temp[:100])  # plot only first 100 values for better visualization\n",
        "plt.xlabel('day')\n",
        "plt.ylabel('temperature')\n",
        "plt.title(\"Unfiltered Data\")"
      ],
      "execution_count": 63,
      "outputs": [
        {
          "output_type": "execute_result",
          "data": {
            "text/plain": [
              "Text(0.5, 1.0, 'Unfiltered Data')"
            ]
          },
          "metadata": {
            "tags": []
          },
          "execution_count": 63
        },
        {
          "output_type": "display_data",
          "data": {
            "image/png": "[encoded data removed]",
            "text/plain": [
              "<Figure size 432x288 with 1 Axes>"
            ]
          },
          "metadata": {
            "tags": [],
            "needs_background": "light"
          }
        }
      ]
    },
    {
      "cell_type": "code",
      "metadata": {
        "id": "MsVXpbrQidg-"
      },
      "source": [
        "# filter the temperature values using a Gaussian filter with standard deviation (sigma) = 1\n",
        "filtered_temp = gaussian_filter1d(temp.values,sigma = 1)"
      ],
      "execution_count": 64,
      "outputs": []
    },
    {
      "cell_type": "code",
      "metadata": {
        "id": "Gona00jD0Mr7",
        "outputId": "edf85b6c-c0fe-44a3-fb1a-2699090984e8",
        "colab": {
          "base_uri": "https://localhost:8080/",
          "height": 313
        }
      },
      "source": [
        "plt.figure()\n",
        "plt.plot(filtered_temp[:100])\n",
        "plt.xlabel('day')\n",
        "plt.ylabel('temperature')\n",
        "plt.title(\"Filtered Data\")"
      ],
      "execution_count": 65,
      "outputs": [
        {
          "output_type": "execute_result",
          "data": {
            "text/plain": [
              "Text(0.5, 1.0, 'Filtered Data')"
            ]
          },
          "metadata": {
            "tags": []
          },
          "execution_count": 65
        },
        {
          "output_type": "display_data",
          "data": {
            "image/png": "[encoded data removed]",
            "text/plain": [
              "<Figure size 432x288 with 1 Axes>"
            ]
          },
          "metadata": {
            "tags": [],
            "needs_background": "light"
          }
        }
      ]
    },
    {
      "cell_type": "markdown",
      "metadata": {
        "id": "0zq6sS1i_XHr"
      },
      "source": [
        "# Data Preparation"
      ]
    },
    {
      "cell_type": "code",
      "metadata": {
        "id": "nUrIr9Jf0h5b"
      },
      "source": [
        "# split the data into training and testing set \n",
        "n_train = 1500      # number of samples to use for training data\n",
        "n_test = 500        # number of samples to use for test data\n",
        "\n",
        "training_set = pd.DataFrame(filtered_temp[0:n_train])     # get first 1500 samples as training data\n",
        "testing_set = pd.DataFrame(filtered_temp[n_train:n_train+n_test])   # get the next 500 samples as test data"
      ],
      "execution_count": 67,
      "outputs": []
    },
    {
      "cell_type": "code",
      "metadata": {
        "id": "h46eTZmy_eCv",
        "outputId": "2114ec87-c0f6-49b6-8ee2-6c130daf5ef2",
        "colab": {
          "base_uri": "https://localhost:8080/",
          "height": 198
        }
      },
      "source": [
        "testing_set.head()"
      ],
      "execution_count": null,
      "outputs": [
        {
          "output_type": "execute_result",
          "data": {
            "text/html": [
              "<div>\n",
              "<style scoped>\n",
              "    .dataframe tbody tr th:only-of-type {\n",
              "        vertical-align: middle;\n",
              "    }\n",
              "\n",
              "    .dataframe tbody tr th {\n",
              "        vertical-align: top;\n",
              "    }\n",
              "\n",
              "    .dataframe thead th {\n",
              "        text-align: right;\n",
              "    }\n",
              "</style>\n",
              "<table border=\"1\" class=\"dataframe\">\n",
              "  <thead>\n",
              "    <tr style=\"text-align: right;\">\n",
              "      <th></th>\n",
              "      <th>0</th>\n",
              "    </tr>\n",
              "  </thead>\n",
              "  <tbody>\n",
              "    <tr>\n",
              "      <th>0</th>\n",
              "      <td>14.874839</td>\n",
              "    </tr>\n",
              "    <tr>\n",
              "      <th>1</th>\n",
              "      <td>12.818810</td>\n",
              "    </tr>\n",
              "    <tr>\n",
              "      <th>2</th>\n",
              "      <td>12.526154</td>\n",
              "    </tr>\n",
              "    <tr>\n",
              "      <th>3</th>\n",
              "      <td>13.491234</td>\n",
              "    </tr>\n",
              "    <tr>\n",
              "      <th>4</th>\n",
              "      <td>15.368618</td>\n",
              "    </tr>\n",
              "  </tbody>\n",
              "</table>\n",
              "</div>"
            ],
            "text/plain": [
              "           0\n",
              "0  14.874839\n",
              "1  12.818810\n",
              "2  12.526154\n",
              "3  13.491234\n",
              "4  15.368618"
            ]
          },
          "metadata": {
            "tags": []
          },
          "execution_count": 131
        }
      ]
    },
    {
      "cell_type": "code",
      "metadata": {
        "id": "qcvjEoCa_pcs"
      },
      "source": [
        "# scale the data to (0,1) using MinMaxScaler\n",
        "from sklearn.preprocessing import MinMaxScaler\n",
        "\n",
        "# define an instance of MinMaxScaler\n",
        "sc = MinMaxScaler(feature_range = (0, 1))     # feature range = scale all input data to this range\n",
        "\n",
        "# scale the training and testing set \n",
        "training_set_scaled = sc.fit_transform(training_set)\n",
        "testing_set_scaled = sc.fit_transform(testing_set)"
      ],
      "execution_count": 69,
      "outputs": []
    },
    {
      "cell_type": "code",
      "metadata": {
        "id": "IBNSR-aeSh_M",
        "outputId": "247debf4-80b6-49c3-ebe9-d8fa0542a5a2",
        "colab": {
          "base_uri": "https://localhost:8080/"
        }
      },
      "source": [
        "testing_set_scaled[:5]"
      ],
      "execution_count": 70,
      "outputs": [
        {
          "output_type": "execute_result",
          "data": {
            "text/plain": [
              "array([[0.20238029],\n",
              "       [0.11822657],\n",
              "       [0.10624809],\n",
              "       [0.14574904],\n",
              "       [0.22259075]])"
            ]
          },
          "metadata": {
            "tags": []
          },
          "execution_count": 70
        }
      ]
    },
    {
      "cell_type": "markdown",
      "metadata": {
        "id": "Xo2iKAp_T7wq"
      },
      "source": [
        "The dataset is in the form of a timeseries. In order to convert this data into a supervised dataset (input and output pair) we need to perform the following modification. We will use the previous 10 days' data to predict the next day's output.\n",
        "\n",
        "For i=0,1,2,3...\n",
        "  1. Set the temperature values from t=i to t=i+9 as input sample/sequence (X)\n",
        "  2. Set the temperature value at t=i+10 as the true predicted temperature (y)"
      ]
    },
    {
      "cell_type": "code",
      "metadata": {
        "id": "ryHnZxSR_-26"
      },
      "source": [
        "# define a function to convert series to supervised data\n",
        "def data_split(sequence, n_timestamp):\n",
        "    X = []    # define an empty list to store input values X\n",
        "    y = []    # define an empty list to store output values y\n",
        "    for i in range(len(sequence)-n_timestamp):    # loop through all the samples (subtract n_timestamp so that for the last loop, the output value is the last element of the sequence)\n",
        "        end_ix = i + n_timestamp      # get the last index\n",
        "\n",
        "        seq_x, seq_y = sequence[i:end_ix], sequence[end_ix]   # get the data in the required format\n",
        "        X.append(seq_x)     # add the sequence to X\n",
        "        y.append(seq_y)     # add the true output to y\n",
        "    return np.array(X), np.array(y)   # return numpy array of X and y"
      ],
      "execution_count": 72,
      "outputs": []
    },
    {
      "cell_type": "code",
      "metadata": {
        "id": "g5rbbSEPA2-b"
      },
      "source": [
        "# get the training and test input and output in the required format\n",
        "n_timestamp = 10 # use previous n days' temperature to predict the next day's temperature\n",
        "X_train, y_train = data_split(training_set_scaled, n_timestamp)\n",
        "X_test, y_test = data_split(testing_set_scaled, n_timestamp)"
      ],
      "execution_count": 74,
      "outputs": []
    },
    {
      "cell_type": "code",
      "metadata": {
        "id": "j6ZzWx6iA_2w",
        "outputId": "fd68751e-9302-4e7f-c6ba-70010daf2f30",
        "colab": {
          "base_uri": "https://localhost:8080/"
        }
      },
      "source": [
        "print(\"input sequence: \\n\",X_train[0])\n",
        "print(\"output:\",y_train[0])"
      ],
      "execution_count": 76,
      "outputs": [
        {
          "output_type": "stream",
          "text": [
            "input sequence: \n",
            " [[0.21301404]\n",
            " [0.26537985]\n",
            " [0.2605344 ]\n",
            " [0.26639045]\n",
            " [0.32536165]\n",
            " [0.37044179]\n",
            " [0.37101891]\n",
            " [0.32386353]\n",
            " [0.25698295]\n",
            " [0.2262176 ]]\n",
            "output: [0.268683]\n"
          ],
          "name": "stdout"
        }
      ]
    },
    {
      "cell_type": "markdown",
      "metadata": {
        "id": "w54QfKJo_gIb"
      },
      "source": [
        "# Model Development"
      ]
    },
    {
      "cell_type": "markdown",
      "metadata": {
        "id": "nGgkJXvGGO59"
      },
      "source": [
        "**Model Architecture:**"
      ]
    },
    {
      "cell_type": "markdown",
      "metadata": {
        "id": "RwD-59qnCZ5b"
      },
      "source": [
        "We will develop a LSTM model for the task of forecasting.\n",
        "\n",
        "The LSTM layer can be added by using the command \"tf.keras.layers.LSTM()\". The arguments of the function are:\n",
        "1. units = size of the hidden state (h) vector \n",
        "2. activation = activation function used inside the LSTM cell\n",
        "3. return_sequences= Whether to return the last output in the output\n",
        "sequence, or the full sequence. This is set to \"True\" when the model has more than one LSTM layers.\n",
        "\n",
        "The output layer uses a Dense Network with 1 output neuron. \n",
        "We use the tf.keras.layers.Dense() function to add a Dense layer. The activation function used for the output layer is sigmoid. The input temperature values were scaled to (0,1), hence we want the output temperature values also in the same range."
      ]
    },
    {
      "cell_type": "code",
      "metadata": {
        "id": "iWUlEYeCBBBS",
        "outputId": "3d3c8a1b-c692-4411-a70c-deff62826c59",
        "colab": {
          "base_uri": "https://localhost:8080/"
        }
      },
      "source": [
        "# build the LSTM model\n",
        "\n",
        "model = tf.keras.Sequential()   #create a Sequential model\n",
        "model.add(tf.keras.layers.LSTM(units=50,activation='relu',return_sequences=True,input_shape=(X_train.shape[1], 1))) #Add LSTM layer\n",
        "model.add(tf.keras.layers.LSTM(units=50,activation='relu'))   # Add LSTM layer\n",
        "model.add(tf.keras.layers.Dense(units=1,activation='sigmoid'))  # output dense layer.\n",
        "model.summary()"
      ],
      "execution_count": 77,
      "outputs": [
        {
          "output_type": "stream",
          "text": [
            "Model: \"sequential\"\n",
            "_________________________________________________________________\n",
            "Layer (type)                 Output Shape              Param #   \n",
            "=================================================================\n",
            "lstm (LSTM)                  (None, 10, 50)            10400     \n",
            "_________________________________________________________________\n",
            "lstm_1 (LSTM)                (None, 50)                20200     \n",
            "_________________________________________________________________\n",
            "dense (Dense)                (None, 1)                 51        \n",
            "=================================================================\n",
            "Total params: 30,651\n",
            "Trainable params: 30,651\n",
            "Non-trainable params: 0\n",
            "_________________________________________________________________\n"
          ],
          "name": "stdout"
        }
      ]
    },
    {
      "cell_type": "code",
      "metadata": {
        "id": "e_pmMMksowSm",
        "outputId": "1f15d7e1-2d83-4cf4-f141-bccf06c12082",
        "colab": {
          "base_uri": "https://localhost:8080/",
          "height": 369
        }
      },
      "source": [
        "tf.keras.utils.plot_model(model)"
      ],
      "execution_count": 78,
      "outputs": [
        {
          "output_type": "execute_result",
          "data": {
            "image/png": "[encoded data removed]",
            "text/plain": [
              "<IPython.core.display.Image object>"
            ]
          },
          "metadata": {
            "tags": []
          },
          "execution_count": 78
        }
      ]
    },
    {
      "cell_type": "markdown",
      "metadata": {
        "id": "b_a1cOgUGWqM"
      },
      "source": [
        "**Configure and train the model**"
      ]
    },
    {
      "cell_type": "markdown",
      "metadata": {
        "id": "JarvpvsbFVfy"
      },
      "source": [
        "We will use Adam as the optimizer. It can be defined by using the function tf.keras.optimizers.Adam(). The arguments are: \\\\\n",
        "1. learning_rate = initial learning rate\n",
        "2. beta_1 = 0.9 \n",
        "3. beta_2 = 0.999\n",
        "4. epsilon = 10^(-8) \n",
        "\n",
        "Since this is a regression problem, we will use the Mean Squared Error (MSE) as our loss function. \n",
        "\n",
        "The model is trained for 25 epochs with a batch size of 32."
      ]
    },
    {
      "cell_type": "code",
      "metadata": {
        "id": "B9HoWad9KY2r",
        "outputId": "1586fac6-5ef3-4db9-b631-43b8ea35e8bb",
        "colab": {
          "base_uri": "https://localhost:8080/"
        }
      },
      "source": [
        "optimizer = tf.keras.optimizers.Adam(learning_rate=0.001, beta_1=0.9, beta_2=0.999, epsilon=1e-8) # define the optimizer\n",
        "model.compile(optimizer = optimizer, loss = 'mean_squared_error')   \n",
        "history = model.fit(X_train, y_train, validation_data=(X_test,y_test), epochs = 25, batch_size = 32)  # start the training process"
      ],
      "execution_count": 79,
      "outputs": [
        {
          "output_type": "stream",
          "text": [
            "Epoch 1/25\n",
            "47/47 [==============================] - 1s 18ms/step - loss: 0.0581 - val_loss: 0.0353\n",
            "Epoch 2/25\n",
            "47/47 [==============================] - 1s 12ms/step - loss: 0.0199 - val_loss: 0.0153\n",
            "Epoch 3/25\n",
            "47/47 [==============================] - 1s 11ms/step - loss: 0.0120 - val_loss: 0.0120\n",
            "Epoch 4/25\n",
            "47/47 [==============================] - 1s 11ms/step - loss: 0.0113 - val_loss: 0.0113\n",
            "Epoch 5/25\n",
            "47/47 [==============================] - 1s 12ms/step - loss: 0.0104 - val_loss: 0.0109\n",
            "Epoch 6/25\n",
            "47/47 [==============================] - 1s 12ms/step - loss: 0.0096 - val_loss: 0.0098\n",
            "Epoch 7/25\n",
            "47/47 [==============================] - 1s 11ms/step - loss: 0.0094 - val_loss: 0.0096\n",
            "Epoch 8/25\n",
            "47/47 [==============================] - 1s 11ms/step - loss: 0.0089 - val_loss: 0.0106\n",
            "Epoch 9/25\n",
            "47/47 [==============================] - 1s 11ms/step - loss: 0.0083 - val_loss: 0.0084\n",
            "Epoch 10/25\n",
            "47/47 [==============================] - 1s 11ms/step - loss: 0.0084 - val_loss: 0.0080\n",
            "Epoch 11/25\n",
            "47/47 [==============================] - 1s 11ms/step - loss: 0.0068 - val_loss: 0.0100\n",
            "Epoch 12/25\n",
            "47/47 [==============================] - 1s 11ms/step - loss: 0.0063 - val_loss: 0.0070\n",
            "Epoch 13/25\n",
            "47/47 [==============================] - 1s 11ms/step - loss: 0.0058 - val_loss: 0.0056\n",
            "Epoch 14/25\n",
            "47/47 [==============================] - 1s 11ms/step - loss: 0.0048 - val_loss: 0.0057\n",
            "Epoch 15/25\n",
            "47/47 [==============================] - 1s 11ms/step - loss: 0.0044 - val_loss: 0.0044\n",
            "Epoch 16/25\n",
            "47/47 [==============================] - 1s 12ms/step - loss: 0.0037 - val_loss: 0.0037\n",
            "Epoch 17/25\n",
            "47/47 [==============================] - 1s 11ms/step - loss: 0.0042 - val_loss: 0.0036\n",
            "Epoch 18/25\n",
            "47/47 [==============================] - 1s 11ms/step - loss: 0.0033 - val_loss: 0.0034\n",
            "Epoch 19/25\n",
            "47/47 [==============================] - 1s 11ms/step - loss: 0.0031 - val_loss: 0.0030\n",
            "Epoch 20/25\n",
            "47/47 [==============================] - 1s 13ms/step - loss: 0.0027 - val_loss: 0.0033\n",
            "Epoch 21/25\n",
            "47/47 [==============================] - 1s 12ms/step - loss: 0.0025 - val_loss: 0.0027\n",
            "Epoch 22/25\n",
            "47/47 [==============================] - 1s 11ms/step - loss: 0.0023 - val_loss: 0.0029\n",
            "Epoch 23/25\n",
            "47/47 [==============================] - 1s 11ms/step - loss: 0.0021 - val_loss: 0.0028\n",
            "Epoch 24/25\n",
            "47/47 [==============================] - 1s 13ms/step - loss: 0.0020 - val_loss: 0.0023\n",
            "Epoch 25/25\n",
            "47/47 [==============================] - 1s 11ms/step - loss: 0.0019 - val_loss: 0.0026\n"
          ],
          "name": "stdout"
        }
      ]
    },
    {
      "cell_type": "markdown",
      "metadata": {
        "id": "jI8mm9gA2_MF"
      },
      "source": [
        "# Hyperparameter Tuning"
      ]
    },
    {
      "cell_type": "markdown",
      "metadata": {
        "id": "BJzPLHDB6KKd"
      },
      "source": [
        "Methods of Hyperparameter tuning: \\\\\n",
        "1. Manual Search\n",
        "2. Grid Search\n",
        "3. Random Search\n",
        "\n",
        "We will use the manual search method to compare the performance of the model on different optimizers. \\\\\n",
        "1. SGD\n",
        "2. SGD + Momentum\n",
        "3. Adam"
      ]
    },
    {
      "cell_type": "code",
      "metadata": {
        "id": "UQWJgUR42-dD"
      },
      "source": [
        "optimizers = [tf.keras.optimizers.SGD(learning_rate=0.01,momentum=0.0),tf.keras.optimizers.SGD(learning_rate=0.01,momentum=0.9),\n",
        "              tf.keras.optimizers.Adam(learning_rate=0.001, beta_1=0.9, beta_2=0.999, epsilon=1e-08)]     # define a list of optimizers\n",
        "\n",
        "history_list=[]   # define an empty list to store the results\n",
        "for optimizer in optimizers:\n",
        "  # build the model architecture\n",
        "  model1 = tf.keras.Sequential()\n",
        "  model1.add(tf.keras.layers.LSTM(units=50,activation='relu',return_sequences=True,input_shape=(X_train.shape[1], 1)))\n",
        "  model1.add(tf.keras.layers.LSTM(units=50,activation='relu'))\n",
        "  model1.add(tf.keras.layers.Dense(units=1,activation='sigmoid'))\n",
        "  \n",
        "  # set the optimizer and loss function\n",
        "  model1.compile(optimizer = optimizer, loss = 'mean_squared_error')\n",
        "  \n",
        "  # train the model on training and validation data\n",
        "  history = model1.fit(X_train, y_train, validation_data=(X_test,y_test), epochs = 25, batch_size = 32, verbose=0)\n",
        "  history_list.append(history)      # append the results to the list"
      ],
      "execution_count": 80,
      "outputs": []
    },
    {
      "cell_type": "code",
      "metadata": {
        "id": "WQBjFt9F39no",
        "outputId": "b508d3b5-ba12-44de-e872-51857dc9ed8c",
        "colab": {
          "base_uri": "https://localhost:8080/",
          "height": 367
        }
      },
      "source": [
        "# plot the training and validation loss for all the optimizers\n",
        "\n",
        "sgd = history_list[0]     \n",
        "sgd_mom = history_list[1]\n",
        "adam = history_list[2]\n",
        "\n",
        "# plot for training loss\n",
        "plt.figure(figsize=(10,5))\n",
        "plt.subplot(1,2,1)\n",
        "plt.plot(sgd.history['loss'],label='sgd')\n",
        "plt.plot(sgd_mom.history['loss'],label='sgd+momentum')\n",
        "plt.plot(adam.history['loss'],label='Adam')\n",
        "plt.xlabel(\"number of epochs\")\n",
        "plt.ylabel(\"loss\")\n",
        "plt.title(\"Training Loss\")\n",
        "plt.legend()\n",
        "\n",
        "# plot for validation loss\n",
        "plt.subplot(1,2,2)\n",
        "plt.plot(sgd.history['val_loss'],label='sgd')\n",
        "plt.plot(sgd_mom.history['val_loss'],label='sgd+momentum')\n",
        "plt.plot(adam.history['val_loss'],label='Adam')\n",
        "plt.xlabel(\"number of epochs\")\n",
        "plt.ylabel(\"loss\")\n",
        "plt.title(\"Validation Loss\")\n",
        "plt.legend()"
      ],
      "execution_count": 82,
      "outputs": [
        {
          "output_type": "execute_result",
          "data": {
            "text/plain": [
              "<matplotlib.legend.Legend at 0x7f91f2c77198>"
            ]
          },
          "metadata": {
            "tags": []
          },
          "execution_count": 82
        },
        {
          "output_type": "display_data",
          "data": {
            "image/png": "[encoded data removed]",
            "text/plain": [
              "<Figure size 720x360 with 2 Axes>"
            ]
          },
          "metadata": {
            "tags": [],
            "needs_background": "light"
          }
        }
      ]
    },
    {
      "cell_type": "markdown",
      "metadata": {
        "id": "XBDLhWzJvWsZ"
      },
      "source": [
        "We will use the Grid Search method for finding the best set of hyperparameters.\n",
        "\n",
        "The hyperparameters to tune are:\n",
        "1. Number of LSTM layers (N)\n",
        "2. LSTM cell activation function (A)\n",
        "3. batch size (B)\n",
        "\n",
        "The grid is of the form [ N,A,B]"
      ]
    },
    {
      "cell_type": "code",
      "metadata": {
        "id": "C8fu6QHA4WBU"
      },
      "source": [
        "from sklearn.metrics import r2_score\n",
        "\n",
        "grid_list = [[1,'tanh',16],[2,'relu',32],[1,'relu',16],[1,'tanh',32]]   # define a grid of hyperparameters\n",
        "R2_list=[]    # create an empty list to store all R2 values\n",
        "for grid in grid_list:\n",
        "  N = grid[0]   # number of LSTM layers\n",
        "  A = grid[1]   # activation function\n",
        "  B = grid[2]   # batch size\n",
        "\n",
        "  # build the model architecture\n",
        "  '''\n",
        "  If the model has more than one LSTM layers, then we need to have the 'return_sequences' argument set as True for all but the last LSTM layer\n",
        "  '''\n",
        "  model1 = tf.keras.Sequential()\n",
        "  if N==1:\n",
        "      model1.add(tf.keras.layers.LSTM(units=50,activation=A))   # the length of the hidden state vector is 50\n",
        "  else:\n",
        "    for i in range(N-1):\n",
        "      model1.add(tf.keras.layers.LSTM(units=50,activation=A,return_sequences=True))   # add LSTM layers with 'return_sequence' set as True\n",
        "    \n",
        "    model1.add(tf.keras.layers.LSTM(units=50,activation=A))     # the last LSTM layer\n",
        "  \n",
        "  model1.add(tf.keras.layers.Dense(units=1,activation='sigmoid'))\n",
        "  \n",
        "  # set the optimizer and loss function\n",
        "  model1.compile(optimizer = 'adam', loss = 'mean_squared_error')\n",
        "  \n",
        "  # train the model on training and validation data\n",
        "  history = model1.fit(X_train, y_train, validation_data=(X_test,y_test), epochs = 25, batch_size = B, verbose=0)\n",
        "  y_predicted = model1.predict(X_test)\n",
        "  y_predicted_descaled = sc.inverse_transform(y_predicted)    # use MimMaxScaler's inverse transform function\n",
        "  y_test_descaled = sc.inverse_transform(y_test)\n",
        "  y_pred = y_predicted.ravel()        # ravel - convert from column format to row format\n",
        "  y_pred = [round(yx, 2) for yx in y_pred]    # round off all values to two decimal points\n",
        "  y_tested = y_test.ravel()\n",
        "\n",
        "  score = r2_score(y_tested,y_pred)\n",
        "  R2_list.append(score)\n"
      ],
      "execution_count": 84,
      "outputs": []
    },
    {
      "cell_type": "code",
      "metadata": {
        "id": "5fdQEhxLz4kO",
        "outputId": "b763856a-c02f-46e9-8897-f976dac1a923",
        "colab": {
          "base_uri": "https://localhost:8080/"
        }
      },
      "source": [
        "print(\"best grid of hyperparameters: \\n\")\n",
        "print(grid_list[np.argmax(R2_list)])\n",
        "print(\"R2 score:\",np.max(R2_list))"
      ],
      "execution_count": 85,
      "outputs": [
        {
          "output_type": "stream",
          "text": [
            "best grid of hyperparameters: \n",
            "\n",
            "[2, 'relu', 32]\n",
            "R2 score: 0.9497151399658986\n"
          ],
          "name": "stdout"
        }
      ]
    },
    {
      "cell_type": "markdown",
      "metadata": {
        "id": "bSLzZhgv4PAy"
      },
      "source": [
        "# K-Fold Cross Validation"
      ]
    },
    {
      "cell_type": "markdown",
      "metadata": {
        "id": "tkE3j-ZPBNF-"
      },
      "source": [
        "Cross Validation is a technique which involves reserving a particular sample of the dataset on which we do not train the model. \n",
        "\n",
        "This sample is called the validation set which is used to validate the performance of the trained model.\n",
        "\n",
        "K-Fold Cross Validation is a cross validation technique in which the dataset is divided into K equal parts. In each iteration one part is reserved as the validation set and the remaining K-1 parts are used as training set.\n",
        "\n",
        "![image.png](data:image/png;base64,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)\n",
        "\n",
        "The overall performance of the model is equal to the average of the performance of the model on each validation set."
      ]
    },
    {
      "cell_type": "code",
      "metadata": {
        "id": "oeLhw_ma1Bm0",
        "outputId": "01232eda-305d-42bc-8699-d5337b11354e",
        "colab": {
          "base_uri": "https://localhost:8080/"
        }
      },
      "source": [
        "# combine the originally split train and test dataset to make 1 single dataset\n",
        "X = np.vstack((X_train,X_test))   # vstack will stack one array below the other\n",
        "y = np.vstack((y_train,y_test))\n",
        "\n",
        "print(\"length of X: \",len(X))"
      ],
      "execution_count": 90,
      "outputs": [
        {
          "output_type": "stream",
          "text": [
            "length of X:  1980\n"
          ],
          "name": "stdout"
        }
      ]
    },
    {
      "cell_type": "code",
      "metadata": {
        "id": "OkeCN-m04fWx"
      },
      "source": [
        "# define a function that will build the required model\n",
        "def baseline_model():\n",
        "  model = tf.keras.Sequential()\n",
        "  model.add(tf.keras.layers.LSTM(units=50,activation='relu',return_sequences=True,input_shape=(X_train.shape[1], 1)))\n",
        "  model.add(tf.keras.layers.LSTM(units=50,activation='relu'))\n",
        "  model.add(tf.keras.layers.Dense(units=1,activation='sigmoid'))\n",
        "\n",
        "  model.compile(loss='mse', optimizer='adam')\n",
        "  return model"
      ],
      "execution_count": 91,
      "outputs": []
    },
    {
      "cell_type": "code",
      "metadata": {
        "id": "PH4Ty4b75FTZ",
        "outputId": "3fd44310-cf01-40c5-b166-b5da79d6c44d",
        "colab": {
          "base_uri": "https://localhost:8080/"
        }
      },
      "source": [
        "from sklearn.model_selection import KFold   # we will use the KFold function from the sklearn library\n",
        "n_split=10      # define number of folds\n",
        "Score_list =[]  # create an empty list to store the values\n",
        "\n",
        "'''\n",
        "KFold(n_split).split(X) - this function will return the indices of the elements that are part of the training set and the test set for every\n",
        "iteration.\n",
        "'''\n",
        "for train_index,test_index in KFold(n_split).split(X):    #run the loop for n folds\n",
        "  print(\"training dataset indices:\",train_index)          # print the indices included in the training set for the current fold\n",
        "  print(\"testing dataset indices\",test_index)             # print the indices included in the testing set for the current fold\n",
        "  x_train,x_test=X[train_index],X[test_index]             # split the dataset(samples) in training and testing\n",
        "  Y_train,Y_test=y[train_index],y[test_index]             # split the dataset(output) into training and testing\n",
        "  \n",
        "  model1=baseline_model()            # build the model\n",
        "  model1.fit(x_train, Y_train,epochs=20,batch_size=32,verbose=0)   #train the model\n",
        "  y_pred = model.predict(x_test)    # predict output for test data\n",
        "\n",
        "  score =r2_score(Y_test,y_pred)    # get R2 score\n",
        "  print(\"R2 score: \",score)\n",
        "  Score_list.append(score)          # add R2 score to the list"
      ],
      "execution_count": 93,
      "outputs": [
        {
          "output_type": "stream",
          "text": [
            "R2 score:  0.9418579625081721\n",
            "R2 score:  0.97108727751612\n",
            "R2 score:  0.9588369292632739\n",
            "R2 score:  0.9624277415605144\n",
            "R2 score:  0.9122836499729887\n",
            "R2 score:  0.9163507016887912\n",
            "R2 score:  0.8569055774744758\n",
            "R2 score:  0.8759975365646859\n",
            "R2 score:  0.9385598091165\n",
            "R2 score:  0.9413468743602611\n"
          ],
          "name": "stdout"
        }
      ]
    },
    {
      "cell_type": "code",
      "metadata": {
        "id": "P2kpwIVB93SH",
        "outputId": "b1603f35-2f65-4dd3-e8c1-d03d7f7d2806",
        "colab": {
          "base_uri": "https://localhost:8080/"
        }
      },
      "source": [
        "Overall_R2 = np.mean(Score_list)\n",
        "print(\"Overall R2 score after K-Fold CV: \",Overall_R2)"
      ],
      "execution_count": null,
      "outputs": [
        {
          "output_type": "stream",
          "text": [
            "Overall R2 score after K-Fold CV:  0.9275654060025783\n"
          ],
          "name": "stdout"
        }
      ]
    },
    {
      "cell_type": "markdown",
      "metadata": {
        "id": "SByYhroh_mdE"
      },
      "source": [
        "# Testing"
      ]
    },
    {
      "cell_type": "markdown",
      "metadata": {
        "id": "o5QuKeFeb2V7"
      },
      "source": [
        "The model is tested on the originally split test set containing 500 samples. "
      ]
    },
    {
      "cell_type": "code",
      "metadata": {
        "id": "ZA6oBNCHJ2dK"
      },
      "source": [
        "# predict the temperature\n",
        "y_predicted = model.predict(X_test)"
      ],
      "execution_count": null,
      "outputs": []
    },
    {
      "cell_type": "markdown",
      "metadata": {
        "id": "DWwxIKxvV89l"
      },
      "source": [
        "De-normalize the output to get temperature values\n",
        "\n",
        "We will convert back the temperature values from (0,1) to the original range. To do this we will use the \"MinMaxScaler.inverse_transform\" function"
      ]
    },
    {
      "cell_type": "code",
      "metadata": {
        "id": "iG_y2Z7KV4Fu"
      },
      "source": [
        "y_predicted_descaled = sc.inverse_transform(y_predicted)    # use MimMaxScaler's inverse transform function\n",
        "y_train_descaled = sc.inverse_transform(y_train)\n",
        "y_test_descaled = sc.inverse_transform(y_test)\n",
        "y_pred = y_predicted.ravel()        # ravel - convert from column format to row format\n",
        "y_pred = [round(yx, 2) for yx in y_pred]    # round off all values to two decimal points\n",
        "y_tested = y_test.ravel()"
      ],
      "execution_count": null,
      "outputs": []
    },
    {
      "cell_type": "markdown",
      "metadata": {
        "id": "fVghxhfwYRV6"
      },
      "source": [
        "# Results"
      ]
    },
    {
      "cell_type": "markdown",
      "metadata": {
        "id": "z9Cm54zOGqXx"
      },
      "source": [
        "**Training and Validation Loss**"
      ]
    },
    {
      "cell_type": "code",
      "metadata": {
        "id": "FYZ4q5CNlPk-",
        "outputId": "2324c02f-6151-4a7e-e37a-355f3a0e3cc4",
        "colab": {
          "base_uri": "https://localhost:8080/",
          "height": 297
        }
      },
      "source": [
        "# Loss \n",
        "plt.plot(history.history['loss'],label='training loss')\n",
        "plt.plot(history.history['val_loss'],label='validation loss')\n",
        "plt.xlabel('Number of Epochs')\n",
        "plt.ylabel(\"MSE Loss\")\n",
        "plt.legend()"
      ],
      "execution_count": null,
      "outputs": [
        {
          "output_type": "execute_result",
          "data": {
            "text/plain": [
              "<matplotlib.legend.Legend at 0x7f16f0ba88d0>"
            ]
          },
          "metadata": {
            "tags": []
          },
          "execution_count": 149
        },
        {
          "output_type": "display_data",
          "data": {
            "image/png": "[encoded data removed]",
            "text/plain": [
              "<Figure size 432x288 with 1 Axes>"
            ]
          },
          "metadata": {
            "tags": [],
            "needs_background": "light"
          }
        }
      ]
    },
    {
      "cell_type": "markdown",
      "metadata": {
        "id": "j3PBcweEHECY"
      },
      "source": [
        "**Output Visualization**"
      ]
    },
    {
      "cell_type": "code",
      "metadata": {
        "id": "41T6KSjLJ3cX",
        "outputId": "cbc9f570-013e-41fa-d0bd-fe5a41381487",
        "colab": {
          "base_uri": "https://localhost:8080/",
          "height": 316
        }
      },
      "source": [
        "plt.figure(figsize=(8,7))\n",
        "\n",
        "# plot the entire timeseries\n",
        "plt.subplot(3, 1, 1)\n",
        "plt.plot(filtered_temp, color = 'black', linewidth=1, label = 'True value')\n",
        "plt.ylabel(\"Temperature\")\n",
        "plt.xlabel(\"Day\")\n",
        "plt.title(\"All data\")\n",
        "\n",
        "# plot the testing data and the predicted values of temperature\n",
        "plt.subplot(3, 2, 3)\n",
        "plt.plot(y_test_descaled, color = 'black', linewidth=1, label = 'True value')   # training temeperature data\n",
        "plt.plot(y_predicted_descaled, color = 'red',  linewidth=1, label = 'Predicted')  # predicted data\n",
        "plt.legend()\n",
        "plt.ylabel(\"Temperature\")\n",
        "plt.xlabel(\"Day\")\n",
        "plt.title(\"Predicted data (n days)\")\n",
        "\n",
        "# plot only the first 100 testing data for better visualization\n",
        "plt.subplot(3, 2, 4)\n",
        "plt.plot(y_test_descaled[0:100], color = 'black', linewidth=1, label = 'True value')  # training temeperature data\n",
        "plt.plot(y_predicted_descaled[0:100], color = 'red', label = 'Predicted')  # predicted data\n",
        "plt.legend()\n",
        "plt.ylabel(\"Temperature\")\n",
        "plt.xlabel(\"Day\")\n",
        "plt.title(\"Predicted data (first 100 days)\")\n",
        "\n",
        "plt.subplots_adjust(hspace = 0.5, wspace=0.3)   # adjust the subplots to keep space between them\n",
        "plt.show()"
      ],
      "execution_count": null,
      "outputs": [
        {
          "output_type": "display_data",
          "data": {
            "image/png": "[encoded data removed]",
            "text/plain": [
              "<Figure size 576x504 with 3 Axes>"
            ]
          },
          "metadata": {
            "tags": [],
            "needs_background": "light"
          }
        }
      ]
    },
    {
      "cell_type": "markdown",
      "metadata": {
        "id": "XEbssajfYjQr"
      },
      "source": [
        "# Forecasting temperature "
      ]
    },
    {
      "cell_type": "markdown",
      "metadata": {
        "id": "plNZW9BMACNH"
      },
      "source": [
        "Now we will predict the the temperature for the next 20 days using the trained model. There is a slight difference between the testing and forecasting the values. \n",
        "\n",
        "In testing we use the true values of the input sequence in order to predict the temperature for the next day. \n",
        "\n",
        "However in forecasting, we do not have true temperature values for the 20 days in the future. For prediction of each day in the future, we make use of the temperature values predicted for the previous days.\n",
        "\n",
        "The input for each day will be the temperature of the 10 previous days."
      ]
    },
    {
      "cell_type": "code",
      "metadata": {
        "id": "cQavlBvBJ9ay"
      },
      "source": [
        "new_filtered_temp = filtered_temp.copy()    # create a copy to avoid tampering with the original dataset\n",
        "for i in range(20):   #run the loop 20 times \n",
        "  input = pd.DataFrame(new_filtered_temp[-10:]) # get the last 10 values as the input\n",
        "  scaled_input = sc.fit_transform(input)    # scale the input\n",
        "  output = model.predict(scaled_input.reshape(1,scaled_input.shape[0],scaled_input.shape[1]))   # need to reshape the input according to the format accepted by TensorFlow\n",
        "  output = sc.inverse_transform(output)       # denormalize the output to get the temperature values\n",
        "  new_filtered_temp = np.append(new_filtered_temp,output)     # add the temeprature value to the temperature list.."
      ],
      "execution_count": 94,
      "outputs": []
    },
    {
      "cell_type": "markdown",
      "metadata": {
        "id": "TDsXIP0IBsbi"
      },
      "source": [
        "Plot the Results\n",
        "\n",
        "The plot in black is the true temperature of past 90 days measured by a sensor. The plot in red is the predicted value of the temperature for the next 20 days."
      ]
    },
    {
      "cell_type": "code",
      "metadata": {
        "id": "IwpPNQVtZF1U",
        "outputId": "3266e0c1-1482-41d9-b8c2-97b3e7dca2f0",
        "colab": {
          "base_uri": "https://localhost:8080/",
          "height": 297
        }
      },
      "source": [
        "t = range(len(new_filtered_temp[2100:]))    # define x-axis for plotting\n",
        "plt.plot(t[0:90],new_filtered_temp[2100:2190], color = 'black', linewidth=1,label='measured temperature') # plot the measured temperatures\n",
        "plt.plot(t[89:],new_filtered_temp[2189:],color = 'red',label='predicted temperature for next 20 days')    # plot the predicted temperatures\n",
        "plt.xlabel('day')\n",
        "plt.ylabel(\"temperature\")\n",
        "plt.legend()"
      ],
      "execution_count": 96,
      "outputs": [
        {
          "output_type": "execute_result",
          "data": {
            "text/plain": [
              "<matplotlib.legend.Legend at 0x7f91ee5f8a90>"
            ]
          },
          "metadata": {
            "tags": []
          },
          "execution_count": 96
        },
        {
          "output_type": "display_data",
          "data": {
            "image/png": "[encoded data removed]",
            "text/plain": [
              "<Figure size 432x288 with 1 Axes>"
            ]
          },
          "metadata": {
            "tags": [],
            "needs_background": "light"
          }
        }
      ]
    }
  ]
}